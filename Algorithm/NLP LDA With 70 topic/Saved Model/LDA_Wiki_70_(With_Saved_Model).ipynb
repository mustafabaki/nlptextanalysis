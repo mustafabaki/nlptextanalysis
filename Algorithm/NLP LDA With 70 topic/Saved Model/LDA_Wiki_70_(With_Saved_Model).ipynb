{
  "nbformat": 4,
  "nbformat_minor": 0,
  "metadata": {
    "colab": {
      "name": "LDA Wiki 70 (With Saved Model).ipynb",
      "provenance": []
    },
    "kernelspec": {
      "name": "python3",
      "display_name": "Python 3"
    },
    "language_info": {
      "name": "python"
    }
  },
  "cells": [
    {
      "cell_type": "code",
      "metadata": {
        "colab": {
          "base_uri": "https://localhost:8080/"
        },
        "id": "hUjmnmIylTKW",
        "outputId": "9f2db71a-5642-4d79-ca66-894c499d8d7f"
      },
      "source": [
        "!pip install gensim\n",
        "import gensim\n",
        "from gensim.utils import simple_preprocess\n",
        "\n",
        "import pickle\n",
        "dictionary = gensim.corpora.Dictionary.load('/content/drive/MyDrive/nlp wiki 70 topic/dictionary.gensim')\n",
        "corpus = pickle.load(open('/content/drive/MyDrive/nlp wiki 70 topic/corpus.pkl', 'rb'))\n",
        "lda = gensim.models.ldamodel.LdaModel.load('/content/drive/MyDrive/nlp wiki 70 topic/model_70_topic.gensim')\n",
        "\n",
        "import pandas as pd\n",
        "from snowballstemmer import TurkishStemmer\n",
        "stemmer=TurkishStemmer()\n",
        "import nltk\n",
        "nltk.download('stopwords')\n",
        "WPT = nltk.WordPunctTokenizer()\n",
        "stop_word_list = nltk.corpus.stopwords.words('turkish')\n",
        "def lemmatize_stemming(text):\n",
        "    return stemmer.stemWord(text)\n",
        "\n",
        "# Tokenize and lemmatize\n",
        "def preprocess(text):\n",
        "    result=[]\n",
        "    for token in gensim.utils.simple_preprocess(text) :\n",
        "        if token not in stop_word_list and len(token) > 3:\n",
        "            result.append(lemmatize_stemming(token))\n",
        "     \n",
        "    return result\n",
        "unseen_document = [\"Çinden gelen bu bulaşıcı virüs, tüm insanlığı harekete geçirdi\"]\n",
        "# Data preprocessing step for the unseen document\n",
        "\n",
        "import nltk\n",
        "nltk.download('stopwords')\n",
        "WPT = nltk.WordPunctTokenizer()\n",
        "stop_word_list = nltk.corpus.stopwords.words('turkish')\n",
        "#Daha sonra verimizdeki noktalama işaretlerini kaldırıp stopword'lerden arındırıyoruz.\n",
        "from pandas import DataFrame\n",
        "df = DataFrame(unseen_document,columns=['text'])\n",
        "docs = df['text']\n",
        "docs = docs.map(lambda x: re.sub('[,\\.!?();:$%&#\"]', '', x))\n",
        "docs = docs.map(lambda x: x.lower())\n",
        "docs = docs.map(lambda x: x.strip())\n",
        "#stopword'leri kaldırıyoruz buradaki fonksiyon ile (Gereksiz sözcükler çünkü)\n",
        "def token(values):\n",
        "    filtered_words = [word for word in values.split() if word not in stop_word_list]\n",
        "    \n",
        "    not_stopword_doc = \" \".join(filtered_words)\n",
        "    return not_stopword_doc\n",
        "docs = docs.map(lambda x: token(x))\n",
        "df = docs\n",
        "print(df.head(1))\n",
        "\n",
        "bow_vector = dictionary.doc2bow(preprocess(df[0]))\n",
        "\n",
        "\n",
        "for index, score in sorted(lda[bow_vector], key=lambda tup: -1*tup[1]):\n",
        "    print(\"Score: {}\\t Topic: {}\".format(score, lda.print_topic(index, 5)))"
      ],
      "execution_count": 26,
      "outputs": [
        {
          "output_type": "stream",
          "text": [
            "Requirement already satisfied: gensim in /usr/local/lib/python3.7/dist-packages (3.6.0)\n",
            "Requirement already satisfied: scipy>=0.18.1 in /usr/local/lib/python3.7/dist-packages (from gensim) (1.4.1)\n",
            "Requirement already satisfied: numpy>=1.11.3 in /usr/local/lib/python3.7/dist-packages (from gensim) (1.19.5)\n",
            "Requirement already satisfied: six>=1.5.0 in /usr/local/lib/python3.7/dist-packages (from gensim) (1.15.0)\n",
            "Requirement already satisfied: smart-open>=1.2.1 in /usr/local/lib/python3.7/dist-packages (from gensim) (5.0.0)\n",
            "[nltk_data] Downloading package stopwords to /root/nltk_data...\n",
            "[nltk_data]   Package stopwords is already up-to-date!\n",
            "[nltk_data] Downloading package stopwords to /root/nltk_data...\n",
            "[nltk_data]   Package stopwords is already up-to-date!\n",
            "0    çinden gelen bulaşıcı virüs insanlığı harekete...\n",
            "Name: text, dtype: object\n",
            "Score: 0.318004846572876\t Topic: 0.031*\"hastalık\" + 0.010*\"tedav\" + 0.010*\"ilaç\" + 0.009*\"hasta\" + 0.008*\"bozukluk\"\n",
            "Score: 0.2497127801179886\t Topic: 0.027*\"osmanlı\" + 0.014*\"devlet\" + 0.012*\"sul\" + 0.010*\"ordu\" + 0.010*\"sefer\"\n",
            "Score: 0.16177110373973846\t Topic: 0.006*\"temel\" + 0.006*\"değil\" + 0.006*\"örnek\" + 0.006*\"farklı\" + 0.006*\"konu\"\n",
            "Score: 0.13581739366054535\t Topic: 0.038*\"dil\" + 0.024*\"halk\" + 0.020*\"rusya\" + 0.017*\"asya\" + 0.014*\"çi\"\n"
          ],
          "name": "stdout"
        }
      ]
    }
  ]
}