{
  "nbformat": 4,
  "nbformat_minor": 0,
  "metadata": {
    "colab": {
      "name": "NLP_LDA_news.ipynb",
      "provenance": [],
      "collapsed_sections": []
    },
    "kernelspec": {
      "name": "python3",
      "display_name": "Python 3"
    },
    "language_info": {
      "name": "python"
    }
  },
  "cells": [
    {
      "cell_type": "code",
      "metadata": {
        "id": "o-JjmqiLukd9"
      },
      "source": [
        "#This is a demo code for NLP LDA modeling"
      ],
      "execution_count": null,
      "outputs": []
    },
    {
      "cell_type": "markdown",
      "metadata": {
        "id": "4CE2ojBZ9jDo"
      },
      "source": [
        ""
      ]
    },
    {
      "cell_type": "markdown",
      "metadata": {
        "id": "EHiKDwJz7oPn"
      },
      "source": [
        "# Import"
      ]
    },
    {
      "cell_type": "code",
      "metadata": {
        "id": "0LTL9s_HoGOY"
      },
      "source": [
        "import pandas as pd\n",
        "import numpy as np\n",
        "import matplotlib.pyplot as plt\n",
        "import nltk\n",
        "import re\n",
        "import warnings\n",
        "from collections import Counter\n",
        "from sklearn.feature_extraction.text import CountVectorizer, TfidfVectorizer\n",
        "from sklearn.decomposition import LatentDirichletAllocation as LDA"
      ],
      "execution_count": null,
      "outputs": []
    },
    {
      "cell_type": "markdown",
      "metadata": {
        "id": "0mY7tWHn7vhJ"
      },
      "source": [
        "Import File"
      ]
    },
    {
      "cell_type": "code",
      "metadata": {
        "id": "16Z-ohcousUA"
      },
      "source": [
        "import pandas as pd\n",
        "import numpy as np\n",
        "\n",
        "#data = pd.read_csv('abcnews-date-text.csv')\n",
        "data=pd.read_excel('topic_modeling.xlsx')"
      ],
      "execution_count": null,
      "outputs": []
    },
    {
      "cell_type": "code",
      "metadata": {
        "colab": {
          "base_uri": "https://localhost:8080/",
          "height": 204
        },
        "id": "pj8GbN_zxM7a",
        "outputId": "66539223-216f-4f5f-d9ed-db444aee599d"
      },
      "source": [
        "data.head()"
      ],
      "execution_count": null,
      "outputs": [
        {
          "output_type": "execute_result",
          "data": {
            "text/html": [
              "<div>\n",
              "<style scoped>\n",
              "    .dataframe tbody tr th:only-of-type {\n",
              "        vertical-align: middle;\n",
              "    }\n",
              "\n",
              "    .dataframe tbody tr th {\n",
              "        vertical-align: top;\n",
              "    }\n",
              "\n",
              "    .dataframe thead th {\n",
              "        text-align: right;\n",
              "    }\n",
              "</style>\n",
              "<table border=\"1\" class=\"dataframe\">\n",
              "  <thead>\n",
              "    <tr style=\"text-align: right;\">\n",
              "      <th></th>\n",
              "      <th>publish_date</th>\n",
              "      <th>headline_text</th>\n",
              "    </tr>\n",
              "  </thead>\n",
              "  <tbody>\n",
              "    <tr>\n",
              "      <th>0</th>\n",
              "      <td>20030219</td>\n",
              "      <td>aba decides against community broadcasting lic...</td>\n",
              "    </tr>\n",
              "    <tr>\n",
              "      <th>1</th>\n",
              "      <td>20030219</td>\n",
              "      <td>act fire witnesses must be aware of defamation</td>\n",
              "    </tr>\n",
              "    <tr>\n",
              "      <th>2</th>\n",
              "      <td>20030219</td>\n",
              "      <td>a g calls for infrastructure protection summit</td>\n",
              "    </tr>\n",
              "    <tr>\n",
              "      <th>3</th>\n",
              "      <td>20030219</td>\n",
              "      <td>air nz staff in aust strike for pay rise</td>\n",
              "    </tr>\n",
              "    <tr>\n",
              "      <th>4</th>\n",
              "      <td>20030219</td>\n",
              "      <td>air nz strike to affect australian travellers</td>\n",
              "    </tr>\n",
              "  </tbody>\n",
              "</table>\n",
              "</div>"
            ],
            "text/plain": [
              "   publish_date                                      headline_text\n",
              "0      20030219  aba decides against community broadcasting lic...\n",
              "1      20030219     act fire witnesses must be aware of defamation\n",
              "2      20030219     a g calls for infrastructure protection summit\n",
              "3      20030219           air nz staff in aust strike for pay rise\n",
              "4      20030219      air nz strike to affect australian travellers"
            ]
          },
          "metadata": {
            "tags": []
          },
          "execution_count": 3
        }
      ]
    },
    {
      "cell_type": "markdown",
      "metadata": {
        "id": "axMnxXfO71Pj"
      },
      "source": [
        "# Data Cleaning"
      ]
    },
    {
      "cell_type": "code",
      "metadata": {
        "colab": {
          "base_uri": "https://localhost:8080/"
        },
        "id": "5Gib9FeKoOzc",
        "outputId": "9ff0edce-eeda-4c16-b2bd-81e8c128a356"
      },
      "source": [
        "import nltk\n",
        "nltk.download('stopwords')\n",
        "WPT = nltk.WordPunctTokenizer()\n",
        "stop_word_list = nltk.corpus.stopwords.words('english')\n",
        "print(stop_word_list)"
      ],
      "execution_count": null,
      "outputs": [
        {
          "output_type": "stream",
          "text": [
            "[nltk_data] Downloading package stopwords to /root/nltk_data...\n",
            "[nltk_data]   Unzipping corpora/stopwords.zip.\n",
            "['i', 'me', 'my', 'myself', 'we', 'our', 'ours', 'ourselves', 'you', \"you're\", \"you've\", \"you'll\", \"you'd\", 'your', 'yours', 'yourself', 'yourselves', 'he', 'him', 'his', 'himself', 'she', \"she's\", 'her', 'hers', 'herself', 'it', \"it's\", 'its', 'itself', 'they', 'them', 'their', 'theirs', 'themselves', 'what', 'which', 'who', 'whom', 'this', 'that', \"that'll\", 'these', 'those', 'am', 'is', 'are', 'was', 'were', 'be', 'been', 'being', 'have', 'has', 'had', 'having', 'do', 'does', 'did', 'doing', 'a', 'an', 'the', 'and', 'but', 'if', 'or', 'because', 'as', 'until', 'while', 'of', 'at', 'by', 'for', 'with', 'about', 'against', 'between', 'into', 'through', 'during', 'before', 'after', 'above', 'below', 'to', 'from', 'up', 'down', 'in', 'out', 'on', 'off', 'over', 'under', 'again', 'further', 'then', 'once', 'here', 'there', 'when', 'where', 'why', 'how', 'all', 'any', 'both', 'each', 'few', 'more', 'most', 'other', 'some', 'such', 'no', 'nor', 'not', 'only', 'own', 'same', 'so', 'than', 'too', 'very', 's', 't', 'can', 'will', 'just', 'don', \"don't\", 'should', \"should've\", 'now', 'd', 'll', 'm', 'o', 're', 've', 'y', 'ain', 'aren', \"aren't\", 'couldn', \"couldn't\", 'didn', \"didn't\", 'doesn', \"doesn't\", 'hadn', \"hadn't\", 'hasn', \"hasn't\", 'haven', \"haven't\", 'isn', \"isn't\", 'ma', 'mightn', \"mightn't\", 'mustn', \"mustn't\", 'needn', \"needn't\", 'shan', \"shan't\", 'shouldn', \"shouldn't\", 'wasn', \"wasn't\", 'weren', \"weren't\", 'won', \"won't\", 'wouldn', \"wouldn't\"]\n"
          ],
          "name": "stdout"
        }
      ]
    },
    {
      "cell_type": "code",
      "metadata": {
        "id": "taTEMAksod8l"
      },
      "source": [
        "data=data.drop('publish_date', axis=1)\n",
        "data=data['headline_text']"
      ],
      "execution_count": null,
      "outputs": []
    },
    {
      "cell_type": "code",
      "metadata": {
        "id": "4HlIlaNCoeE0"
      },
      "source": [
        "data = data.map(lambda x: re.sub('[,\\.!?();:$%&#\"]', '', x))\n",
        "data = data.map(lambda x: x.lower())\n",
        "data = data.map(lambda x: x.strip())"
      ],
      "execution_count": null,
      "outputs": []
    },
    {
      "cell_type": "code",
      "metadata": {
        "id": "BTRk8RRSoeHA"
      },
      "source": [
        "def token(values):\n",
        "    filtered_words = [word for word in values.split() if word not in stop_word_list]\n",
        "    not_stopword_doc = \" \".join(filtered_words)\n",
        "    return not_stopword_doc\n",
        "\n",
        "data = data.map(lambda x: token(x))"
      ],
      "execution_count": null,
      "outputs": []
    },
    {
      "cell_type": "code",
      "metadata": {
        "id": "QyWAkhH5oeJB"
      },
      "source": [
        "dataDoc = data.values.tolist()"
      ],
      "execution_count": null,
      "outputs": []
    },
    {
      "cell_type": "markdown",
      "metadata": {
        "id": "zpJGgpHk7_xY"
      },
      "source": [
        "# Vectorizer (To obtain appropriate variable for LDA)"
      ]
    },
    {
      "cell_type": "code",
      "metadata": {
        "id": "VlyZ2GFroeLt"
      },
      "source": [
        "tf_vectorizer = CountVectorizer(max_df=0.95, min_df=2, max_features=10000)\n",
        "tf = tf_vectorizer.fit_transform(dataDoc)"
      ],
      "execution_count": null,
      "outputs": []
    },
    {
      "cell_type": "code",
      "metadata": {
        "id": "MspuVYodoeN6"
      },
      "source": [
        "tf_feature_names = tf_vectorizer.get_feature_names()"
      ],
      "execution_count": null,
      "outputs": []
    },
    {
      "cell_type": "markdown",
      "metadata": {
        "id": "JJwUb11e8K_z"
      },
      "source": [
        "# LDA Modeling"
      ]
    },
    {
      "cell_type": "code",
      "metadata": {
        "id": "M1EzHz2DoeQY"
      },
      "source": [
        "lda = LDA(n_components=30, max_iter=5, learning_method='online', learning_offset=50.,random_state=0).fit(tf)"
      ],
      "execution_count": null,
      "outputs": []
    },
    {
      "cell_type": "markdown",
      "metadata": {
        "id": "1Di0wO5E8azb"
      },
      "source": [
        "Showing topics"
      ]
    },
    {
      "cell_type": "code",
      "metadata": {
        "id": "wHWVB-oIoeTP",
        "colab": {
          "base_uri": "https://localhost:8080/"
        },
        "outputId": "6ba966a7-e4d2-4ef1-ed79-83c87faaf96d"
      },
      "source": [
        "def display_topics(model, feature_names, no_top_words):\n",
        "    for topic_idx, topic in enumerate(model.components_):\n",
        "        print(\"Topic %d:\" % (topic_idx))\n",
        "        print(\" \".join([feature_names[i]\n",
        "                        for i in topic.argsort()[-10:]]))\n",
        "display_topics(lda,tf_feature_names,30)"
      ],
      "execution_count": 124,
      "outputs": [
        {
          "output_type": "stream",
          "text": [
            "Topic 0:\n",
            "baby men hits michael young street children brisbane back fire\n",
            "Topic 1:\n",
            "sea art group life west man murder north nt charged\n",
            "Topic 2:\n",
            "mother govt wants party show pm people child election nsw\n",
            "Topic 3:\n",
            "central despite parliament laws concerns arrested take act hospital qld\n",
            "Topic 4:\n",
            "ice footage aussie dollar airport four top test perth interview\n",
            "Topic 5:\n",
            "students media wins abc house 19 could canberra south queensland\n",
            "Topic 6:\n",
            "return australias future review climate league funding big call death\n",
            "Topic 7:\n",
            "charges tax commission face time royal guilty final attack police\n",
            "Topic 8:\n",
            "opposition debate security plans shooting ban say business sex two\n",
            "Topic 9:\n",
            "vote river farm premier women indigenous council rural victoria sa\n",
            "Topic 10:\n",
            "gas victims housing friday inquiry public power bushfire set government\n",
            "Topic 11:\n",
            "share make east search road tasmanian market gold year coast\n",
            "Topic 12:\n",
            "takes rise chinese high minister calls covid australian new coronavirus\n",
            "Topic 13:\n",
            "gets david jail park killed country dies years national world\n",
            "Topic 14:\n",
            "second jailed drug industry farmers plan live tasmania water wa\n",
            "Topic 15:\n",
            "cut cuts service violence drought war drum markets us australia\n",
            "Topic 16:\n",
            "aboriginal warning border near care speaks work workers dead melbourne\n",
            "Topic 17:\n",
            "beach injured black fatal weather alleged deal school crash day\n",
            "Topic 18:\n",
            "hill rain talks regional claims get missing family former home\n",
            "Topic 19:\n",
            "christmas go ahead bill residents island hit trial woman first\n",
            "Topic 20:\n",
            "indonesia use coal risk jobs fears changes still china says\n",
            "Topic 21:\n",
            "local emergency turnbull amid png darwin victorian federal donald adelaide\n",
            "Topic 22:\n",
            "denies stop company rules boy peter storm program afl report\n",
            "Topic 23:\n",
            "international air week energy wall pay end season nrl car\n",
            "Topic 24:\n",
            "nrn questions finance social 2016 president abuse help budget may\n",
            "Topic 25:\n",
            "morrison port scott cases labor state found news health trump\n",
            "Topic 26:\n",
            "green long super tas india northern restrictions support win sydney\n",
            "Topic 27:\n",
            "plane told protest pacific run mine three record change man\n",
            "Topic 28:\n",
            "race announces defends cattle campaign hour centre fight community cup\n",
            "Topic 29:\n",
            "dog crisis faces old john case open accused one court\n"
          ],
          "name": "stdout"
        }
      ]
    },
    {
      "cell_type": "markdown",
      "metadata": {
        "id": "VmDCzRae8gIg"
      },
      "source": [
        "# Visualization with pyLDAvis"
      ]
    },
    {
      "cell_type": "code",
      "metadata": {
        "id": "hW8-7Z3erF9V",
        "colab": {
          "base_uri": "https://localhost:8080/",
          "height": 1000
        },
        "outputId": "7f0cbb39-a86c-4aa5-c1a0-76af33f1cfc1"
      },
      "source": [
        "!pip install pyLDAvis==3.2.2 #other versions does not work\n",
        "\n",
        "import pyLDAvis.sklearn\n",
        "\n",
        "pyLDAvis.enable_notebook()\n",
        "panel = pyLDAvis.sklearn.prepare(lda,tf, tf_vectorizer, mds = 'tsne' )\n",
        "pyLDAvis.display(panel)"
      ],
      "execution_count": 33,
      "outputs": [
        {
          "output_type": "stream",
          "text": [
            "Collecting pyLDAvis==3.2.2\n",
            "\u001b[?25l  Downloading https://files.pythonhosted.org/packages/24/38/6d81eff34c84c9158d3b7c846bff978ac88b0c2665548941946d3d591158/pyLDAvis-3.2.2.tar.gz (1.7MB)\n",
            "\u001b[K     |████████████████████████████████| 1.7MB 6.9MB/s \n",
            "\u001b[?25hRequirement already satisfied: wheel>=0.23.0 in /usr/local/lib/python3.7/dist-packages (from pyLDAvis==3.2.2) (0.36.2)\n",
            "Requirement already satisfied: numpy>=1.9.2 in /usr/local/lib/python3.7/dist-packages (from pyLDAvis==3.2.2) (1.19.5)\n",
            "Requirement already satisfied: scipy>=0.18.0 in /usr/local/lib/python3.7/dist-packages (from pyLDAvis==3.2.2) (1.4.1)\n",
            "Requirement already satisfied: joblib>=0.8.4 in /usr/local/lib/python3.7/dist-packages (from pyLDAvis==3.2.2) (1.0.1)\n",
            "Requirement already satisfied: jinja2>=2.7.2 in /usr/local/lib/python3.7/dist-packages (from pyLDAvis==3.2.2) (2.11.3)\n",
            "Requirement already satisfied: numexpr in /usr/local/lib/python3.7/dist-packages (from pyLDAvis==3.2.2) (2.7.3)\n",
            "Requirement already satisfied: future in /usr/local/lib/python3.7/dist-packages (from pyLDAvis==3.2.2) (0.16.0)\n",
            "Collecting funcy\n",
            "  Downloading https://files.pythonhosted.org/packages/44/52/5cf7401456a461e4b481650dfb8279bc000f31a011d0918904f86e755947/funcy-1.16-py2.py3-none-any.whl\n",
            "Requirement already satisfied: pandas>=0.17.0 in /usr/local/lib/python3.7/dist-packages (from pyLDAvis==3.2.2) (1.1.5)\n",
            "Requirement already satisfied: MarkupSafe>=0.23 in /usr/local/lib/python3.7/dist-packages (from jinja2>=2.7.2->pyLDAvis==3.2.2) (1.1.1)\n",
            "Requirement already satisfied: pytz>=2017.2 in /usr/local/lib/python3.7/dist-packages (from pandas>=0.17.0->pyLDAvis==3.2.2) (2018.9)\n",
            "Requirement already satisfied: python-dateutil>=2.7.3 in /usr/local/lib/python3.7/dist-packages (from pandas>=0.17.0->pyLDAvis==3.2.2) (2.8.1)\n",
            "Requirement already satisfied: six>=1.5 in /usr/local/lib/python3.7/dist-packages (from python-dateutil>=2.7.3->pandas>=0.17.0->pyLDAvis==3.2.2) (1.15.0)\n",
            "Building wheels for collected packages: pyLDAvis\n",
            "  Building wheel for pyLDAvis (setup.py) ... \u001b[?25l\u001b[?25hdone\n",
            "  Created wheel for pyLDAvis: filename=pyLDAvis-3.2.2-py2.py3-none-any.whl size=135593 sha256=2d3ca98f92bf1db6b5648e851adf9835fb34f1dbe74cf52f4d8a2890a154b5bb\n",
            "  Stored in directory: /root/.cache/pip/wheels/74/df/b6/97234c8446a43be05c9a8687ee0db1f1b5ade5f27729187eae\n",
            "Successfully built pyLDAvis\n",
            "Installing collected packages: funcy, pyLDAvis\n",
            "Successfully installed funcy-1.16 pyLDAvis-3.2.2\n"
          ],
          "name": "stdout"
        },
        {
          "output_type": "stream",
          "text": [
            "/usr/local/lib/python3.7/dist-packages/past/types/oldstr.py:5: DeprecationWarning: Using or importing the ABCs from 'collections' instead of from 'collections.abc' is deprecated since Python 3.3,and in 3.9 it will stop working\n",
            "  from collections import Iterable\n",
            "/usr/local/lib/python3.7/dist-packages/past/builtins/misc.py:4: DeprecationWarning: Using or importing the ABCs from 'collections' instead of from 'collections.abc' is deprecated since Python 3.3,and in 3.9 it will stop working\n",
            "  from collections import Mapping\n"
          ],
          "name": "stderr"
        },
        {
          "output_type": "execute_result",
          "data": {
            "text/html": [
              "\n",
              "<link rel=\"stylesheet\" type=\"text/css\" href=\"https://cdn.jsdelivr.net/gh/bmabey/pyLDAvis@3.2.2/pyLDAvis/js/ldavis.v1.0.0.css\">\n",
              "\n",
              "\n",
              "<div id=\"ldavis_el591399958325150247414742024\"></div>\n",
              "<script type=\"text/javascript\">\n",
              "\n",
              "var ldavis_el591399958325150247414742024_data = {\"mdsDat\": {\"x\": [119.0701904296875, 54.38212966918945, -161.42396545410156, -135.37075805664062, 177.3172149658203, -16.436355590820312, 31.052383422851562, -25.024383544921875, -68.15748596191406, -3.751695156097412, -114.47000885009766, -110.7291259765625, 42.55241775512695, -10.66153621673584, 112.65296936035156, -195.4991455078125, -207.16592407226562, 10.217649459838867, -81.25508117675781, -77.2534408569336, 182.35302734375, 89.76651000976562, -36.48352813720703, -72.05216979980469, 144.82276916503906, -148.47535705566406, 189.81161499023438, 56.555355072021484, 58.9885368347168, 110.55671691894531], \"y\": [64.65550231933594, 109.79916381835938, -103.74495697021484, 36.673065185546875, -66.87245178222656, 142.45379638671875, 204.77757263183594, -186.08346557617188, 20.934038162231445, 4.9615092277526855, -179.60546875, -40.476776123046875, -42.789405822753906, 71.92221069335938, -16.279951095581055, -25.853944778442383, 66.07041931152344, -110.75205993652344, 96.47777557373047, 192.75521850585938, 110.41287994384766, -93.99767303466797, -52.54277420043945, -112.14482116699219, -150.81150817871094, 135.67816162109375, 17.38295555114746, 33.755767822265625, -178.3765411376953, 164.2366943359375], \"topics\": [1, 2, 3, 4, 5, 6, 7, 8, 9, 10, 11, 12, 13, 14, 15, 16, 17, 18, 19, 20, 21, 22, 23, 24, 25, 26, 27, 28, 29, 30], \"cluster\": [1, 1, 1, 1, 1, 1, 1, 1, 1, 1, 1, 1, 1, 1, 1, 1, 1, 1, 1, 1, 1, 1, 1, 1, 1, 1, 1, 1, 1, 1], \"Freq\": [3.7927178920547227, 3.7453482668620266, 3.643226092309624, 3.6256190182337034, 3.5689372728785878, 3.5671361273678155, 3.4900321776892373, 3.4891892891424567, 3.4655604983074815, 3.4385775977281137, 3.435986600274287, 3.435956555051816, 3.4008929926431737, 3.3825953043722796, 3.289215323245409, 3.2548198766748615, 3.2278141025158753, 3.222387240693356, 3.2163264566341625, 3.213554756659435, 3.2095376977244405, 3.194708852822534, 3.1760655535033204, 3.1400411752022994, 3.1387435933928822, 3.1234765311442496, 3.081111675345423, 3.061395909843354, 2.9931341639261677, 2.975891405756908]}, \"tinfo\": {\"Term\": [\"police\", \"coronavirus\", \"says\", \"australia\", \"new\", \"nsw\", \"man\", \"us\", \"sydney\", \"wa\", \"australian\", \"court\", \"government\", \"election\", \"queensland\", \"fire\", \"trump\", \"day\", \"death\", \"melbourne\", \"china\", \"sa\", \"interview\", \"two\", \"world\", \"first\", \"charged\", \"south\", \"qld\", \"nt\", \"police\", \"attack\", \"final\", \"guilty\", \"royal\", \"time\", \"face\", \"commission\", \"tax\", \"charges\", \"driver\", \"assault\", \"trade\", \"station\", \"train\", \"sexual\", \"teen\", \"officer\", \"10\", \"pleads\", \"arrest\", \"greens\", \"global\", \"france\", \"hopes\", \"russian\", \"numbers\", \"reports\", \"aid\", \"2017\", \"murder\", \"coronavirus\", \"new\", \"australian\", \"covid\", \"calls\", \"minister\", \"high\", \"chinese\", \"takes\", \"prices\", \"monday\", \"outback\", \"zealand\", \"threat\", \"kids\", \"covid19\", \"boat\", \"facing\", \"property\", \"rally\", \"track\", \"lake\", \"look\", \"expected\", \"flight\", \"morning\", \"kimberley\", \"couple\", \"beef\", \"boom\", \"rise\", \"strike\", \"government\", \"set\", \"bushfire\", \"power\", \"public\", \"inquiry\", \"friday\", \"housing\", \"victims\", \"gas\", \"bid\", \"tour\", \"team\", \"urged\", \"game\", \"smith\", \"andrew\", \"grandstand\", \"best\", \"sale\", \"reveals\", \"paul\", \"loses\", \"august\", \"economic\", \"returns\", \"pakistan\", \"ceo\", \"april\", \"townsville\", \"world\", \"national\", \"years\", \"dies\", \"country\", \"killed\", \"park\", \"jail\", \"david\", \"gets\", \"five\", \"push\", \"chief\", \"sentenced\", \"job\", \"mark\", \"great\", \"shot\", \"behind\", \"alan\", \"six\", \"parents\", \"force\", \"music\", \"malcolm\", \"2018\", \"round\", \"rights\", \"around\", \"london\", \"queensland\", \"south\", \"canberra\", \"could\", \"19\", \"house\", \"abc\", \"wins\", \"media\", \"students\", \"city\", \"action\", \"korea\", \"tuesday\", \"union\", \"warns\", \"wednesday\", \"white\", \"investigation\", \"mayor\", \"continues\", \"cost\", \"protesters\", \"tony\", \"university\", \"begins\", \"johnson\", \"creek\", \"analysis\", \"billion\", \"wa\", \"water\", \"tasmania\", \"live\", \"plan\", \"farmers\", \"industry\", \"drug\", \"jailed\", \"second\", \"shows\", \"food\", \"free\", \"western\", \"australians\", \"prison\", \"cyclone\", \"boost\", \"town\", \"tourism\", \"hong\", \"kong\", \"testing\", \"plant\", \"100\", \"treatment\", \"corruption\", \"fraud\", \"israel\", \"dispute\", \"death\", \"call\", \"big\", \"funding\", \"league\", \"climate\", \"review\", \"future\", \"australias\", \"return\", \"mining\", \"cricket\", \"safety\", \"finds\", \"inquest\", \"hunter\", \"lead\", \"last\", \"play\", \"save\", \"mount\", \"marriage\", \"valley\", \"film\", \"floods\", \"tigers\", \"palmer\", \"prompts\", \"blue\", \"coroner\", \"trump\", \"health\", \"news\", \"found\", \"state\", \"labor\", \"cases\", \"scott\", \"port\", \"morrison\", \"million\", \"hobart\", \"body\", \"mental\", \"video\", \"rugby\", \"history\", \"defence\", \"falls\", \"united\", \"ashes\", \"20\", \"father\", \"loss\", \"remote\", \"title\", \"meeting\", \"outbreak\", \"increase\", \"beats\", \"sa\", \"victoria\", \"rural\", \"council\", \"indigenous\", \"women\", \"premier\", \"farm\", \"river\", \"vote\", \"land\", \"murray\", \"law\", \"decision\", \"policy\", \"bus\", \"japan\", \"backs\", \"education\", \"farmer\", \"issues\", \"killer\", \"alice\", \"sentence\", \"doctors\", \"springs\", \"stories\", \"general\", \"delays\", \"helping\", \"home\", \"former\", \"family\", \"missing\", \"get\", \"claims\", \"regional\", \"talks\", \"rain\", \"hill\", \"bank\", \"beat\", \"rates\", \"fall\", \"star\", \"need\", \"fiji\", \"good\", \"across\", \"worker\", \"broken\", \"briefing\", \"student\", \"safe\", \"son\", \"helps\", \"rejects\", \"liberals\", \"likely\", \"needed\", \"mp\", \"coast\", \"year\", \"gold\", \"market\", \"tasmanian\", \"road\", \"search\", \"east\", \"make\", \"share\", \"project\", \"2020\", \"games\", \"senate\", \"leaves\", \"foreign\", \"daniel\", \"territory\", \"wont\", \"doctor\", \"like\", \"better\", \"named\", \"solar\", \"scientists\", \"funds\", \"know\", \"ends\", \"jones\", \"cars\", \"charged\", \"nt\", \"north\", \"west\", \"life\", \"group\", \"art\", \"sea\", \"charge\", \"meet\", \"fires\", \"leave\", \"bail\", \"rape\", \"claim\", \"training\", \"joe\", \"toll\", \"evidence\", \"lose\", \"gun\", \"tells\", \"joins\", \"seeks\", \"small\", \"wife\", \"leadership\", \"rises\", \"rock\", \"brings\", \"murder\", \"man\", \"nsw\", \"election\", \"child\", \"people\", \"pm\", \"show\", \"party\", \"wants\", \"govt\", \"mother\", \"system\", \"urges\", \"due\", \"suicide\", \"release\", \"lawyer\", \"making\", \"capital\", \"signs\", \"coalition\", \"discusses\", \"quiz\", \"caught\", \"islands\", \"investment\", \"wrap\", \"senator\", \"promises\", \"january\", \"terrorism\", \"court\", \"one\", \"accused\", \"open\", \"case\", \"john\", \"old\", \"faces\", \"crisis\", \"dog\", \"appeal\", \"cancer\", \"leader\", \"money\", \"liberal\", \"politics\", \"southern\", \"stay\", \"goes\", \"lost\", \"lives\", \"allegedly\", \"allegations\", \"injury\", \"bomb\", \"11\", \"thai\", \"player\", \"bali\", \"dr\", \"day\", \"crash\", \"school\", \"deal\", \"alleged\", \"weather\", \"fatal\", \"black\", \"injured\", \"beach\", \"close\", \"head\", \"probe\", \"find\", \"girl\", \"online\", \"bushfires\", \"wild\", \"kills\", \"military\", \"human\", \"iran\", \"blog\", \"made\", \"rescued\", \"hundreds\", \"cairns\", \"sunshine\", \"richard\", \"fake\", \"fire\", \"back\", \"brisbane\", \"children\", \"street\", \"young\", \"michael\", \"hits\", \"men\", \"baby\", \"study\", \"thursday\", \"hotel\", \"march\", \"schools\", \"another\", \"challenge\", \"drugs\", \"de\", \"financial\", \"pressure\", \"story\", \"wine\", \"sees\", \"blaze\", \"carbon\", \"kill\", \"alcohol\", \"suspected\", \"tests\", \"melbourne\", \"dead\", \"workers\", \"work\", \"speaks\", \"care\", \"near\", \"border\", \"warning\", \"aboriginal\", \"aged\", \"2015\", \"st\", \"asylum\", \"george\", \"lockdown\", \"keep\", \"low\", \"continue\", \"hunt\", \"closure\", \"fish\", \"female\", \"bridge\", \"put\", \"andrews\", \"rare\", \"right\", \"remains\", \"15\", \"qld\", \"hospital\", \"act\", \"take\", \"arrested\", \"concerns\", \"laws\", \"parliament\", \"despite\", \"central\", \"deaths\", \"festival\", \"legal\", \"extended\", \"stabbing\", \"ex\", \"data\", \"records\", \"third\", \"fined\", \"major\", \"shares\", \"medical\", \"reef\", \"authorities\", \"profit\", \"joyce\", \"must\", \"sunday\", \"concern\", \"first\", \"woman\", \"trial\", \"hit\", \"island\", \"residents\", \"bill\", \"ahead\", \"go\", \"christmas\", \"price\", \"uk\", \"newcastle\", \"truck\", \"released\", \"hears\", \"facebook\", \"oil\", \"june\", \"killing\", \"results\", \"line\", \"response\", \"stand\", \"strong\", \"harvest\", \"shire\", \"breaks\", \"ben\", \"grain\", \"change\", \"record\", \"three\", \"mine\", \"run\", \"pacific\", \"protest\", \"told\", \"plane\", \"england\", \"red\", \"coach\", \"investigate\", \"islamic\", \"players\", \"break\", \"asx\", \"driving\", \"away\", \"king\", \"olympic\", \"tim\", \"months\", \"horse\", \"darling\", \"closes\", \"firefighters\", \"dam\", \"apologises\", \"gippsland\", \"man\", \"australia\", \"us\", \"markets\", \"drum\", \"war\", \"drought\", \"violence\", \"service\", \"cuts\", \"cut\", \"flood\", \"domestic\", \"boss\", \"site\", \"demand\", \"french\", \"rio\", \"september\", \"october\", \"update\", \"british\", \"chris\", \"2019\", \"debt\", \"forces\", \"turns\", \"owners\", \"moves\", \"heritage\", \"nationals\", \"car\", \"nrl\", \"season\", \"end\", \"pay\", \"wall\", \"energy\", \"week\", \"air\", \"international\", \"youth\", \"battle\", \"abbott\", \"staff\", \"opens\", \"homes\", \"vaccine\", \"prime\", \"november\", \"nz\", \"growers\", \"sales\", \"patients\", \"historic\", \"award\", \"survey\", \"confirms\", \"collapse\", \"qantas\", \"sri\", \"adelaide\", \"donald\", \"federal\", \"victorian\", \"darwin\", \"png\", \"amid\", \"turnbull\", \"emergency\", \"local\", \"anti\", \"research\", \"james\", \"makes\", \"thousands\", \"rate\", \"crime\", \"next\", \"protests\", \"vic\", \"hope\", \"way\", \"early\", \"development\", \"prince\", \"used\", \"clash\", \"left\", \"night\", \"pilot\", \"two\", \"sex\", \"business\", \"say\", \"ban\", \"shooting\", \"plans\", \"security\", \"debate\", \"opposition\", \"un\", \"club\", \"russia\", \"bay\", \"move\", \"post\", \"latest\", \"leaders\", \"impact\", \"sparks\", \"ship\", \"growth\", \"indonesian\", \"private\", \"cctv\", \"board\", \"worlds\", \"proposed\", \"heat\", \"iraq\", \"says\", \"china\", \"still\", \"changes\", \"fears\", \"jobs\", \"risk\", \"coal\", \"use\", \"indonesia\", \"travel\", \"hold\", \"syria\", \"key\", \"waste\", \"stolen\", \"want\", \"refugee\", \"point\", \"looks\", \"without\", \"williams\", \"clean\", \"fear\", \"expert\", \"nine\", \"racing\", \"positive\", \"following\", \"technology\", \"report\", \"afl\", \"program\", \"storm\", \"peter\", \"boy\", \"rules\", \"company\", \"stop\", \"denies\", \"pandemic\", \"shark\", \"victory\", \"quarantine\", \"control\", \"sport\", \"kohler\", \"dogs\", \"fans\", \"wallabies\", \"vs\", \"slams\", \"york\", \"transport\", \"using\", \"role\", \"experts\", \"robert\", \"camp\", \"bad\", \"interview\", \"perth\", \"test\", \"top\", \"four\", \"airport\", \"dollar\", \"aussie\", \"footage\", \"ice\", \"church\", \"match\", \"damage\", \"crashes\", \"accident\", \"export\", \"illegal\", \"nick\", \"animal\", \"fishing\", \"hot\", \"teenager\", \"14\", \"tv\", \"sharks\", \"scandal\", \"lee\", \"icac\", \"possible\", \"boys\", \"sydney\", \"win\", \"support\", \"restrictions\", \"northern\", \"india\", \"tas\", \"super\", \"long\", \"green\", \"grand\", \"rail\", \"victim\", \"light\", \"attacks\", \"economy\", \"scheme\", \"full\", \"12\", \"gives\", \"bush\", \"recovery\", \"origin\", \"leads\", \"businesses\", \"double\", \"growing\", \"name\", \"planning\", \"delay\", \"cup\", \"community\", \"fight\", \"centre\", \"hour\", \"campaign\", \"cattle\", \"defends\", \"announces\", \"race\", \"services\", \"dairy\", \"political\", \"rescue\", \"womens\", \"start\", \"2014\", \"detention\", \"brexit\", \"days\", \"ready\", \"launches\", \"nuclear\", \"visit\", \"would\", \"admits\", \"sheep\", \"africa\", \"comments\", \"expansion\", \"may\", \"budget\", \"help\", \"abuse\", \"president\", \"2016\", \"social\", \"finance\", \"questions\", \"nrn\", \"july\", \"interest\", \"building\", \"families\", \"highway\", \"stage\", \"far\", \"football\", \"disability\", \"shorten\", \"times\", \"working\", \"cabinet\", \"fruit\", \"kim\", \"resigns\", \"conditions\", \"olympics\", \"milk\", \"part\"], \"Freq\": [33415.0, 29233.0, 27097.0, 26716.0, 26772.0, 23451.0, 27969.0, 18267.0, 17762.0, 17081.0, 17199.0, 15913.0, 15448.0, 14656.0, 14118.0, 13530.0, 13766.0, 12422.0, 12411.0, 11892.0, 11555.0, 11842.0, 11410.0, 10999.0, 11262.0, 10512.0, 10714.0, 10801.0, 10413.0, 10575.0, 33414.77447571244, 8150.427879120974, 6913.207274840174, 6211.485316708052, 6192.086505727933, 5927.124701144208, 5733.165726151571, 5155.9897313458805, 5079.5003165695725, 4962.857465821606, 4662.8988765134945, 4640.01502581946, 4270.3652905390545, 3929.792292430352, 3349.6367497228, 3303.775081092002, 3176.963643940165, 3094.6033944488063, 2883.5098456806227, 2877.14057749311, 2534.7538214983383, 2473.2071521322923, 2326.0731496715835, 2202.819615350827, 2201.0765659526664, 2095.5224916202133, 2036.7259557073633, 2009.1649162692372, 1837.1107102864814, 1766.4152281504496, 2345.085435990122, 29232.231924488697, 26771.467275926596, 17198.262357514508, 9790.789321060847, 7241.810008899564, 5843.536773858891, 5594.108352338258, 3766.410514379751, 3310.727464651185, 2969.7610786778664, 2858.775374601, 2538.092255125076, 2419.4719611305727, 2360.39559481251, 2301.759090282403, 1876.5324878839274, 1836.150310258596, 1791.4505417746295, 1780.5562551258895, 1675.0100361045475, 1635.860347599474, 1560.1315950788753, 1497.5041689673737, 1495.7576239118673, 1415.2766999614307, 1410.749135027387, 1349.5837251996932, 1324.3408293122968, 1244.8703960657756, 1230.9158328953613, 3656.312139358147, 1446.6468584874178, 15447.18710374644, 5964.803381854883, 5803.642249535481, 5735.232685966148, 5386.9376848331485, 4791.19641377555, 3762.5728530695505, 3451.03123173633, 3314.5141794644655, 3177.0409159680717, 3169.029367979738, 3143.3898972544794, 2972.605863736411, 2898.1239685859196, 2729.417172237815, 2641.85675270687, 2617.7923015899514, 2533.9187838955413, 2431.097023691206, 2424.6683445486856, 2369.716392793801, 2188.154793329494, 2176.686945876351, 2169.0251053528673, 2111.101435062378, 2073.239824678634, 2069.2118071836776, 1980.751743882827, 1980.3942501977297, 1859.3985561980742, 11261.600343790442, 7908.073366113802, 7622.705341733957, 7610.224967634166, 7429.708298678792, 6039.092646916872, 4118.223252574824, 3993.5018175985483, 3726.9643295676224, 3657.798307937816, 3416.316431484958, 3402.4580412764635, 3216.6322567087655, 3101.2492655186275, 3022.807115321079, 2861.614736152102, 2752.6000866805593, 2628.687515423114, 2414.8866039700993, 2387.550423921513, 2358.1216830675, 2298.7390573313633, 2121.9972551561136, 1973.2546960094169, 1929.5578493400008, 1899.020417751441, 1878.8584940872609, 1875.5455482862378, 1613.2339219511819, 1604.2626748847804, 14117.286259575741, 10800.724875175272, 8179.290914684932, 7898.458933503351, 7821.569988435998, 6573.474833187874, 6264.377087615429, 6070.7567041530265, 4000.212507373659, 3954.3667322329006, 3924.075415010555, 3481.904549897555, 3175.468734894334, 3021.9740751299287, 3011.0574636974666, 2952.53003540689, 2950.887869742328, 2878.9301461436557, 2771.1008850147327, 2712.1611229656282, 2682.9600711165435, 2137.086654482744, 2118.341410081998, 2045.3810796863352, 1941.1308069639783, 1897.2917076272606, 1842.9974578866634, 1814.4667045030308, 1665.7236556366254, 1631.6885136048033, 17080.313042112874, 8310.004385151035, 7779.791569891508, 7349.566495397532, 7191.383256799942, 6671.244914930325, 5533.611581221159, 5299.936333842945, 4690.454390249159, 4458.724832928327, 4241.866319979098, 4030.416426004862, 3759.359338378333, 3733.8389402698, 3678.9941711953734, 3465.9315792475036, 3379.600781760229, 3286.0784643099355, 3100.1265830224947, 3073.366354785305, 2396.37661617202, 2257.607016796179, 2168.215310405136, 1835.2602184794691, 1770.678869420348, 1677.867906554866, 1665.0271035923838, 1556.4189828439783, 1535.7799085751692, 1477.8611906718768, 12410.35564239961, 7176.667912819988, 6117.240109769433, 5952.198109226846, 4967.370081132057, 4807.579608235734, 4584.250194825544, 4464.186724280278, 4443.090228746847, 3863.343568740335, 3672.859121220896, 3473.021634343455, 3438.6821429480146, 3334.5324120172554, 3223.8930738955437, 3103.9671331654467, 2950.1848048172683, 2551.307734124285, 2461.3301047890122, 2376.8160150376357, 2346.037241275357, 2080.007634454506, 2046.3147487641668, 1829.927120307805, 1740.133781100577, 1610.353412073786, 1577.9059990066048, 1519.1096175539894, 1336.8927458526919, 1336.3751624284382, 13765.479548612142, 9547.07720600157, 9051.852653305647, 8482.025921313996, 6644.860986717575, 5891.286306532898, 4326.095871939117, 4230.985408916665, 4129.08330582894, 3535.5912293301626, 3504.974681485038, 3397.9080457341556, 3174.636333138724, 3102.9352051956007, 2971.109492583524, 2797.4837452631477, 2596.781249554503, 2287.7367770400006, 2076.8521505494896, 2039.5033525842189, 1953.9836425428107, 1931.596767348452, 1896.2540625723998, 1886.843701531519, 1861.1006745961786, 1800.2617846994287, 1751.9100094710939, 1694.5678934730702, 1691.1883911360842, 1628.361495036387, 11841.27960305933, 10304.982951129297, 9581.968157315545, 9460.250686011064, 7252.7782808757165, 6310.597667908882, 4519.094397440303, 4433.984803633009, 3982.769529689681, 3380.2894949923616, 3272.132645810841, 3104.733798768327, 2987.1773335139, 2903.006637720852, 2627.764415756871, 2556.869783081642, 2550.5857090272852, 2231.680008696459, 2231.1356000254045, 2199.786281169511, 2116.4474881613955, 2054.9294078533876, 1940.306617019069, 1928.6114171381407, 1891.7592734512712, 1877.3711316061463, 1804.4389416908564, 1669.3359043614241, 1634.4032879781746, 1589.9344662429023, 10232.693965135832, 7974.8246898060825, 7868.367227395475, 7156.879522940303, 5630.4222568772175, 5334.025562260571, 5168.438297998382, 4533.502426773778, 4067.5206671603596, 3822.3851417522637, 3257.160657256558, 3198.2768218590454, 3095.4676725320983, 2883.5976801723473, 2809.7592886279303, 2776.1826853992984, 2649.959196686616, 2564.121324307309, 2429.6277658720437, 2341.59306557156, 2146.5444364071536, 2083.7732064703787, 2053.0248670061455, 2044.314813581652, 2025.4450933247076, 2015.073362167786, 1957.0856490398255, 1937.4715167821005, 1828.5453820427506, 1669.0652126434288, 3341.3732680826574, 10305.458543996596, 9039.58403098725, 6830.208396826487, 6350.114409637073, 6071.704362403671, 5041.394349376827, 4623.62715500371, 3811.1453351753703, 3623.1929322692513, 3130.7544447172804, 2826.6519546266304, 2561.182090848572, 2449.8082083455633, 2437.257757538834, 2421.462815993987, 2342.5339784160783, 2333.7553276554304, 2285.570878466879, 2128.0400341159484, 2124.368764498367, 2107.695350967133, 1919.1849172694217, 1853.26285856083, 1828.0452062620482, 1735.2180977318594, 1724.4165390710718, 1701.3909296516463, 1571.4291004395975, 1526.214563189936, 1374.0343827855293, 10713.878714710057, 10574.465966171134, 10099.589292530458, 7136.1408892967265, 6552.321773910974, 4004.513939621578, 3206.6744179095226, 3160.8413985509887, 2899.7459965731496, 2874.671148246681, 2758.1503466508584, 2721.450889225662, 2480.5303330447077, 2359.5689260144577, 2266.639726500984, 2086.1090194326803, 2074.4036072656586, 2068.930828618104, 2020.187615484018, 1980.340483960366, 1966.3009847141109, 1959.8202401448154, 1821.9326706962722, 1737.275047435227, 1714.7290553488037, 1638.388016567018, 1631.5954963523814, 1627.4423607417596, 1622.1060202764602, 1540.0047431913265, 9009.780911356618, 8396.77959996237, 23450.570891263113, 14655.822589232588, 7527.813656454431, 7340.227449288671, 4420.147872735456, 4414.947471825075, 4145.37536670926, 3427.8245436784937, 3407.7909603014723, 2993.798776245911, 2651.2893740553136, 2650.63319473042, 2443.176562294661, 2309.976289300498, 2188.1003389839466, 2088.3665925851988, 2045.8474041903744, 2011.6815136085525, 1914.1038094600187, 1860.2063957750768, 1821.4106218392421, 1813.6138501175428, 1809.5502821473585, 1760.0647061260297, 1548.0006949966046, 1523.5035050365518, 1360.2204153411155, 1347.1817700256627, 1249.7068334637631, 1234.1434070939965, 15912.498627171888, 10194.656418630184, 7045.972184966241, 6974.593343062626, 6249.58211449978, 4519.841078304919, 3942.5945355468816, 3492.1078176269793, 3406.8517714341488, 3372.5962410316943, 3370.631058887945, 3182.8253535279687, 3044.6527220939206, 2709.6590675707744, 2709.111428510071, 2055.123252568635, 2020.487190593012, 2012.0424811084338, 1979.903861003578, 1873.543934526481, 1826.458690487922, 1780.672301989308, 1714.102846178509, 1631.9262019608168, 1619.6315573055779, 1538.8527690301407, 1489.0957055210063, 1481.77981366995, 1453.3238027014143, 1445.0509168651065, 12421.687579304271, 10191.660247580527, 8552.416996262527, 5789.779410162283, 5105.462562357558, 4746.383182421235, 3898.5459185929417, 3460.5333011411453, 3356.306152023589, 3351.71923582923, 3052.4844287305914, 2947.831788135371, 2888.024873318923, 2743.3330266751386, 2658.25618891332, 2617.308339444618, 2532.465620544579, 2456.34407823236, 2241.5067858107977, 2218.910725020306, 2150.2356096044405, 1952.4428832546678, 1902.4705820065249, 1786.4032781129933, 1745.0668200465677, 1674.0609958114972, 1508.803012494123, 1492.8765464937874, 1382.197271589567, 1364.0902556963147, 13529.243170718333, 9217.922941811354, 7675.200551342096, 4963.733918174015, 4378.456433594162, 4368.750862622538, 4092.077931941254, 3818.1052023203097, 3669.6576841710453, 3619.6610780547576, 3410.36428616127, 3254.112453490414, 2748.339011726527, 2743.751789999552, 2524.9460445357067, 2178.157115121659, 2169.6406486101782, 1976.4488079217806, 1966.881595628772, 1859.0169328218246, 1841.7273840905436, 1807.0104115258673, 1761.5588348447213, 1640.9739375933545, 1632.9445387205155, 1612.9385252218372, 1583.7632641098494, 1573.7482627565735, 1555.81679456964, 1477.3183001960244, 11891.329997739807, 6448.1848086420405, 5117.946593780116, 5047.330904955961, 4600.824693946214, 4533.9549437896485, 4311.634671677553, 4282.472743789035, 3959.7319428455235, 3697.954248657519, 3282.180969938093, 2959.447312879482, 2851.183154581943, 2628.352576425839, 2548.039263859006, 2461.670698385807, 2342.2677335659505, 2080.9159369976887, 2057.6581484341236, 1963.1294477522226, 1897.3313229555688, 1835.451218607617, 1793.88565760132, 1756.4835369939015, 1748.0183849563577, 1708.2918185818335, 1686.752135997205, 1671.5226326234747, 1622.5168074316764, 1598.111708767344, 10412.620130948135, 8165.669530413539, 5305.962610136634, 4953.313457558241, 4751.955599205773, 4282.495554213953, 4250.718858799475, 4140.216030819418, 3303.5575471683296, 3283.4276112230114, 3244.0871014601794, 3185.3988889891366, 3009.786766114288, 2963.177998737389, 2697.1026885844763, 2453.91761828404, 2323.0319335084814, 2319.997643598282, 2314.8027371548314, 2255.1969101770683, 2204.400358914945, 2068.6937287989563, 1946.3223197526565, 1683.329690024764, 1630.5844737517768, 1611.7226067998072, 1577.5164931513186, 1535.9204506651668, 1528.1127304137767, 1516.889743071626, 10511.814940819566, 10277.216770070843, 7207.111762337535, 6761.9986539303545, 5559.038645234931, 4782.008953877567, 4394.323284059522, 4198.564393181845, 4097.370436263756, 3906.210364679196, 3513.671530132581, 3398.7287741449763, 2940.3272063816594, 2750.1099012713976, 2619.320332235309, 2540.935636781439, 2235.422477351763, 2163.5024631536216, 2158.642789183586, 2095.748563280318, 1896.0195466818707, 1846.360922840209, 1837.1181382857694, 1733.542303916276, 1655.1748295407156, 1631.6165473419883, 1577.366064796069, 1566.5641798507143, 1548.097914453001, 1512.4089049096124, 6335.680931670795, 6196.071318229369, 5892.759306754152, 5387.986080228928, 3817.719240053262, 3729.7043734341796, 3643.140141268564, 3526.5018077891054, 2981.2672549445656, 2800.3013425895147, 2750.6298514044456, 2727.5484164773984, 2092.155184006038, 2085.9732938422962, 1999.7172570762216, 1961.4011755216545, 1943.4505479171037, 1887.145102180912, 1878.096995638076, 1752.903634062011, 1621.0030954863557, 1580.3754553180152, 1572.0156481109957, 1571.150552832436, 1498.7940444354754, 1481.7066040856232, 1435.8931324459609, 1435.516303104277, 1431.8155231399128, 1408.27911753647, 19572.16291688432, 26715.332977492777, 18266.15543211796, 5140.715662833668, 4897.335963959635, 4751.912799333144, 4462.33646699325, 4319.377981605233, 3748.04507332606, 3733.8011986785623, 3505.84478211397, 2914.1270691497048, 2758.3518880417073, 2297.3141141841124, 2172.9201593339926, 2126.6590526801156, 2122.6526851781205, 2095.87701741115, 1998.7903713705189, 1907.1869746092136, 1866.0090337556653, 1839.9036922871476, 1675.81309249205, 1606.305732631642, 1502.6560606808098, 1501.5489556147852, 1481.4482508774388, 1391.0412457037617, 1374.826788442905, 1372.1024049691769, 1312.0744667819893, 8430.583398551624, 5461.914671375926, 4841.86937002853, 4538.393629735002, 4250.247826936272, 3965.1828100015596, 3324.732989084885, 3309.46796187807, 3003.843436678225, 2957.366917036883, 2922.4321865274005, 2878.902340666465, 2858.801805973685, 2729.425391189362, 2159.710803097026, 2131.318486245124, 2036.1384330368464, 2014.6528598306336, 2010.6482510748078, 2005.5954061015723, 1842.1553033140729, 1711.2226798483798, 1610.0135564646541, 1608.602294521665, 1507.0225045899506, 1501.09486567404, 1465.2698458834864, 1452.2831078833792, 1449.225216420321, 1395.5029435429042, 8822.870794833912, 8593.64966802155, 6447.890498552332, 5250.742395540426, 4869.0872343888095, 4264.56745483675, 4060.516112309251, 3398.5011478133774, 3322.251328218143, 3049.0205358987305, 3008.063344258045, 2798.0040362887157, 2655.3396694100375, 2637.9915970290176, 2591.6682437904924, 2550.411809223521, 2435.114528332357, 2434.5102574658044, 2373.2605744890966, 2219.260296693083, 2112.0278161041506, 2068.505649284364, 1983.5051036469827, 1825.68195513022, 1746.2906217991374, 1706.0731896284333, 1610.6396457494068, 1595.638584578035, 1529.230309819365, 1361.542547091579, 10998.847575801303, 7699.656410643743, 6860.830834738543, 6425.182211729042, 6074.926793155247, 5081.5924577316255, 4436.823496319421, 3723.1799566143973, 3393.188593721726, 3376.816276657453, 3363.145410942308, 3271.2843679765024, 3151.6975504284183, 2778.177517205294, 2720.0413399045656, 2582.7699557567694, 2427.682940945352, 2382.2359088316575, 2345.049445113553, 2195.818797758845, 2123.957874116368, 1983.7340290111865, 1801.9506582058657, 1733.323157697644, 1657.9832269479546, 1576.5122788914707, 1550.145519929894, 1532.5875045194198, 1507.6836102760149, 1498.391832232618, 27096.832627481832, 11554.99828352205, 4785.355524640906, 4504.847551277367, 4461.594252629617, 4308.832962257666, 3686.7906526928537, 3575.780896839693, 3040.3710017417843, 2778.3580676196907, 2673.4682837703763, 2454.541121817123, 2300.529416486128, 2187.018747884553, 2132.3750452019217, 2042.7072310350547, 1894.828902707321, 1842.7302737706377, 1773.70420223052, 1732.3641143439118, 1715.345333318503, 1675.847023220572, 1611.7593970202652, 1575.5279342774966, 1497.0764821343664, 1492.1588955299003, 1490.8296966674866, 1450.2851915329873, 1424.3149921201186, 1402.4937051440122, 8459.399432411243, 7302.7361513845735, 4072.5197243202065, 3901.536388289039, 3567.0538469898734, 2899.9858096263115, 2885.103147822027, 2853.5226049120533, 2633.257616390888, 2494.1471244207146, 2493.2585381942968, 2479.3101895483865, 2372.4241898713253, 2194.333519915255, 2103.872565890386, 2101.434871015637, 2094.77048615331, 1946.9559392409935, 1744.1457034884636, 1628.031727309386, 1626.2163427683552, 1616.033439763179, 1520.5615185622012, 1494.8525765580896, 1481.6775991292236, 1452.210777032727, 1432.8412347480269, 1368.3465727147895, 1340.853690489609, 1327.5974214546168, 11409.16053729445, 8421.208274383112, 6726.896696177514, 5621.562767621276, 4823.60277161276, 2887.3037542660763, 2793.4300500234003, 2281.6797916765863, 2271.1650134261145, 2134.1515767785327, 1982.2012414590226, 1924.3198551809312, 1921.0081753452569, 1812.6919212967282, 1726.5852401334191, 1717.8325341864852, 1657.097032298368, 1574.3736632913833, 1514.065950861026, 1498.4595905936876, 1460.5787500503204, 1422.6057882442833, 1403.7879397031659, 1400.5497493758642, 1340.5864539597305, 1317.5008053077972, 1271.838478628795, 1269.2806418392477, 1263.1806739012898, 1262.742109018911, 17761.157378325413, 8197.766952294765, 4948.302506650745, 4588.322025186398, 4313.111266947754, 3914.513314301111, 3323.644004964265, 3231.220075876257, 3143.6953150909108, 3130.951145852682, 3073.575408311772, 2939.367782099798, 2846.4768052223144, 2809.45387687987, 2688.1987428480097, 2448.8299871119734, 2439.658923694759, 2377.6367928987124, 2321.605398228092, 2136.7654445489993, 1947.6716724034306, 1943.4126440888517, 1860.5818206065287, 1812.5827869552277, 1804.1731022509275, 1785.724524909924, 1614.989917035315, 1516.7378909459885, 1399.0744013093517, 1312.9050592446995, 8411.849129823424, 5594.824173230486, 5440.101414426256, 5402.538014905027, 4772.0190389779245, 4245.007125351041, 3935.5878259303804, 3352.7104179854564, 3330.4410936141403, 2978.622613262225, 2946.1255040352926, 2739.1094151533744, 2714.9348670114787, 2659.4917044380554, 2628.446270496191, 2602.697767071249, 2079.000393262847, 2059.5991070832606, 2051.140867853513, 2030.0076356068814, 1988.3334338199902, 1890.9989554747126, 1803.384027910978, 1728.7271685717478, 1659.9104108224026, 1619.5787116314866, 1575.4004115795206, 1572.6054298610263, 1542.6858661164983, 1489.675178347066, 7526.273523743333, 6321.613033065736, 6213.5978740861665, 4967.834230037534, 4319.581602115186, 3060.656631832608, 3029.318716063605, 3006.139561771162, 2620.7537925722418, 2260.2094015038074, 2235.6087668390733, 2141.366395479731, 2133.1904572665385, 2093.031943627098, 1973.1513042704585, 1892.9506421141102, 1830.6315313828154, 1775.8618743064922, 1665.845966893916, 1646.9897080331612, 1608.2929345199288, 1578.8334100212696, 1553.365686832595, 1539.0500828238826, 1531.2218263427621, 1460.4488936605765, 1450.053635027177, 1438.5862607452896, 1378.6727381430333, 1369.107619033121], \"Total\": [33415.0, 29233.0, 27097.0, 26716.0, 26772.0, 23451.0, 27969.0, 18267.0, 17762.0, 17081.0, 17199.0, 15913.0, 15448.0, 14656.0, 14118.0, 13530.0, 13766.0, 12422.0, 12411.0, 11892.0, 11555.0, 11842.0, 11410.0, 10999.0, 11262.0, 10512.0, 10714.0, 10801.0, 10413.0, 10575.0, 33415.658409464086, 8151.311812872612, 6914.091208591813, 6212.36925045969, 6192.970439479572, 5928.008634895847, 5734.049659903209, 5156.873665097519, 5080.384250321211, 4963.741399573244, 4663.782810265133, 4640.898959571098, 4271.249224290693, 3930.676226181993, 3350.520683474441, 3304.659014843643, 3177.8475776918062, 3095.4873282004473, 2884.3937794322637, 2878.024511244751, 2535.6377552499794, 2474.0910858839334, 2326.9570834232245, 2203.7035491024685, 2201.9604997043075, 2096.4064253718543, 2037.6098894590039, 2010.0488500208776, 1837.994644038122, 1767.2991619020904, 11355.718156216171, 29233.122911066468, 26772.358262504367, 17199.15334409228, 9791.680307638624, 7242.700995477335, 5844.427760436662, 5594.999338916028, 3767.3015009575242, 3311.6184512289583, 2970.6520652556396, 2859.6663611787735, 2538.983241702849, 2420.362947708346, 2361.286581390283, 2302.650076860177, 1877.4234744617006, 1837.0412968363687, 1792.3415283524023, 1781.4472417036623, 1675.9010226823202, 1636.7513341772467, 1561.022581656648, 1498.3951555451465, 1496.64861048964, 1416.1676865392035, 1411.6401216051602, 1350.474711777466, 1325.2318158900696, 1245.7613826435481, 1231.806819473134, 4515.435286459397, 1976.5582784992919, 15448.07247885393, 5965.688756962369, 5804.527624642967, 5736.118061073634, 5387.823059940634, 4792.081788883036, 3763.4582281770377, 3451.916606843817, 3315.3995545719526, 3177.9262910755588, 3169.914743087225, 3144.275272361967, 2973.491238843898, 2899.0093436934067, 2730.302547345302, 2642.742127814357, 2618.6776766974385, 2534.8041590030284, 2431.982398798693, 2425.5537196561727, 2370.601767901288, 2189.0401684369813, 2177.572320983838, 2169.9104804603544, 2111.9868101698653, 2074.125199786121, 2070.0971822911647, 1981.637118990314, 1981.2796253052168, 1860.2839313055613, 11262.487347337667, 7908.960369661024, 7623.5923452811785, 7611.111971181388, 7430.595302226014, 6039.9796504640935, 4119.110256122046, 3994.388821145772, 3727.851333114846, 3658.6853114850396, 3417.203435032182, 3403.345044823687, 3217.519260255989, 3102.136269065851, 3023.6941188683027, 2862.5017396993258, 2753.487090227783, 2629.5745189703375, 2415.773607517323, 2388.437427468737, 2359.0086866147235, 2299.6260608785874, 2122.8842587033373, 1974.1416995566403, 1930.4448528872242, 1899.9074212986648, 1879.745497634484, 1876.4325518334613, 1614.1209254984053, 1605.1496784320038, 14118.17526867088, 10801.613884270411, 8180.179923780069, 7899.347942598487, 7822.458997531135, 6574.36384228301, 6265.266096710566, 6071.645713248163, 4001.101516468797, 3955.2557413280388, 3924.9644241056935, 3482.7935589926933, 3176.357743989472, 3022.8630842250664, 3011.9464727926047, 2953.419044502028, 2951.7768788374656, 2879.819155238794, 2771.989894109871, 2713.0501320607664, 2683.8490802116817, 2137.975663577882, 2119.2304191771364, 2046.270088781473, 1942.0198160591162, 1898.1807167223985, 1843.8864669818008, 1815.3557135981687, 1666.612664731763, 1632.5775226999413, 17081.198322247543, 8310.889665285707, 7780.676850026179, 7350.451775532203, 7192.268536934613, 6672.130195064996, 5534.49686135583, 5300.821613977616, 4691.33967038383, 4459.610113062998, 4242.751600113769, 4031.3017061395353, 3760.244618513007, 3734.7242204044733, 3679.8794513300472, 3466.816859382177, 3380.4860618949024, 3286.963744444609, 3101.011863157168, 3074.251634919978, 2397.2618963066934, 2258.4922969308523, 2169.100590539809, 1836.1454986141416, 1771.5641495550208, 1678.7531866895386, 1665.9123837270563, 1557.3042629786507, 1536.6651887098417, 1478.7464708065493, 12411.240895996038, 7177.553166416413, 6118.125363365858, 5953.083362823271, 4968.255334728482, 4808.464861832159, 4585.135448421969, 4465.071977876703, 4443.975482343273, 3864.228822336762, 3673.744374817323, 3473.906887939882, 3439.5673965444416, 3335.417665613683, 3224.7783274919707, 3104.8523867618737, 2951.0700584136953, 2552.192987720712, 2462.2153583854392, 2377.7012686340627, 2346.922494871784, 2080.8928880509334, 2047.200002360593, 1830.8123739042314, 1741.0190346970035, 1611.2386656702124, 1578.7912526030314, 1519.994871150416, 1337.7779994491184, 1337.2604160248648, 13766.369052934544, 9547.966710323972, 9052.742157628049, 8482.915425636398, 6645.750491039975, 5892.175810855299, 4326.985376261518, 4231.874913239065, 4129.97281015134, 3536.480733652564, 3505.86418580744, 3398.797550056557, 3175.525837461125, 3103.824709518002, 2971.9989969059257, 2798.3732495855493, 2597.6707538769047, 2288.626281362402, 2077.741654871891, 2040.3928569066197, 1954.8731468652115, 1932.4862716708528, 1897.1435668948006, 1887.7332058539196, 1861.9901789185797, 1801.1512890218294, 1752.7995137934947, 1695.457397795471, 1692.077895458485, 1629.250999358788, 11842.164877370236, 10305.868225440203, 9582.85343162645, 9461.13596032197, 7253.663555186618, 6311.482942219784, 4519.9796717512045, 4434.8700779439105, 3983.6548040005837, 3381.1747693032644, 3273.017920121744, 3105.6190730792296, 2988.062607824803, 2903.8919120317546, 2628.649690067774, 2557.7550573925446, 2551.470983338188, 2232.565283007362, 2232.0208743363073, 2200.6715554804136, 2117.3327624722983, 2055.8146821642904, 1941.1918913299717, 1929.4966914490435, 1892.644547762174, 1878.2564059170488, 1805.3242160017592, 1670.2211786723267, 1635.2885622890774, 1590.819740553805, 10233.577388447518, 7975.7081131177665, 7869.250650707159, 7157.762946251986, 5631.305680188901, 5334.908985572254, 5169.321721310066, 4534.385850085461, 4068.404090472044, 3823.2685650639482, 3258.0440805682424, 3199.16024517073, 3096.351095843783, 2884.481103484032, 2810.642711939615, 2777.066108710983, 2650.8426199983005, 2565.0047476189934, 2430.511189183728, 2342.4764888832447, 2147.427859718838, 2084.6566297820636, 2053.90829031783, 2045.1982368933366, 2026.3285166363921, 2015.9567854794705, 1957.9690723515098, 1938.3549400937848, 1829.428805354435, 1669.9486359551133, 4329.502313039797, 10306.345015813093, 9040.470502803746, 6831.094868642981, 6351.000881453567, 6072.590834220166, 5042.280821193322, 4624.513626820204, 3812.031806991866, 3624.079404085747, 3131.640916533776, 2827.538426443126, 2562.068562665068, 2450.694680162059, 2438.1442293553296, 2422.3492878104826, 2343.420450232574, 2334.641799471926, 2286.4573502833746, 2128.926505932444, 2125.2552363148625, 2108.5818227836285, 1920.071389085917, 1854.149330377325, 1828.9316780785432, 1736.1045695483547, 1725.3030108875669, 1702.2774014681415, 1572.3155722560928, 1527.1010350064312, 1374.9208546020245, 10714.762584782868, 10575.349836243944, 10100.473162603268, 7137.024759369533, 6553.205643983781, 4005.3978096943865, 3207.558287982331, 3161.725268623797, 2900.629866645958, 2875.555018319489, 2759.0342167236668, 2722.3347592984705, 2481.414203117516, 2360.452796087266, 2267.5235965737925, 2086.9928895054886, 2075.287477338467, 2069.8146986909123, 2021.071485556826, 1981.2243540331742, 1967.184854786919, 1960.7041102176236, 1822.8165407690801, 1738.1589175080348, 1715.6129254216119, 1639.271886639826, 1632.4793664251893, 1628.3262308145677, 1622.9898903492683, 1540.8886132641346, 11355.718156216171, 27969.79455079, 23451.454110228784, 14656.70580819826, 7528.696875420099, 7341.110668254339, 4421.031091701124, 4415.830690790743, 4146.258585674927, 3428.7077626441633, 3408.674179267142, 2994.6819952115816, 2652.172593020983, 2651.51641369609, 2444.0597812603314, 2310.8595082661677, 2188.983557949616, 2089.249811550869, 2046.730623156044, 2012.564732574222, 1914.9870284256883, 1861.0896147407461, 1822.2938408049117, 1814.4970690832124, 1810.4335011130281, 1760.9479250916993, 1548.883913962274, 1524.3867240022212, 1361.103634306785, 1348.064988991332, 1250.590052429433, 1235.026626059666, 15913.384569757736, 10195.542361216032, 7046.858127552086, 6975.479285648472, 6250.468057085625, 4520.727020890765, 3943.480478132729, 3492.993760212826, 3407.7377140199956, 3373.482183617541, 3371.517001473792, 3183.711296113816, 3045.5386646797674, 2710.545010156621, 2709.997371095918, 2056.009195154482, 2021.3731331788586, 2012.9284236942804, 1980.7898035894243, 1874.4298771123276, 1827.3446330737686, 1781.5582445751545, 1714.9887887643556, 1632.812144546663, 1620.5174998914242, 1539.7387116159873, 1489.9816481068528, 1482.6657562557966, 1454.2097452872606, 1445.936859450953, 12422.572027626706, 10192.544695902961, 8553.301444584962, 5790.663858484714, 5106.34701067999, 4747.267630743666, 3899.4303669153746, 3461.4177494635783, 3357.190600346022, 3352.603684151663, 3053.3688770530243, 2948.716236457804, 2888.9093216413557, 2744.2174749975716, 2659.140637235753, 2618.192787767051, 2533.3500688670124, 2457.228526554793, 2242.3912341332307, 2219.795173342739, 2151.1200579268734, 1953.3273315771005, 1903.3550303289578, 1787.287726435426, 1745.9512683690002, 1674.9454441339296, 1509.6874608165556, 1493.76099481622, 1383.0817199119997, 1364.9747040187474, 13530.128649193692, 9218.808420286712, 7676.086029817451, 4964.61939664937, 4379.341912069518, 4369.636341097893, 4092.963410416611, 3818.990680795667, 3670.5431626464024, 3620.5465565301147, 3411.249764636627, 3254.997931965771, 2749.2244902018842, 2744.637268474909, 2525.831523011064, 2179.042593597016, 2170.5261270855353, 1977.334286397137, 1967.7670741041281, 1859.9024112971808, 1842.6128625659, 1807.8958900012237, 1762.4443133200775, 1641.859416068711, 1633.8300171958717, 1613.8240036971933, 1584.6487425852058, 1574.6337412319297, 1556.7022730449964, 1478.2037786713809, 11892.216452733022, 6449.071263635253, 5118.833048773328, 5048.217359949173, 4601.7111489394265, 4534.841398782861, 4312.521126670766, 4283.359198782247, 3960.618397838737, 3698.840703650733, 3283.0674249313065, 2960.3337678726957, 2852.069609575157, 2629.2390314190525, 2548.9257188522197, 2462.557153379021, 2343.154188559164, 2081.8023919909024, 2058.5446034273373, 1964.0159027454358, 1898.217777948782, 1836.3376736008302, 1794.7721125945332, 1757.3699919871146, 1748.904839949571, 1709.1782735750471, 1687.6385909904182, 1672.4090876166879, 1623.4032624248896, 1598.9981637605572, 10413.504121022845, 8166.553520488247, 5306.846600211342, 4954.197447632949, 4752.839589280481, 4283.379544288661, 4251.602848874183, 4141.100020894126, 3304.44153724304, 3284.3116012977216, 3244.9710915348896, 3186.282879063847, 3010.6707561889984, 2964.061988812099, 2697.9866786591865, 2454.8016083587504, 2323.9159235831917, 2320.8816336729924, 2315.6867272295417, 2256.0809002517785, 2205.2843489896554, 2069.5777188736665, 1947.206309827366, 1684.2136800994735, 1631.4684638264864, 1612.6065968745165, 1578.4004832260282, 1536.8044407398763, 1528.9967204884863, 1517.7737331463356, 10512.700518839481, 10278.102348090759, 7207.9973403574495, 6762.884231950269, 5559.924223254846, 4782.894531897482, 4395.208862079437, 4199.44997120176, 4098.256014283671, 3907.0959426991126, 3514.5571081524977, 3399.614352164893, 2941.212784401576, 2750.995479291314, 2620.2059102552253, 2541.8212148013554, 2236.3080553716795, 2164.388041173538, 2159.5283672035025, 2096.6341413002347, 1896.9051247017867, 1847.2465008601248, 1838.0037163056854, 1734.4278819361919, 1656.0604075606313, 1632.502125361904, 1578.2516428159847, 1567.4497578706303, 1548.9834924729169, 1513.2944829295282, 6336.565090496308, 6196.955477054882, 5893.643465579665, 5388.87023905444, 3818.6033988787767, 3730.588532259694, 3644.0243000940786, 3527.38596661462, 2982.15141377008, 2801.185501415029, 2751.51401022996, 2728.432575302913, 2093.0393428315524, 2086.8574526678112, 2000.601415901736, 1962.2853343471688, 1944.3347067426182, 1888.0292610064264, 1878.9811544635902, 1753.7877928875253, 1621.88725431187, 1581.2596141435295, 1572.89980693651, 1572.0347116579503, 1499.6782032609897, 1482.5907629111375, 1436.7772912714752, 1436.4004619297914, 1432.699681965427, 1409.1632763619843, 27969.79455079, 26716.219819359358, 18267.04227398454, 5141.602504700242, 4898.222805826209, 4752.799641199718, 4463.223308859824, 4320.264823471807, 3748.931915192636, 3734.6880405451384, 3506.731623980546, 2915.013911016281, 2759.2387299082834, 2298.2009560506885, 2173.8070012005687, 2127.5458945466917, 2123.5395270446966, 2096.763859277726, 1999.677213237095, 1908.0738164757897, 1866.8958756222414, 1840.7905341537235, 1676.6999343586258, 1607.1925744982184, 1503.5429025473857, 1502.435797481361, 1482.3350927440147, 1391.9280875703375, 1375.7136303094808, 1372.9892468357527, 1312.9613086485651, 8431.46856804746, 5462.799840871761, 4842.754539524365, 4539.278799230837, 4251.132996432107, 3966.0679794973958, 3325.6181585807212, 3310.3531313739063, 3004.728606174061, 2958.252086532719, 2923.3173560232367, 2879.7875101623013, 2859.6869754695213, 2730.310560685198, 2160.5959725928624, 2132.20365574096, 2037.0236025326826, 2015.5380293264695, 2011.5334205706438, 2006.480575597408, 1843.0404728099086, 1712.1078493442155, 1610.89872596049, 1609.4874640175008, 1507.9076740857863, 1501.9800351698757, 1466.155015379322, 1453.168277379215, 1450.1103859161567, 1396.38811303874, 8823.758136303588, 8594.537009491225, 6448.777840022005, 5251.629737010098, 4869.974575858482, 4265.454796306422, 4061.403453778926, 3399.3884892830524, 3323.138669687818, 3049.9078773684055, 3008.95068572772, 2798.8913777583907, 2656.2270108797125, 2638.8789384986926, 2592.5555852601674, 2551.2991506931958, 2436.001869802032, 2435.3975989354794, 2374.1479159587716, 2220.147638162758, 2112.9151575738256, 2069.392990754039, 1984.392445116657, 1826.5692965998944, 1747.177963268812, 1706.9605310981076, 1611.526987219081, 1596.5259260477094, 1530.1176512890393, 1362.4298885612534, 10999.72952572185, 7700.538360564288, 6861.712784659088, 6426.064161649588, 6075.808743075792, 5082.474407652171, 4437.7054462399665, 3724.0619065349447, 3394.0705436422736, 3377.6982265780002, 3364.0273608628554, 3272.16631789705, 3152.5795003489657, 2779.0594671258414, 2720.923289825113, 2583.651905677317, 2428.5648908658995, 2383.117858752205, 2345.9313950341, 2196.7007476793924, 2124.8398240369156, 1984.6159789317333, 1802.8326081264124, 1734.2051076181908, 1658.8651768685013, 1577.3942288120174, 1551.0274698504406, 1533.4694544399665, 1508.5655601965616, 1499.2737821531646, 27097.7173902604, 11555.883046300616, 4786.2402874194695, 4505.73231405593, 4462.47901540818, 4309.717725036229, 3687.6754154714185, 3576.665659618258, 3041.255764520349, 2779.2428303982556, 2674.3530465489416, 2455.425884595688, 2301.414179264693, 2187.9035106631177, 2133.2598079804866, 2043.5919938136192, 1895.7136654858855, 1843.6150365492022, 1774.5889650090844, 1733.2488771224762, 1716.2300960970674, 1676.7317859991363, 1612.6441597988294, 1576.412697056061, 1497.9612449129306, 1493.0436583084647, 1491.714459446051, 1451.1699543115517, 1425.199754898683, 1403.3784679225766, 8460.28444711294, 7303.621166086269, 4073.4047390219025, 3902.4214029907353, 3567.9388616915694, 2900.8708243280075, 2885.988162523723, 2854.4076196137494, 2634.142631092584, 2495.0321391224106, 2494.1435528959933, 2480.1952042500825, 2373.3092045730214, 2195.2185346169513, 2104.757580592082, 2102.319885717333, 2095.655500855006, 1947.840953942689, 1745.0307181901594, 1628.9167420110816, 1627.1013574700507, 1616.9184544648747, 1521.446533263897, 1495.7375912597852, 1482.5626138309194, 1453.0957917344226, 1433.7262494497227, 1369.2315874164854, 1341.7387051913047, 1328.4824361563126, 11410.045325616251, 8422.093062704915, 6727.781484499314, 5622.447555943076, 4824.48755993456, 2888.188542587877, 2794.3148383452008, 2282.5645799983868, 2272.049801747915, 2135.036365100333, 1983.0860297808226, 1925.2046435027312, 1921.8929636670568, 1813.5767096185282, 1727.470028455219, 1718.7173225082854, 1657.981820620168, 1575.2584516131833, 1514.950739182826, 1499.3443789154876, 1461.4635383721204, 1423.4905765660833, 1404.672728024966, 1401.4345376976642, 1341.4712422815305, 1318.3855936295972, 1272.723266950595, 1270.1654301610477, 1264.0654622230898, 1263.626897340711, 17762.041359734227, 8198.650933703579, 4949.1864880595585, 4589.206006595211, 4313.995248356568, 3915.397295709925, 3324.527986373079, 3232.1040572850707, 3144.5792964997245, 3131.835127261496, 3074.459389720586, 2940.251763508612, 2847.360786631128, 2810.337858288684, 2689.0827242568234, 2449.713968520787, 2440.5429051035726, 2378.520774307526, 2322.4893796369056, 2137.649425957813, 1948.5556538122441, 1944.2966254976652, 1861.4658020153422, 1813.4667683640412, 1805.057083659741, 1786.6085063187375, 1615.8738984441286, 1517.621872354802, 1399.9583827181652, 1313.789040653513, 8412.732804525296, 5595.707847932357, 5440.985089128128, 5403.421689606898, 4772.902713679796, 4245.890800052913, 3936.4715006322517, 3353.5940926873277, 3331.324768316012, 2979.506287964097, 2947.009178737164, 2739.9930898552457, 2715.8185417133504, 2660.375379139927, 2629.329945198063, 2603.5814417731203, 2079.8840679647183, 2060.482781785132, 2052.024542555385, 2030.891310308753, 1989.2171085218617, 1891.8826301765841, 1804.2677026128495, 1729.6108432736194, 1660.7940855242741, 1620.4623863333582, 1576.284086281392, 1573.4891045628979, 1543.56954081837, 1490.5588530489376, 7527.159196866251, 6322.498706188654, 6214.4835472090845, 4968.719903160452, 4320.467275238104, 3061.542304955526, 3030.2043891865223, 3007.0252348940794, 2621.6394656951593, 2261.095074626725, 2236.494439961991, 2142.2520686026487, 2134.076130389456, 2093.9176167500154, 1974.036977393376, 1893.836315237028, 1831.5172045057332, 1776.74754742941, 1666.7316400168338, 1647.875381156079, 1609.1786076428466, 1579.7190831441874, 1554.2513599555125, 1539.9357559468, 1532.1074994656797, 1461.3345667834942, 1450.9393081500946, 1439.4719338682073, 1379.5584112659508, 1369.9932921560387], \"Category\": [\"Default\", \"Default\", \"Default\", \"Default\", \"Default\", \"Default\", \"Default\", \"Default\", \"Default\", \"Default\", \"Default\", \"Default\", \"Default\", \"Default\", \"Default\", \"Default\", \"Default\", \"Default\", \"Default\", \"Default\", \"Default\", \"Default\", \"Default\", \"Default\", \"Default\", \"Default\", \"Default\", \"Default\", \"Default\", \"Default\", \"Topic1\", \"Topic1\", \"Topic1\", \"Topic1\", \"Topic1\", \"Topic1\", \"Topic1\", \"Topic1\", \"Topic1\", \"Topic1\", \"Topic1\", \"Topic1\", \"Topic1\", \"Topic1\", \"Topic1\", \"Topic1\", \"Topic1\", \"Topic1\", \"Topic1\", \"Topic1\", \"Topic1\", \"Topic1\", \"Topic1\", \"Topic1\", \"Topic1\", \"Topic1\", \"Topic1\", \"Topic1\", \"Topic1\", \"Topic1\", \"Topic1\", \"Topic2\", \"Topic2\", \"Topic2\", \"Topic2\", \"Topic2\", \"Topic2\", \"Topic2\", \"Topic2\", \"Topic2\", \"Topic2\", \"Topic2\", \"Topic2\", \"Topic2\", \"Topic2\", \"Topic2\", \"Topic2\", \"Topic2\", \"Topic2\", \"Topic2\", \"Topic2\", \"Topic2\", \"Topic2\", \"Topic2\", \"Topic2\", \"Topic2\", \"Topic2\", \"Topic2\", \"Topic2\", \"Topic2\", \"Topic2\", \"Topic2\", \"Topic2\", \"Topic3\", \"Topic3\", \"Topic3\", \"Topic3\", \"Topic3\", \"Topic3\", \"Topic3\", \"Topic3\", \"Topic3\", \"Topic3\", \"Topic3\", \"Topic3\", \"Topic3\", \"Topic3\", \"Topic3\", \"Topic3\", \"Topic3\", \"Topic3\", \"Topic3\", \"Topic3\", \"Topic3\", \"Topic3\", \"Topic3\", \"Topic3\", \"Topic3\", \"Topic3\", \"Topic3\", \"Topic3\", \"Topic3\", \"Topic3\", \"Topic4\", \"Topic4\", \"Topic4\", \"Topic4\", \"Topic4\", \"Topic4\", \"Topic4\", \"Topic4\", \"Topic4\", \"Topic4\", \"Topic4\", \"Topic4\", \"Topic4\", \"Topic4\", \"Topic4\", \"Topic4\", \"Topic4\", \"Topic4\", \"Topic4\", \"Topic4\", \"Topic4\", \"Topic4\", \"Topic4\", \"Topic4\", \"Topic4\", \"Topic4\", \"Topic4\", \"Topic4\", \"Topic4\", \"Topic4\", \"Topic5\", \"Topic5\", \"Topic5\", \"Topic5\", \"Topic5\", \"Topic5\", \"Topic5\", \"Topic5\", \"Topic5\", \"Topic5\", \"Topic5\", \"Topic5\", \"Topic5\", \"Topic5\", \"Topic5\", \"Topic5\", \"Topic5\", \"Topic5\", \"Topic5\", \"Topic5\", \"Topic5\", \"Topic5\", \"Topic5\", \"Topic5\", \"Topic5\", \"Topic5\", \"Topic5\", \"Topic5\", \"Topic5\", \"Topic5\", \"Topic6\", \"Topic6\", \"Topic6\", \"Topic6\", \"Topic6\", \"Topic6\", \"Topic6\", \"Topic6\", \"Topic6\", \"Topic6\", \"Topic6\", \"Topic6\", \"Topic6\", \"Topic6\", \"Topic6\", \"Topic6\", \"Topic6\", \"Topic6\", \"Topic6\", \"Topic6\", \"Topic6\", \"Topic6\", \"Topic6\", \"Topic6\", \"Topic6\", \"Topic6\", \"Topic6\", \"Topic6\", \"Topic6\", \"Topic6\", \"Topic7\", \"Topic7\", \"Topic7\", \"Topic7\", \"Topic7\", \"Topic7\", \"Topic7\", \"Topic7\", \"Topic7\", \"Topic7\", \"Topic7\", \"Topic7\", \"Topic7\", \"Topic7\", \"Topic7\", \"Topic7\", \"Topic7\", \"Topic7\", \"Topic7\", \"Topic7\", \"Topic7\", \"Topic7\", \"Topic7\", \"Topic7\", \"Topic7\", \"Topic7\", \"Topic7\", \"Topic7\", \"Topic7\", \"Topic7\", \"Topic8\", \"Topic8\", \"Topic8\", \"Topic8\", \"Topic8\", \"Topic8\", \"Topic8\", \"Topic8\", \"Topic8\", \"Topic8\", \"Topic8\", \"Topic8\", \"Topic8\", \"Topic8\", \"Topic8\", \"Topic8\", \"Topic8\", \"Topic8\", \"Topic8\", \"Topic8\", \"Topic8\", \"Topic8\", \"Topic8\", \"Topic8\", \"Topic8\", \"Topic8\", \"Topic8\", \"Topic8\", \"Topic8\", \"Topic8\", \"Topic9\", \"Topic9\", \"Topic9\", \"Topic9\", \"Topic9\", \"Topic9\", \"Topic9\", \"Topic9\", \"Topic9\", \"Topic9\", \"Topic9\", \"Topic9\", \"Topic9\", \"Topic9\", \"Topic9\", \"Topic9\", \"Topic9\", \"Topic9\", \"Topic9\", \"Topic9\", \"Topic9\", \"Topic9\", \"Topic9\", \"Topic9\", \"Topic9\", \"Topic9\", \"Topic9\", \"Topic9\", \"Topic9\", \"Topic9\", \"Topic10\", \"Topic10\", \"Topic10\", \"Topic10\", \"Topic10\", \"Topic10\", \"Topic10\", \"Topic10\", \"Topic10\", \"Topic10\", \"Topic10\", \"Topic10\", \"Topic10\", \"Topic10\", \"Topic10\", \"Topic10\", \"Topic10\", \"Topic10\", \"Topic10\", \"Topic10\", \"Topic10\", \"Topic10\", \"Topic10\", \"Topic10\", \"Topic10\", \"Topic10\", \"Topic10\", \"Topic10\", \"Topic10\", \"Topic10\", \"Topic10\", \"Topic11\", \"Topic11\", \"Topic11\", \"Topic11\", \"Topic11\", \"Topic11\", \"Topic11\", \"Topic11\", \"Topic11\", \"Topic11\", \"Topic11\", \"Topic11\", \"Topic11\", \"Topic11\", \"Topic11\", \"Topic11\", \"Topic11\", \"Topic11\", \"Topic11\", \"Topic11\", \"Topic11\", \"Topic11\", \"Topic11\", \"Topic11\", \"Topic11\", \"Topic11\", \"Topic11\", \"Topic11\", \"Topic11\", \"Topic11\", \"Topic12\", \"Topic12\", \"Topic12\", \"Topic12\", \"Topic12\", \"Topic12\", \"Topic12\", \"Topic12\", \"Topic12\", \"Topic12\", \"Topic12\", \"Topic12\", \"Topic12\", \"Topic12\", \"Topic12\", \"Topic12\", \"Topic12\", \"Topic12\", \"Topic12\", \"Topic12\", \"Topic12\", \"Topic12\", \"Topic12\", \"Topic12\", \"Topic12\", \"Topic12\", \"Topic12\", \"Topic12\", \"Topic12\", \"Topic12\", \"Topic12\", \"Topic12\", \"Topic13\", \"Topic13\", \"Topic13\", \"Topic13\", \"Topic13\", \"Topic13\", \"Topic13\", \"Topic13\", \"Topic13\", \"Topic13\", \"Topic13\", \"Topic13\", \"Topic13\", \"Topic13\", \"Topic13\", \"Topic13\", \"Topic13\", \"Topic13\", \"Topic13\", \"Topic13\", \"Topic13\", \"Topic13\", \"Topic13\", \"Topic13\", \"Topic13\", \"Topic13\", \"Topic13\", \"Topic13\", \"Topic13\", \"Topic13\", \"Topic14\", \"Topic14\", \"Topic14\", \"Topic14\", \"Topic14\", \"Topic14\", \"Topic14\", \"Topic14\", \"Topic14\", \"Topic14\", \"Topic14\", \"Topic14\", \"Topic14\", \"Topic14\", \"Topic14\", \"Topic14\", \"Topic14\", \"Topic14\", \"Topic14\", \"Topic14\", \"Topic14\", \"Topic14\", \"Topic14\", \"Topic14\", \"Topic14\", \"Topic14\", \"Topic14\", \"Topic14\", \"Topic14\", \"Topic14\", \"Topic15\", \"Topic15\", \"Topic15\", \"Topic15\", \"Topic15\", \"Topic15\", \"Topic15\", \"Topic15\", \"Topic15\", \"Topic15\", \"Topic15\", \"Topic15\", \"Topic15\", \"Topic15\", \"Topic15\", \"Topic15\", \"Topic15\", \"Topic15\", \"Topic15\", \"Topic15\", \"Topic15\", \"Topic15\", \"Topic15\", \"Topic15\", \"Topic15\", \"Topic15\", \"Topic15\", \"Topic15\", \"Topic15\", \"Topic15\", \"Topic16\", \"Topic16\", \"Topic16\", \"Topic16\", \"Topic16\", \"Topic16\", \"Topic16\", \"Topic16\", \"Topic16\", \"Topic16\", \"Topic16\", \"Topic16\", \"Topic16\", \"Topic16\", \"Topic16\", \"Topic16\", \"Topic16\", \"Topic16\", \"Topic16\", \"Topic16\", \"Topic16\", \"Topic16\", \"Topic16\", \"Topic16\", \"Topic16\", \"Topic16\", \"Topic16\", \"Topic16\", \"Topic16\", \"Topic16\", \"Topic17\", \"Topic17\", \"Topic17\", \"Topic17\", \"Topic17\", \"Topic17\", \"Topic17\", \"Topic17\", \"Topic17\", \"Topic17\", \"Topic17\", \"Topic17\", \"Topic17\", \"Topic17\", \"Topic17\", \"Topic17\", \"Topic17\", \"Topic17\", \"Topic17\", \"Topic17\", \"Topic17\", \"Topic17\", \"Topic17\", \"Topic17\", \"Topic17\", \"Topic17\", \"Topic17\", \"Topic17\", \"Topic17\", \"Topic17\", \"Topic18\", \"Topic18\", \"Topic18\", \"Topic18\", \"Topic18\", \"Topic18\", \"Topic18\", \"Topic18\", \"Topic18\", \"Topic18\", \"Topic18\", \"Topic18\", \"Topic18\", \"Topic18\", \"Topic18\", \"Topic18\", \"Topic18\", \"Topic18\", \"Topic18\", \"Topic18\", \"Topic18\", \"Topic18\", \"Topic18\", \"Topic18\", \"Topic18\", \"Topic18\", \"Topic18\", \"Topic18\", \"Topic18\", \"Topic18\", \"Topic19\", \"Topic19\", \"Topic19\", \"Topic19\", \"Topic19\", \"Topic19\", \"Topic19\", \"Topic19\", \"Topic19\", \"Topic19\", \"Topic19\", \"Topic19\", \"Topic19\", \"Topic19\", \"Topic19\", \"Topic19\", \"Topic19\", \"Topic19\", \"Topic19\", \"Topic19\", \"Topic19\", \"Topic19\", \"Topic19\", \"Topic19\", \"Topic19\", \"Topic19\", \"Topic19\", \"Topic19\", \"Topic19\", \"Topic19\", \"Topic20\", \"Topic20\", \"Topic20\", \"Topic20\", \"Topic20\", \"Topic20\", \"Topic20\", \"Topic20\", \"Topic20\", \"Topic20\", \"Topic20\", \"Topic20\", \"Topic20\", \"Topic20\", \"Topic20\", \"Topic20\", \"Topic20\", \"Topic20\", \"Topic20\", \"Topic20\", \"Topic20\", \"Topic20\", \"Topic20\", \"Topic20\", \"Topic20\", \"Topic20\", \"Topic20\", \"Topic20\", \"Topic20\", \"Topic20\", \"Topic20\", \"Topic21\", \"Topic21\", \"Topic21\", \"Topic21\", \"Topic21\", \"Topic21\", \"Topic21\", \"Topic21\", \"Topic21\", \"Topic21\", \"Topic21\", \"Topic21\", \"Topic21\", \"Topic21\", \"Topic21\", \"Topic21\", \"Topic21\", \"Topic21\", \"Topic21\", \"Topic21\", \"Topic21\", \"Topic21\", \"Topic21\", \"Topic21\", \"Topic21\", \"Topic21\", \"Topic21\", \"Topic21\", \"Topic21\", \"Topic21\", \"Topic22\", \"Topic22\", \"Topic22\", \"Topic22\", \"Topic22\", \"Topic22\", \"Topic22\", \"Topic22\", \"Topic22\", \"Topic22\", \"Topic22\", \"Topic22\", \"Topic22\", \"Topic22\", \"Topic22\", \"Topic22\", \"Topic22\", \"Topic22\", \"Topic22\", \"Topic22\", \"Topic22\", \"Topic22\", \"Topic22\", \"Topic22\", \"Topic22\", \"Topic22\", \"Topic22\", \"Topic22\", \"Topic22\", \"Topic22\", \"Topic23\", \"Topic23\", \"Topic23\", \"Topic23\", \"Topic23\", \"Topic23\", \"Topic23\", \"Topic23\", \"Topic23\", \"Topic23\", \"Topic23\", \"Topic23\", \"Topic23\", \"Topic23\", \"Topic23\", \"Topic23\", \"Topic23\", \"Topic23\", \"Topic23\", \"Topic23\", \"Topic23\", \"Topic23\", \"Topic23\", \"Topic23\", \"Topic23\", \"Topic23\", \"Topic23\", \"Topic23\", \"Topic23\", \"Topic23\", \"Topic24\", \"Topic24\", \"Topic24\", \"Topic24\", \"Topic24\", \"Topic24\", \"Topic24\", \"Topic24\", \"Topic24\", \"Topic24\", \"Topic24\", \"Topic24\", \"Topic24\", \"Topic24\", \"Topic24\", \"Topic24\", \"Topic24\", \"Topic24\", \"Topic24\", \"Topic24\", \"Topic24\", \"Topic24\", \"Topic24\", \"Topic24\", \"Topic24\", \"Topic24\", \"Topic24\", \"Topic24\", \"Topic24\", \"Topic24\", \"Topic25\", \"Topic25\", \"Topic25\", \"Topic25\", \"Topic25\", \"Topic25\", \"Topic25\", \"Topic25\", \"Topic25\", \"Topic25\", \"Topic25\", \"Topic25\", \"Topic25\", \"Topic25\", \"Topic25\", \"Topic25\", \"Topic25\", \"Topic25\", \"Topic25\", \"Topic25\", \"Topic25\", \"Topic25\", \"Topic25\", \"Topic25\", \"Topic25\", \"Topic25\", \"Topic25\", \"Topic25\", \"Topic25\", \"Topic25\", \"Topic26\", \"Topic26\", \"Topic26\", \"Topic26\", \"Topic26\", \"Topic26\", \"Topic26\", \"Topic26\", \"Topic26\", \"Topic26\", \"Topic26\", \"Topic26\", \"Topic26\", \"Topic26\", \"Topic26\", \"Topic26\", \"Topic26\", \"Topic26\", \"Topic26\", \"Topic26\", \"Topic26\", \"Topic26\", \"Topic26\", \"Topic26\", \"Topic26\", \"Topic26\", \"Topic26\", \"Topic26\", \"Topic26\", \"Topic26\", \"Topic27\", \"Topic27\", \"Topic27\", \"Topic27\", \"Topic27\", \"Topic27\", \"Topic27\", \"Topic27\", \"Topic27\", \"Topic27\", \"Topic27\", \"Topic27\", \"Topic27\", \"Topic27\", \"Topic27\", \"Topic27\", \"Topic27\", \"Topic27\", \"Topic27\", \"Topic27\", \"Topic27\", \"Topic27\", \"Topic27\", \"Topic27\", \"Topic27\", \"Topic27\", \"Topic27\", \"Topic27\", \"Topic27\", \"Topic27\", \"Topic28\", \"Topic28\", \"Topic28\", \"Topic28\", \"Topic28\", \"Topic28\", \"Topic28\", \"Topic28\", \"Topic28\", \"Topic28\", \"Topic28\", \"Topic28\", \"Topic28\", \"Topic28\", \"Topic28\", \"Topic28\", \"Topic28\", \"Topic28\", \"Topic28\", \"Topic28\", \"Topic28\", \"Topic28\", \"Topic28\", \"Topic28\", \"Topic28\", \"Topic28\", \"Topic28\", \"Topic28\", \"Topic28\", \"Topic28\", \"Topic29\", \"Topic29\", \"Topic29\", \"Topic29\", \"Topic29\", \"Topic29\", \"Topic29\", \"Topic29\", \"Topic29\", \"Topic29\", \"Topic29\", \"Topic29\", \"Topic29\", \"Topic29\", \"Topic29\", \"Topic29\", \"Topic29\", \"Topic29\", \"Topic29\", \"Topic29\", \"Topic29\", \"Topic29\", \"Topic29\", \"Topic29\", \"Topic29\", \"Topic29\", \"Topic29\", \"Topic29\", \"Topic29\", \"Topic29\", \"Topic30\", \"Topic30\", \"Topic30\", \"Topic30\", \"Topic30\", \"Topic30\", \"Topic30\", \"Topic30\", \"Topic30\", \"Topic30\", \"Topic30\", \"Topic30\", \"Topic30\", \"Topic30\", \"Topic30\", \"Topic30\", \"Topic30\", \"Topic30\", \"Topic30\", \"Topic30\", \"Topic30\", \"Topic30\", \"Topic30\", \"Topic30\", \"Topic30\", \"Topic30\", \"Topic30\", \"Topic30\", \"Topic30\", \"Topic30\"], \"logprob\": [30.0, 29.0, 28.0, 27.0, 26.0, 25.0, 24.0, 23.0, 22.0, 21.0, 20.0, 19.0, 18.0, 17.0, 16.0, 15.0, 14.0, 13.0, 12.0, 11.0, 10.0, 9.0, 8.0, 7.0, 6.0, 5.0, 4.0, 3.0, 2.0, 1.0, -1.9103, -3.3213, -3.4859, -3.5929, -3.5961, -3.6398, -3.6731, -3.7792, -3.7941, -3.8173, -3.8797, -3.8846, -3.9676, -4.0507, -4.2105, -4.2243, -4.2634, -4.2897, -4.3603, -4.3625, -4.4892, -4.5138, -4.5751, -4.6296, -4.6304, -4.6795, -4.708, -4.7216, -4.8111, -4.8504, -4.567, -2.0315, -2.1194, -2.562, -3.1253, -3.4269, -3.6414, -3.685, -4.0806, -4.2096, -4.3183, -4.3564, -4.4753, -4.5232, -4.5479, -4.5731, -4.7773, -4.7991, -4.8237, -4.8298, -4.8909, -4.9146, -4.962, -5.003, -5.0041, -5.0594, -5.0626, -5.107, -5.1258, -5.1877, -5.199, -4.1103, -5.0375, -2.6417, -3.5932, -3.6206, -3.6325, -3.6951, -3.8123, -4.054, -4.1404, -4.1808, -4.2232, -4.2257, -4.2338, -4.2897, -4.3151, -4.375, -4.4076, -4.4168, -4.4493, -4.4908, -4.4934, -4.5163, -4.5961, -4.6013, -4.6048, -4.6319, -4.65, -4.6519, -4.6956, -4.6958, -4.7589, -2.9529, -3.3064, -3.3431, -3.3448, -3.3688, -3.576, -3.9588, -3.9896, -4.0587, -4.0774, -4.1457, -4.1498, -4.2059, -4.2425, -4.2681, -4.3229, -4.3617, -4.4078, -4.4926, -4.504, -4.5164, -4.5419, -4.6219, -4.6946, -4.717, -4.7329, -4.7436, -4.7454, -4.896, -4.9016, -2.7111, -2.9789, -3.2569, -3.2918, -3.3016, -3.4755, -3.5236, -3.555, -3.9722, -3.9837, -3.9914, -4.1109, -4.2031, -4.2526, -4.2562, -4.2759, -4.2764, -4.3011, -4.3393, -4.3608, -4.3716, -4.5991, -4.6079, -4.6429, -4.6952, -4.7181, -4.7471, -4.7627, -4.8483, -4.8689, -2.5201, -3.2405, -3.3065, -3.3634, -3.3851, -3.4602, -3.6472, -3.6903, -3.8125, -3.8631, -3.913, -3.9641, -4.0338, -4.0406, -4.0554, -4.115, -4.1403, -4.1683, -4.2266, -4.2352, -4.484, -4.5437, -4.5841, -4.7508, -4.7866, -4.8405, -4.8482, -4.9156, -4.929, -4.9674, -2.8176, -3.3653, -3.525, -3.5524, -3.7333, -3.766, -3.8135, -3.8401, -3.8448, -3.9846, -4.0352, -4.0911, -4.1011, -4.1318, -4.1656, -4.2035, -4.2543, -4.3995, -4.4355, -4.4704, -4.4834, -4.6038, -4.6201, -4.7319, -4.7822, -4.8597, -4.8801, -4.918, -5.0458, -5.0462, -2.7138, -3.0797, -3.1329, -3.198, -3.4421, -3.5624, -3.8712, -3.8935, -3.9179, -4.073, -4.0817, -4.1128, -4.1807, -4.2036, -4.247, -4.3072, -4.3816, -4.5084, -4.6051, -4.6232, -4.666, -4.6776, -4.696, -4.701, -4.7147, -4.748, -4.7752, -4.8085, -4.8105, -4.8483, -2.8575, -2.9965, -3.0692, -3.082, -3.3477, -3.4869, -3.8208, -3.8398, -3.9471, -4.1112, -4.1437, -4.1962, -4.2348, -4.2634, -4.363, -4.3903, -4.3928, -4.5264, -4.5266, -4.5408, -4.5794, -4.6089, -4.6663, -4.6723, -4.6916, -4.6992, -4.7389, -4.8167, -4.8378, -4.8654, -2.9957, -3.245, -3.2585, -3.3532, -3.5931, -3.6472, -3.6787, -3.8098, -3.9183, -3.9804, -4.1404, -4.1587, -4.1914, -4.2623, -4.2882, -4.3002, -4.3468, -4.3797, -4.4336, -4.4705, -4.5574, -4.5871, -4.602, -4.6062, -4.6155, -4.6206, -4.6498, -4.6599, -4.7178, -4.809, -4.1149, -2.9879, -3.1189, -3.3992, -3.4721, -3.5169, -3.7029, -3.7894, -3.9826, -4.0332, -4.1793, -4.2815, -4.3801, -4.4245, -4.4297, -4.4362, -4.4693, -4.4731, -4.4939, -4.5653, -4.5671, -4.575, -4.6686, -4.7036, -4.7173, -4.7694, -4.7757, -4.7891, -4.8686, -4.8978, -5.0028, -2.949, -2.9621, -3.008, -3.3554, -3.4407, -3.9331, -4.1553, -4.1697, -4.2559, -4.2646, -4.306, -4.3194, -4.4121, -4.4621, -4.5022, -4.5852, -4.5909, -4.5935, -4.6173, -4.6373, -4.6444, -4.6477, -4.7206, -4.7682, -4.7813, -4.8268, -4.831, -4.8335, -4.8368, -4.8888, -3.1222, -3.1927, -2.1554, -2.6254, -3.2917, -3.3169, -3.8241, -3.8253, -3.8883, -4.0784, -4.0842, -4.2137, -4.3352, -4.3355, -4.417, -4.473, -4.5272, -4.5739, -4.5945, -4.6113, -4.661, -4.6896, -4.7107, -4.715, -4.7172, -4.7449, -4.8733, -4.8893, -5.0026, -5.0123, -5.0874, -5.0999, -2.5378, -2.983, -3.3524, -3.3626, -3.4724, -3.7964, -3.933, -4.0544, -4.0791, -4.0892, -4.0898, -4.1471, -4.1915, -4.3081, -4.3083, -4.5846, -4.6015, -4.6057, -4.6218, -4.6771, -4.7025, -4.7279, -4.766, -4.8151, -4.8227, -4.8739, -4.9067, -4.9116, -4.931, -4.9367, -2.7574, -2.9553, -3.1307, -3.5208, -3.6466, -3.7195, -3.9163, -4.0355, -4.0661, -4.0674, -4.1609, -4.1958, -4.2163, -4.2677, -4.2992, -4.3147, -4.3477, -4.3782, -4.4697, -4.4799, -4.5113, -4.6078, -4.6337, -4.6967, -4.7201, -4.7616, -4.8656, -4.8762, -4.9532, -4.9664, -2.6615, -3.0452, -3.2284, -3.6642, -3.7897, -3.7919, -3.8573, -3.9266, -3.9663, -3.98, -4.0396, -4.0865, -4.2554, -4.2571, -4.3402, -4.4879, -4.4918, -4.5851, -4.5899, -4.6463, -4.6557, -4.6747, -4.7002, -4.7711, -4.776, -4.7883, -4.8066, -4.8129, -4.8244, -4.8762, -2.7822, -3.3943, -3.6253, -3.6392, -3.7318, -3.7465, -3.7967, -3.8035, -3.8819, -3.9503, -4.0695, -4.173, -4.2103, -4.2917, -4.3227, -4.3572, -4.4069, -4.5252, -4.5365, -4.5835, -4.6176, -4.6508, -4.6737, -4.6947, -4.6996, -4.7226, -4.7352, -4.7443, -4.7741, -4.7892, -2.9133, -3.1564, -3.5875, -3.6563, -3.6978, -3.8018, -3.8093, -3.8356, -4.0614, -4.0675, -4.0795, -4.0978, -4.1545, -4.1701, -4.2642, -4.3587, -4.4135, -4.4148, -4.417, -4.4431, -4.4659, -4.5294, -4.5904, -4.7356, -4.7674, -4.7791, -4.8005, -4.8272, -4.8323, -4.8397, -2.902, -2.9246, -3.2794, -3.3432, -3.5391, -3.6896, -3.7742, -3.8197, -3.8441, -3.8919, -3.9978, -4.0311, -4.176, -4.2428, -4.2916, -4.322, -4.4501, -4.4828, -4.485, -4.5146, -4.6147, -4.6413, -4.6463, -4.7043, -4.7506, -4.7649, -4.7987, -4.8056, -4.8175, -4.8408, -3.4074, -3.4297, -3.4799, -3.5695, -3.914, -3.9373, -3.9608, -3.9933, -4.1613, -4.2239, -4.2418, -4.2502, -4.5154, -4.5184, -4.5606, -4.58, -4.5892, -4.6186, -4.6234, -4.6923, -4.7706, -4.796, -4.8013, -4.8018, -4.849, -4.8604, -4.8918, -4.8921, -4.8947, -4.9113, -2.2795, -1.9671, -2.3473, -3.6152, -3.6637, -3.6938, -3.7567, -3.7893, -3.9311, -3.9349, -3.9979, -4.1828, -4.2377, -4.4206, -4.4763, -4.4978, -4.4997, -4.5124, -4.5598, -4.6067, -4.6286, -4.6427, -4.7361, -4.7784, -4.8451, -4.8459, -4.8594, -4.9223, -4.934, -4.936, -4.9808, -3.1159, -3.5499, -3.6704, -3.7352, -3.8008, -3.8702, -4.0464, -4.051, -4.1478, -4.1634, -4.1753, -4.1903, -4.1973, -4.2436, -4.4778, -4.491, -4.5367, -4.5473, -4.5493, -4.5518, -4.6368, -4.7105, -4.7715, -4.7724, -4.8376, -4.8415, -4.8657, -4.8746, -4.8767, -4.9145, -3.0645, -3.0909, -3.3781, -3.5835, -3.659, -3.7915, -3.8406, -4.0186, -4.0412, -4.1271, -4.1406, -4.213, -4.2653, -4.2719, -4.2896, -4.3056, -4.3519, -4.3521, -4.3776, -4.4447, -4.4942, -4.5151, -4.557, -4.6399, -4.6844, -4.7077, -4.7653, -4.7746, -4.8171, -4.9333, -2.8327, -3.1893, -3.3047, -3.3703, -3.4263, -3.6049, -3.7405, -3.9159, -4.0087, -4.0135, -4.0176, -4.0453, -4.0825, -4.2087, -4.2298, -4.2816, -4.3435, -4.3624, -4.3782, -4.4439, -4.4772, -4.5455, -4.6416, -4.6804, -4.7249, -4.7753, -4.7921, -4.8035, -4.8199, -4.8261, -1.9307, -2.7829, -3.6645, -3.7249, -3.7346, -3.7694, -3.9253, -3.9559, -4.1181, -4.2082, -4.2467, -4.3321, -4.3969, -4.4475, -4.4728, -4.5158, -4.5909, -4.6188, -4.657, -4.6806, -4.6905, -4.7137, -4.7527, -4.7755, -4.8266, -4.8298, -4.8307, -4.8583, -4.8764, -4.8918, -3.0899, -3.2369, -3.8209, -3.8638, -3.9535, -4.1605, -4.1656, -4.1766, -4.257, -4.3112, -4.3116, -4.3172, -4.3613, -4.4393, -4.4814, -4.4826, -4.4857, -4.5589, -4.6689, -4.7378, -4.7389, -4.7452, -4.8061, -4.8232, -4.832, -4.8521, -4.8655, -4.9116, -4.9319, -4.9418, -2.7771, -3.0808, -3.3054, -3.4849, -3.638, -4.1512, -4.1843, -4.3866, -4.3912, -4.4535, -4.5273, -4.557, -4.5587, -4.6167, -4.6654, -4.6705, -4.7065, -4.7577, -4.7967, -4.8071, -4.8327, -4.859, -4.8724, -4.8747, -4.9184, -4.9358, -4.9711, -4.9731, -4.9779, -4.9782, -2.3281, -3.1013, -3.6061, -3.6816, -3.7435, -3.8404, -4.0041, -4.0323, -4.0597, -4.0638, -4.0823, -4.1269, -4.159, -4.1721, -4.2162, -4.3095, -4.3133, -4.339, -4.3629, -4.4458, -4.5385, -4.5407, -4.5842, -4.6104, -4.615, -4.6253, -4.7258, -4.7886, -4.8693, -4.9329, -3.0529, -3.4607, -3.4888, -3.4957, -3.6198, -3.7368, -3.8125, -3.9728, -3.9795, -4.0911, -4.1021, -4.1749, -4.1838, -4.2044, -4.2162, -4.226, -4.4507, -4.4601, -4.4642, -4.4745, -4.4953, -4.5455, -4.5929, -4.6352, -4.6758, -4.7004, -4.7281, -4.7298, -4.749, -4.784, -3.1584, -3.3328, -3.35, -3.5738, -3.7136, -4.0582, -4.0685, -4.0761, -4.2133, -4.3613, -4.3723, -4.4153, -4.4192, -4.4382, -4.4972, -4.5387, -4.5721, -4.6025, -4.6665, -4.6778, -4.7016, -4.7201, -4.7364, -4.7456, -4.7507, -4.798, -4.8052, -4.8131, -4.8557, -4.8626], \"loglift\": [30.0, 29.0, 28.0, 27.0, 26.0, 25.0, 24.0, 23.0, 22.0, 21.0, 20.0, 19.0, 18.0, 17.0, 16.0, 15.0, 14.0, 13.0, 12.0, 11.0, 10.0, 9.0, 8.0, 7.0, 6.0, 5.0, 4.0, 3.0, 2.0, 1.0, 3.2721, 3.272, 3.272, 3.2719, 3.2719, 3.2719, 3.2719, 3.2719, 3.2719, 3.2719, 3.2719, 3.2719, 3.2719, 3.2719, 3.2718, 3.2718, 3.2718, 3.2718, 3.2718, 3.2718, 3.2717, 3.2717, 3.2717, 3.2717, 3.2717, 3.2717, 3.2717, 3.2716, 3.2716, 3.2716, 1.6947, 3.2846, 3.2846, 3.2846, 3.2846, 3.2845, 3.2845, 3.2845, 3.2844, 3.2844, 3.2844, 3.2843, 3.2843, 3.2843, 3.2843, 3.2843, 3.2842, 3.2842, 3.2842, 3.2842, 3.2841, 3.2841, 3.2841, 3.2841, 3.2841, 3.284, 3.284, 3.284, 3.284, 3.2839, 3.2839, 3.0736, 2.9725, 3.3122, 3.3122, 3.3121, 3.3121, 3.3121, 3.3121, 3.3121, 3.312, 3.312, 3.312, 3.312, 3.312, 3.312, 3.312, 3.312, 3.312, 3.312, 3.312, 3.3119, 3.3119, 3.3119, 3.3119, 3.3119, 3.3119, 3.3119, 3.3119, 3.3119, 3.3119, 3.3119, 3.3118, 3.3171, 3.317, 3.317, 3.317, 3.317, 3.317, 3.3169, 3.3169, 3.3169, 3.3169, 3.3169, 3.3169, 3.3169, 3.3169, 3.3169, 3.3168, 3.3168, 3.3168, 3.3168, 3.3168, 3.3168, 3.3168, 3.3167, 3.3167, 3.3167, 3.3167, 3.3167, 3.3167, 3.3166, 3.3166, 3.3328, 3.3328, 3.3328, 3.3328, 3.3328, 3.3328, 3.3328, 3.3328, 3.3327, 3.3327, 3.3327, 3.3326, 3.3326, 3.3326, 3.3326, 3.3326, 3.3326, 3.3326, 3.3326, 3.3326, 3.3326, 3.3325, 3.3325, 3.3325, 3.3324, 3.3324, 3.3324, 3.3324, 3.3324, 3.3324, 3.3334, 3.3333, 3.3333, 3.3333, 3.3333, 3.3333, 3.3332, 3.3332, 3.3332, 3.3332, 3.3332, 3.3332, 3.3332, 3.3332, 3.3332, 3.3332, 3.3331, 3.3331, 3.3331, 3.3331, 3.333, 3.333, 3.333, 3.3329, 3.3329, 3.3329, 3.3329, 3.3328, 3.3328, 3.3328, 3.3552, 3.3551, 3.3551, 3.3551, 3.3551, 3.3551, 3.3551, 3.3551, 3.3551, 3.355, 3.355, 3.355, 3.355, 3.355, 3.355, 3.355, 3.355, 3.3549, 3.3549, 3.3549, 3.3549, 3.3548, 3.3548, 3.3548, 3.3548, 3.3547, 3.3547, 3.3547, 3.3546, 3.3546, 3.3554, 3.3554, 3.3554, 3.3554, 3.3554, 3.3553, 3.3553, 3.3553, 3.3553, 3.3552, 3.3552, 3.3552, 3.3552, 3.3552, 3.3552, 3.3552, 3.3552, 3.3551, 3.3551, 3.3551, 3.355, 3.355, 3.355, 3.355, 3.355, 3.355, 3.355, 3.355, 3.355, 3.355, 3.3622, 3.3622, 3.3622, 3.3622, 3.3622, 3.3622, 3.3621, 3.3621, 3.3621, 3.362, 3.362, 3.362, 3.362, 3.362, 3.362, 3.3619, 3.3619, 3.3619, 3.3619, 3.3619, 3.3619, 3.3619, 3.3618, 3.3618, 3.3618, 3.3618, 3.3618, 3.3618, 3.3618, 3.3617, 3.37, 3.37, 3.37, 3.37, 3.37, 3.3699, 3.3699, 3.3699, 3.3699, 3.3699, 3.3698, 3.3698, 3.3698, 3.3698, 3.3698, 3.3698, 3.3698, 3.3698, 3.3697, 3.3697, 3.3697, 3.3697, 3.3697, 3.3697, 3.3697, 3.3697, 3.3697, 3.3697, 3.3696, 3.3696, 3.111, 3.3708, 3.3708, 3.3707, 3.3707, 3.3707, 3.3707, 3.3707, 3.3706, 3.3706, 3.3706, 3.3706, 3.3705, 3.3705, 3.3705, 3.3705, 3.3705, 3.3705, 3.3705, 3.3704, 3.3704, 3.3704, 3.3704, 3.3704, 3.3704, 3.3704, 3.3704, 3.3703, 3.3703, 3.3703, 3.3702, 3.3708, 3.3708, 3.3708, 3.3708, 3.3707, 3.3707, 3.3706, 3.3706, 3.3706, 3.3706, 3.3706, 3.3706, 3.3705, 3.3705, 3.3705, 3.3705, 3.3704, 3.3704, 3.3704, 3.3704, 3.3704, 3.3704, 3.3704, 3.3704, 3.3704, 3.3703, 3.3703, 3.3703, 3.3703, 3.3703, 3.1395, 2.1676, 3.3811, 3.3811, 3.381, 3.381, 3.3809, 3.3809, 3.3809, 3.3809, 3.3809, 3.3808, 3.3808, 3.3808, 3.3808, 3.3807, 3.3807, 3.3807, 3.3807, 3.3807, 3.3807, 3.3807, 3.3806, 3.3806, 3.3806, 3.3806, 3.3806, 3.3806, 3.3805, 3.3805, 3.3804, 3.3804, 3.3865, 3.3864, 3.3864, 3.3864, 3.3864, 3.3863, 3.3863, 3.3863, 3.3863, 3.3863, 3.3863, 3.3862, 3.3862, 3.3862, 3.3862, 3.3861, 3.3861, 3.3861, 3.3861, 3.3861, 3.386, 3.386, 3.386, 3.386, 3.386, 3.386, 3.3859, 3.3859, 3.3859, 3.3859, 3.4144, 3.4144, 3.4144, 3.4144, 3.4143, 3.4143, 3.4143, 3.4143, 3.4143, 3.4143, 3.4142, 3.4142, 3.4142, 3.4142, 3.4142, 3.4142, 3.4142, 3.4142, 3.4141, 3.4141, 3.4141, 3.4141, 3.4141, 3.414, 3.414, 3.414, 3.4139, 3.4139, 3.4139, 3.4139, 3.425, 3.4249, 3.4249, 3.4249, 3.4248, 3.4248, 3.4248, 3.4248, 3.4248, 3.4248, 3.4248, 3.4248, 3.4247, 3.4247, 3.4247, 3.4246, 3.4246, 3.4246, 3.4246, 3.4246, 3.4246, 3.4245, 3.4245, 3.4245, 3.4245, 3.4245, 3.4245, 3.4245, 3.4245, 3.4244, 3.4333, 3.4332, 3.4332, 3.4332, 3.4332, 3.4332, 3.4332, 3.4332, 3.4331, 3.4331, 3.4331, 3.4331, 3.4331, 3.433, 3.433, 3.433, 3.433, 3.4329, 3.4329, 3.4329, 3.4329, 3.4329, 3.4329, 3.4329, 3.4329, 3.4328, 3.4328, 3.4328, 3.4328, 3.4328, 3.435, 3.4349, 3.4349, 3.4349, 3.4349, 3.4348, 3.4348, 3.4348, 3.4348, 3.4348, 3.4348, 3.4348, 3.4348, 3.4347, 3.4347, 3.4347, 3.4347, 3.4347, 3.4347, 3.4347, 3.4346, 3.4346, 3.4346, 3.4345, 3.4345, 3.4345, 3.4345, 3.4345, 3.4345, 3.4345, 3.4368, 3.4368, 3.4368, 3.4368, 3.4368, 3.4367, 3.4367, 3.4367, 3.4367, 3.4367, 3.4367, 3.4367, 3.4366, 3.4366, 3.4366, 3.4366, 3.4365, 3.4365, 3.4365, 3.4365, 3.4365, 3.4365, 3.4364, 3.4364, 3.4364, 3.4364, 3.4364, 3.4364, 3.4364, 3.4363, 3.4377, 3.4376, 3.4376, 3.4376, 3.4376, 3.4376, 3.4375, 3.4375, 3.4375, 3.4375, 3.4375, 3.4375, 3.4374, 3.4374, 3.4374, 3.4373, 3.4373, 3.4373, 3.4373, 3.4373, 3.4372, 3.4372, 3.4372, 3.4372, 3.4372, 3.4372, 3.4372, 3.4372, 3.4372, 3.4372, 3.0808, 3.439, 3.439, 3.4389, 3.4389, 3.4389, 3.4388, 3.4388, 3.4388, 3.4388, 3.4388, 3.4387, 3.4387, 3.4387, 3.4386, 3.4386, 3.4386, 3.4386, 3.4386, 3.4386, 3.4386, 3.4386, 3.4385, 3.4385, 3.4385, 3.4385, 3.4384, 3.4384, 3.4384, 3.4384, 3.4384, 3.4436, 3.4435, 3.4435, 3.4435, 3.4435, 3.4435, 3.4434, 3.4434, 3.4434, 3.4434, 3.4434, 3.4434, 3.4434, 3.4433, 3.4433, 3.4433, 3.4432, 3.4432, 3.4432, 3.4432, 3.4432, 3.4432, 3.4431, 3.4431, 3.4431, 3.4431, 3.4431, 3.4431, 3.4431, 3.443, 3.4494, 3.4494, 3.4494, 3.4494, 3.4493, 3.4493, 3.4493, 3.4493, 3.4493, 3.4492, 3.4492, 3.4492, 3.4492, 3.4492, 3.4492, 3.4492, 3.4492, 3.4492, 3.4492, 3.4491, 3.4491, 3.4491, 3.4491, 3.449, 3.449, 3.449, 3.449, 3.449, 3.4489, 3.4489, 3.4609, 3.4608, 3.4608, 3.4608, 3.4608, 3.4608, 3.4607, 3.4607, 3.4607, 3.4607, 3.4607, 3.4607, 3.4607, 3.4606, 3.4606, 3.4606, 3.4606, 3.4606, 3.4606, 3.4605, 3.4605, 3.4605, 3.4604, 3.4604, 3.4604, 3.4604, 3.4604, 3.4604, 3.4603, 3.4603, 3.4613, 3.4613, 3.4612, 3.4612, 3.4611, 3.4611, 3.4611, 3.4611, 3.4611, 3.461, 3.461, 3.461, 3.461, 3.4609, 3.4609, 3.4609, 3.4609, 3.4609, 3.4608, 3.4608, 3.4608, 3.4608, 3.4608, 3.4608, 3.4608, 3.4608, 3.4608, 3.4607, 3.4607, 3.4607, 3.4661, 3.4661, 3.466, 3.466, 3.466, 3.4659, 3.4659, 3.4659, 3.4659, 3.4659, 3.4659, 3.4659, 3.4659, 3.4658, 3.4658, 3.4658, 3.4658, 3.4658, 3.4657, 3.4657, 3.4657, 3.4657, 3.4656, 3.4656, 3.4656, 3.4656, 3.4656, 3.4656, 3.4656, 3.4656, 3.4798, 3.4798, 3.4797, 3.4797, 3.4797, 3.4796, 3.4796, 3.4795, 3.4795, 3.4795, 3.4794, 3.4794, 3.4794, 3.4794, 3.4794, 3.4794, 3.4793, 3.4793, 3.4793, 3.4793, 3.4793, 3.4793, 3.4792, 3.4792, 3.4792, 3.4792, 3.4792, 3.4792, 3.4792, 3.4792, 3.4862, 3.4862, 3.4861, 3.4861, 3.4861, 3.4861, 3.486, 3.486, 3.486, 3.486, 3.486, 3.486, 3.486, 3.486, 3.486, 3.4859, 3.4859, 3.4859, 3.4859, 3.4859, 3.4858, 3.4858, 3.4858, 3.4858, 3.4858, 3.4858, 3.4858, 3.4857, 3.4857, 3.4856, 3.5087, 3.5087, 3.5087, 3.5087, 3.5087, 3.5086, 3.5086, 3.5086, 3.5086, 3.5086, 3.5085, 3.5085, 3.5085, 3.5085, 3.5085, 3.5085, 3.5084, 3.5084, 3.5084, 3.5084, 3.5084, 3.5084, 3.5084, 3.5083, 3.5083, 3.5083, 3.5083, 3.5083, 3.5083, 3.5083, 3.5145, 3.5145, 3.5145, 3.5144, 3.5144, 3.5143, 3.5143, 3.5143, 3.5143, 3.5142, 3.5142, 3.5142, 3.5142, 3.5142, 3.5142, 3.5142, 3.5141, 3.5141, 3.5141, 3.5141, 3.5141, 3.5141, 3.5141, 3.5141, 3.514, 3.514, 3.514, 3.514, 3.514, 3.514]}, \"token.table\": {\"Topic\": [1, 6, 14, 28, 27, 17, 5, 8, 29, 17, 30, 1, 4, 21, 11, 22, 5, 17, 30, 27, 14, 10, 18, 5, 23, 29, 26, 29, 17, 19, 1, 22, 27, 4, 16, 9, 14, 15, 14, 23, 5, 3, 17, 27, 29, 16, 23, 20, 14, 3, 4, 1, 18, 12, 8, 1, 20, 17, 1, 28, 3, 27, 21, 2, 6, 7, 18, 22, 20, 16, 16, 9, 26, 12, 14, 24, 10, 22, 24, 15, 10, 8, 2, 5, 4, 19, 3, 11, 3, 7, 19, 5, 15, 16, 15, 7, 24, 2, 8, 14, 2, 6, 17, 21, 26, 27, 20, 19, 29, 17, 10, 12, 16, 21, 10, 30, 30, 9, 28, 3, 15, 24, 28, 30, 15, 7, 2, 26, 29, 5, 14, 13, 22, 16, 17, 11, 14, 8, 29, 13, 24, 18, 29, 3, 16, 20, 25, 12, 12, 1, 4, 13, 16, 25, 2, 21, 19, 27, 5, 12, 10, 23, 25, 7, 15, 20, 17, 24, 20, 25, 13, 11, 22, 29, 1, 29, 26, 18, 18, 30, 22, 17, 5, 26, 2, 7, 6, 5, 5, 9, 4, 2, 14, 2, 2, 15, 27, 5, 7, 23, 14, 29, 21, 21, 6, 29, 20, 27, 11, 20, 23, 18, 4, 15, 29, 16, 17, 15, 7, 18, 24, 21, 9, 8, 29, 28, 9, 21, 26, 18, 29, 23, 4, 30, 13, 6, 11, 9, 14, 26, 27, 21, 23, 28, 14, 1, 20, 21, 6, 16, 21, 13, 23, 11, 3, 28, 9, 13, 23, 22, 11, 22, 20, 12, 18, 29, 2, 25, 26, 27, 18, 1, 19, 14, 2, 15, 10, 8, 30, 10, 26, 30, 9, 9, 6, 15, 8, 25, 25, 23, 17, 18, 29, 10, 7, 1, 30, 16, 15, 7, 18, 16, 20, 12, 19, 17, 27, 4, 2, 21, 7, 25, 6, 27, 30, 4, 21, 11, 10, 8, 27, 1, 6, 6, 21, 3, 30, 28, 7, 11, 7, 3, 11, 3, 9, 17, 10, 4, 20, 15, 28, 1, 19, 14, 11, 10, 3, 13, 19, 28, 3, 4, 28, 1, 12, 22, 28, 24, 1, 12, 19, 15, 8, 19, 24, 30, 9, 10, 21, 2, 30, 10, 22, 8, 19, 16, 8, 25, 10, 22, 6, 23, 1, 20, 18, 27, 16, 29, 5, 3, 15, 15, 17, 7, 27, 27, 27, 24, 8, 28, 9, 25, 24, 6, 15, 14, 7, 3, 30, 22, 27, 20, 5, 13, 15, 24, 20, 19, 13, 6, 9, 4, 6, 23, 13, 9, 4, 25, 12, 14, 5, 12, 11, 18, 30, 19, 17, 25, 2, 16, 4, 9, 19, 15, 30, 2, 20, 11, 26, 6, 5, 8, 2, 9, 7, 24, 29, 9, 18, 13, 7, 14, 24, 12, 28, 7, 12, 11, 27, 23, 18, 14, 10, 12, 28, 11, 10, 19, 6, 14, 23, 17, 4, 28, 2, 25, 12, 3, 8, 14, 17, 15, 18, 11, 23, 13, 4, 12, 20, 16, 4, 11, 21, 7, 27, 30, 5, 5, 18, 12, 8, 17, 16, 8, 16, 15, 30, 8, 20, 7, 2, 10, 2, 14, 20, 2, 8, 13, 7, 24, 21, 10, 13, 1, 12, 9, 4, 18, 28, 11, 4, 21, 17, 10, 10, 2, 19, 8, 23, 27, 23, 25, 12, 28, 22, 22, 30, 13, 12, 29, 1, 22, 21, 1, 19, 14, 20, 30, 14, 15, 14, 22, 24, 28, 2, 8, 21, 20, 3, 7, 26, 4, 4, 18, 30, 13, 22, 3, 22, 13, 27, 26, 23, 6, 20, 28, 24, 6, 7, 14, 20, 1, 13, 23, 25, 1, 9, 29, 14, 8, 25, 27, 24, 3, 9, 30, 16, 19, 2, 22, 23, 6, 24, 15, 18, 26, 11, 13, 7, 2, 24, 20, 5, 23, 3, 4, 17, 22, 18, 26, 5, 30, 13, 29, 25, 28, 10, 2, 12, 17, 23, 10, 29, 20, 18, 28, 20, 18, 25, 10, 10, 13, 19, 17, 8, 26, 1, 29, 15, 23, 19, 30, 19, 28, 19, 7, 3, 3, 7, 15, 17, 4, 21, 2, 22, 12, 25, 9, 11, 26, 12, 26, 4, 1, 8, 26, 20, 9, 24, 1, 9, 10, 7, 3, 22, 7, 24, 25, 27, 28, 15, 16, 11, 8, 12, 11, 22, 6, 24, 12, 16, 11, 13, 9, 4, 21, 21, 29, 3, 24, 1, 11, 18, 26, 27, 29, 24, 19, 24, 30, 4, 13, 6, 13, 21, 4, 26, 12, 3, 30, 11, 10, 5, 14, 24, 17, 26, 9, 22, 17, 18, 22, 30, 19, 10, 29, 8, 1, 14, 25, 25, 26, 9, 26, 16, 16, 2, 22, 19, 10, 5, 16, 13, 18, 15, 28, 28, 22, 16, 28, 25, 13, 18, 2, 10, 28, 6, 11, 1, 3, 25, 1, 27, 12, 11, 13, 27, 6, 16, 14, 18, 23, 2, 20, 16, 7, 20, 1, 30, 8, 20, 12, 5, 27, 3, 6, 6, 3, 2, 1, 1, 12, 26, 25, 6, 19, 19, 8, 5, 23, 21, 27, 24, 19, 24, 5, 8, 5, 21, 3, 13, 21, 25, 23, 26, 22, 7, 23, 28, 3, 9, 23, 26, 8, 21, 29, 9, 26, 6, 22, 26, 25, 13, 21, 17, 5, 25, 6, 23, 15, 5, 22, 12, 6, 5, 12, 15, 25, 28, 16, 5, 25, 19, 9, 29, 11, 17, 10, 17, 30, 4, 24, 29, 13, 11, 4, 26, 16, 22, 2], \"Freq\": [0.9998634793088684, 0.999681552849688, 0.9995202357319366, 0.999789286598597, 0.9995210784608085, 0.9993757567812275, 0.9999413231144734, 0.9997483699222182, 0.999574943633477, 0.9995494535490658, 0.9998228654379042, 0.9992648885202366, 0.9995223865707917, 0.9992579766002274, 0.9995829297152156, 0.9997597724941876, 0.9997979181265373, 0.9997727115823336, 0.9998551129517294, 0.9997279093428675, 0.9998782255103545, 0.9997896783252828, 0.999840470193484, 0.9997721487135968, 0.9999140801128186, 0.9997146577808546, 0.9999149509439025, 0.99968915923124, 0.9996748696285673, 0.9998928499672944, 0.9994588427984008, 0.9997575134830601, 0.9995884816484966, 0.9998168562158228, 0.999597531022399, 0.9993860002530944, 0.999423443015585, 0.9997362085504232, 0.9996866537611923, 0.999900661487213, 0.999632389249927, 0.9997412141618387, 0.9993106198497466, 0.9993724289785562, 0.9996023298813097, 0.9995215359258788, 0.999684047421505, 0.9995116338935266, 0.9998466561273261, 0.9993541419954693, 0.9993055504821864, 0.9997484832962994, 0.9998233499648558, 0.9998259461147058, 0.9995533485808981, 0.9998062962415408, 0.9993135406481252, 0.9995287490394573, 0.9998390672688364, 0.9995973629791837, 0.9995804064413932, 0.9997526554107893, 0.9999543416184024, 0.9999329418100296, 0.9997610108315561, 0.999780493311192, 0.9997128575655163, 0.9993980572541773, 0.9994778263415471, 0.9998490403253816, 0.9999123075076674, 0.9997468011297747, 0.9996368516864187, 0.999833077800153, 0.9991681081142655, 0.9998668912880587, 0.9996795376175327, 0.9997265387951291, 0.9996187677383755, 0.9998199357250257, 0.9996373282105886, 0.9992321629022904, 0.9993888214435316, 0.9993779745458392, 0.9996797682055488, 0.9993650723344077, 0.999596050202017, 0.9994420055983299, 0.9997114297508412, 0.9998160607540675, 0.9997249591276842, 0.9996462509792575, 0.9998793126129769, 0.9994919806912984, 0.9992880832491227, 0.9994184390463599, 0.99975007591329, 0.9994331663429875, 0.9998344093268202, 0.9996806576347007, 0.9993450113602398, 0.9997067979693303, 0.9996826792432832, 0.9994774364497906, 0.9996998058925256, 0.9995038904742926, 0.9993449809134937, 0.9997130639317963, 0.9995007162272489, 0.9992204305334896, 0.9996850177757417, 0.9994233111618287, 0.9998585177637103, 0.9995705463826242, 0.9998007571165188, 0.9999211219785358, 0.9994957394564646, 0.9997047968333159, 0.9997148381103937, 0.9999091011918478, 0.9994670815993401, 0.9998961214668323, 0.9994143766037594, 0.9991948792918873, 0.9995446336845218, 0.9999229310597098, 0.999903213527968, 0.999449441841063, 0.9997901971353333, 0.9998557582117921, 0.9997765827213403, 0.99971939656644, 0.9999444262830753, 0.9994894091949893, 0.9998144590496403, 0.9993302490111032, 0.9999251164742623, 0.9997722718761834, 0.9998802225210633, 0.9997605539707691, 0.99947845257073, 0.9996006465107624, 0.9999219587825786, 0.9996784885667469, 0.999757603891992, 0.9999108206909836, 0.9998374705808319, 0.9997828517684381, 0.9999288285879567, 0.9998506369462946, 0.9998386147171198, 0.9999074374448021, 0.9998752378380127, 0.9999235846973288, 0.9996545269983851, 0.9995825524029178, 0.9997194994146072, 0.9994523536727539, 0.9997542846249076, 0.9997690888092262, 0.9998296155426996, 0.9996729888960839, 0.9996005567657841, 0.9999033242738553, 0.9995516830399, 0.9996015333928173, 0.9993584624678323, 0.9996435639928598, 0.9998414564806077, 0.9998138882183556, 0.9994145286008176, 0.9998694963334694, 0.9991960481126646, 0.9996310235442531, 0.9998305824120859, 0.9998735016281061, 0.9998571964245931, 0.9994902183840462, 0.9996779308780842, 0.9993526206473156, 0.9992122146927123, 0.9997354424934828, 0.9996836333987846, 0.999640062780119, 0.9999615877143921, 0.9990574640438311, 0.9994523219012185, 0.9995436507559448, 0.9998293602702043, 0.9998799340452633, 0.9999198849887794, 0.9990704902528753, 0.9999129933829182, 0.9999305218698681, 0.9997744384964495, 0.9999465593804872, 0.9996820042871803, 0.9992531967217149, 0.9997389429339542, 0.9995887237138642, 0.9997835179576877, 0.9999128934030923, 0.9997913658474624, 0.9998157702764813, 0.9998562153826394, 0.9996375575329286, 0.9997212045384242, 0.9995353728412882, 0.999725097241011, 0.9995477674747056, 0.9997998807091697, 0.9996058706023325, 0.9997716290058878, 0.9999539525610772, 0.9995611235794704, 0.9996101804353661, 0.9998338886963006, 0.9998853571022359, 0.999900018377982, 0.9997007395420493, 0.9996845841509455, 0.9996389178210573, 0.9996928563256576, 0.9997263505328492, 0.99982284895819, 0.9993994160180233, 0.9992120275780113, 0.999743415853876, 0.9995863223137584, 0.9998663806764128, 0.9997656948219127, 0.9996883246636445, 0.9998539016131154, 0.9995610331025897, 0.9992899933172467, 0.9994952002785561, 0.9994093714988139, 0.9996594459519955, 0.9998570664994519, 0.9995682635479108, 0.9995294594842508, 0.9995510609883601, 0.9999375173449562, 0.9996594070180539, 0.9993520744389152, 0.9998321512178033, 0.999454849017606, 0.9997259135886399, 0.9998450025227317, 0.9993252094972933, 0.9997503572469684, 0.9995663848861401, 0.9998022341207644, 0.9997293288607998, 0.9995327574182218, 0.9997085502511878, 0.9995426233024766, 0.9999518440086405, 0.9996573511366815, 0.9997182814082595, 0.9991632899404507, 0.999814122201875, 0.9995767858235628, 0.9994698428212544, 0.9996734528949219, 0.9996250714637704, 0.9995666247340264, 0.9993582978757327, 0.9994934531958235, 0.9995826407874691, 0.9996417116726615, 0.9998169426556331, 0.9994150826544055, 0.9997154990014167, 0.9992515219163418, 0.999285917888531, 0.9998332096946482, 0.9996430475992277, 0.9995617703663816, 0.9998410711816573, 0.9994093409477465, 0.9997176087101662, 0.9998038098233728, 0.9996948406595517, 0.9998306095606719, 0.9998896333887569, 0.9993972164707217, 0.9997382049403486, 0.9998926571068398, 0.9998793817927518, 0.9995697990908623, 0.9995973743975225, 0.9998189502246393, 0.999682131261983, 0.999556276811425, 0.9998421761358229, 0.9996590534451848, 0.999514807179291, 0.9995563489378433, 0.9998747786167865, 0.999520894728705, 0.9999165825231263, 0.9994590036492105, 0.9996251526286271, 0.999933364520541, 0.9992715535818599, 0.9991033554836415, 0.9996478304394042, 0.999175460257777, 0.9996521762683708, 0.9994146906629422, 0.9991581847424831, 0.999677100293051, 0.9995379494995632, 0.9995792607506387, 0.9995834635356534, 0.9997099393650686, 0.9998205826732749, 0.9999112162697377, 0.9998920859644985, 0.9998989405758637, 0.9996807424016924, 0.9991624867345087, 0.9996690059718777, 0.9997459303027679, 0.9998782427891435, 0.9993923409186478, 0.9997810511839327, 0.9998180165206426, 0.9992447640331327, 0.9997599192393729, 0.9995229293007953, 0.9997165374505106, 0.999708523423542, 0.9992688521209524, 0.9996368199962153, 0.9997681389959892, 0.9998126891419471, 0.9991744914294194, 0.9995710504289316, 0.9996961962284708, 0.9995886974323495, 0.9996935246896989, 0.9996012683486187, 0.9998397228169079, 0.9996082862536898, 0.9999305752316091, 0.9998022165711107, 0.9991445928442017, 0.9998505786994221, 0.9996827530047352, 0.9998231005950557, 0.9997333425204199, 0.9995589952649041, 0.9999006816018564, 0.9994354585125729, 0.9994591790578645, 0.9996896231118401, 0.9997795928727854, 0.9993976901641776, 0.9996924197805912, 0.999757102277612, 0.9998987522314121, 0.9996769187397708, 0.9996251006840645, 0.9999221902825213, 0.9994847055685142, 0.9995253938544904, 0.9992794941125486, 0.9998213871252715, 0.9994746920117245, 0.9996681988088569, 0.9996971309013591, 0.9997417864154248, 0.9998692522420993, 0.9997405909365926, 0.9997653434649134, 0.9998265536751243, 0.9999435790217241, 0.9994354874414931, 0.9994736093254402, 0.999566874433862, 0.999563797940773, 0.9993418010109592, 0.9999322210419783, 0.9996828259070789, 0.9995546052327672, 0.9998108669432527, 0.9997925514444093, 0.9997344643720535, 0.9994793140797763, 0.9994355373560131, 0.9994827420979556, 0.999725466252274, 0.9990824579748641, 0.9995145913590636, 0.9994078218422198, 0.9996029743085958, 0.9993629752735509, 0.9998985299115468, 0.9999085213724664, 0.9995528169094611, 0.9995381667035201, 0.9999102246566802, 0.9996453581319156, 0.9995026099301286, 0.999758641552092, 0.999774254920785, 0.9994155362849222, 0.9995767478578248, 0.9999083854983551, 0.9995034289082467, 0.9996428940408569, 0.9994293220077335, 0.9993204766269108, 0.999150400568377, 0.9995891177585153, 0.9998337705303644, 0.9994616961250289, 0.9995671218982971, 0.9993705465215859, 0.9999026581629425, 0.9997144375641169, 0.9995380624944002, 0.9995281807749177, 0.9998154071352315, 0.9997704401169513, 0.9998334635625763, 0.9993796149437002, 0.9998391805372443, 0.9995192399327861, 0.9995520444593203, 0.9992790031692785, 0.9997462727423844, 0.9997789218908144, 0.9997553321310677, 0.9995074209948284, 0.9995870427289347, 0.9997176831743957, 0.9995906079576049, 0.9998378056681005, 0.9996037180922199, 0.999697543177542, 0.9998255281561597, 0.9992771398442564, 0.9996484852523887, 0.9995508048974225, 0.9992495926533244, 0.9996872096321469, 0.9997820240823839, 0.9995725468920995, 0.9998004453884196, 0.9993449283382161, 0.9996889964715787, 0.9995325636711441, 0.9997673972525815, 0.999533464622749, 0.9996443823425853, 0.9998582066821358, 0.9994017893198033, 0.9996373998608931, 0.9998231299158948, 0.999530925947242, 0.9997063568244424, 0.9997426099158893, 0.9997473288621648, 0.9995097005267587, 0.9994429837937607, 0.999431717035921, 0.9996705809538519, 0.9997772070600481, 0.9996319660282494, 0.9993009845277774, 0.9998160222570022, 0.9995239510848355, 0.9997240691457444, 0.9997656069735099, 0.9993252114108515, 0.9999385377190411, 0.9992641601100134, 0.9997023262980688, 0.9997737500718484, 0.9992837562456313, 0.9998157793316361, 0.9997362808177241, 0.9992794588596247, 0.9993820215107483, 0.9997371747526717, 0.9996115945560284, 0.9997706624731196, 0.9996145686093986, 0.9992795080409385, 0.9994176039066146, 0.9997021577163763, 0.9996669273130079, 0.9996430291569501, 0.9997695593911637, 0.30021672074680394, 0.6997548717942654, 0.9997678132253655, 0.9998247198622214, 0.9998424057133278, 0.9998828177207998, 0.9995709110949148, 0.9993742776868959, 0.9998459980935792, 0.9996129330422772, 0.9997246966955817, 0.999380492030414, 0.9998069874107943, 0.9995438646649528, 0.9998977101755709, 0.9998520211798815, 0.9997342924954903, 0.9997646178770718, 0.9996417807587438, 0.9995952246302943, 0.9997535027708893, 0.9998385117815357, 0.9997973798007217, 0.9999268088418242, 0.999893409958151, 0.9997669793973801, 0.9997989296785041, 0.9994279311800143, 0.9995465405131498, 0.9998640643937377, 0.9997722645634254, 0.9996069342409902, 0.9996606703950216, 0.9994812653638386, 0.7716822300654328, 0.2279707755386358, 0.20650389237745712, 0.7934328658084813, 0.9998006603306259, 0.9994216729442994, 0.9994765497036897, 0.9995902323456652, 0.9993801306299902, 0.9998785719467368, 0.9992678317005742, 0.9998791596248555, 0.9996161025091773, 0.9994319370460333, 0.999949266236054, 0.9995876583945209, 0.9999180184727317, 0.9998367416738634, 0.999201114196915, 0.9992695651291273, 0.9993009860745484, 0.9999531544121101, 0.9997692977624519, 0.9997348189370413, 0.9998535840786665, 0.9995156883763918, 0.9999806361589926, 0.999872360133249, 0.9992973866289279, 0.9997006838933404, 0.9997604882881734, 0.9994372248775086, 0.9998425681811043, 0.9998207155250555, 0.9998781588661607, 0.9994529494516273, 0.9996721479195922, 0.9999468040839009, 0.9995444232477364, 0.9999312899330863, 0.9997241628696794, 0.9997932833156893, 0.9997497660097554, 0.9996127419485488, 0.9997302215932611, 0.9993332359777598, 0.9998422414440497, 0.9994699851289347, 0.9994988237984428, 0.9995415047804023, 0.999727755355865, 0.9997304621500733, 0.9997343650506929, 0.9992749656792294, 0.9996964526816355, 0.999442096547718, 0.9995248289857906, 0.9997334836541087, 0.9998487056925676, 0.9998702148389033, 0.9997368616089111, 0.9996844692230678, 0.9998236249205521, 0.9996138982867324, 0.9993154205653568, 0.9998410335592318, 0.9993761395188964, 0.9995063963916478, 0.9995509734726201, 0.9996993824472203, 0.9996440227521524, 0.9997667757408313, 0.9998933768312781, 0.9996681118722716, 0.9999802963791401, 0.9997528426590166, 0.9996986022074825, 0.9995091485209014, 0.9997644511971243, 0.9991937854638765, 0.9991571146788427, 0.999747680530847, 0.9998050840199366, 0.9997832574873451, 0.999891846134148, 0.9996673948291848, 0.9998414855313618, 0.999780497600757, 0.9997330592037257, 0.9993257909076371, 0.9997643776942049, 0.9993050951050156, 0.9996852370427332, 0.9996238407583771, 0.9999006386431416, 0.9998095776743154, 0.999209986907138, 0.9993454772977866, 0.9997489447381924, 0.9996938612382482, 0.9997189096422732, 0.9994194028332162, 0.9995164934960221, 0.9998472370136365, 0.999604787405928, 0.9994826248238886, 0.9992342749028342, 0.9999515896842229, 0.9994449142088881, 0.9999167549170828, 0.9997560817558909, 0.9997260568277118, 0.9998300765579378, 0.9995210481191446, 0.999574266556304, 0.999900675925238, 0.9994623652172023, 0.9998081740554114, 0.9996216067860576, 0.9994907885683093, 0.9995636490171943, 0.9993881469666395, 0.9998458150847751, 0.9996201298419527, 0.9993331133322657, 0.9998131900371763, 0.9992793787903433, 0.999666396434717, 0.9997443143643745, 0.9995050624827562, 0.9995506782378313, 0.9995397650808643, 0.9997515944225175, 0.9994682147468926, 0.9998481792047338, 0.9994781967508567, 0.9994830131301351, 0.9994551575486474, 0.9996815247045762, 0.9998129726901741, 0.9990867479536656, 0.9994539095341424, 0.999737208006466, 0.9995228413429854, 0.999682000628519, 0.999457506332676, 0.9997461539473074, 0.9997523631668591, 0.9992178915414568, 0.9997553902213777, 0.9997694818110895, 0.9996356960874033, 0.8096672342893237, 0.19001490345192554, 0.9991855251180813, 0.9998168451950556, 0.9998356273239524, 0.9997459837643436, 0.9991005265816215, 0.9993900822456415, 0.9992458916055942, 0.9996034050165715, 0.9998432998366366, 0.9995092686132013, 0.9996575999387125, 0.9998419844074528, 0.9999109418053256, 0.9998161821616548, 0.9998061323572874, 0.9999016330728123, 0.9994141218823087, 0.9998350383990116, 0.9997717141237955, 0.9993529325009287, 0.9997050644488803, 0.9998343991558724, 0.9999735258047728, 0.9997075259078525, 0.9997775474045396, 0.9998478430120353, 0.9996707923693688, 0.9993637655428543, 0.9997932563563428, 0.9997706098531095, 0.9998889338724779, 0.9998441920774206, 0.9998631913894871, 0.9997148526094367, 0.9993332499713569, 0.9994765592837609, 0.999530696608694, 0.999189162177686, 0.9997425797871307, 0.9996337140063182, 0.999661338723764, 0.9997514184803251, 0.9996575583325478, 0.9998845469499955, 0.999930087931638, 0.9998005800777984, 0.9997953416273264, 0.9997208518103002, 0.9995181007333478, 0.9996487123490407, 0.9991853712839154, 0.9996047588964517, 0.9992069434416989, 0.9999066581326103, 0.9994687819442604, 0.9997815163760552, 0.9998118834600078, 0.9998228507853844, 0.9994845769652551, 0.9996287613389215, 0.9995724108094867, 0.9994319723036504, 0.9996427367662427, 0.9997191826601066, 0.9996025386304567, 0.9994905889106136, 0.9993443725311641, 0.9999431673565646, 0.9993206928714348, 0.9996809999358662, 0.9998454598916774, 0.999372176553007, 0.9993310785933748, 0.9997220593364295, 0.9996249707329843, 0.9996342907594796, 0.9995199957455135, 0.9995584015206069, 0.9997533008200293, 0.9997713291921152, 0.9997766761723711, 0.9998870720408498, 0.9998279618714233, 0.999538769643594, 0.9997408639464405, 0.9997103170224726, 0.9995662227705149, 0.9992664940790016, 0.9998920149960195, 0.9995044570839623, 0.9996935813424799, 0.7320806149458134, 0.26763693524971344, 0.9993596806277174, 0.9995577746474311, 0.9996825132405681, 0.9996336343795219, 0.999628056892644, 0.9993481212385021, 0.9994905511531892, 0.9996584091150834, 0.9997602660432333, 0.9993475045294028, 0.9995488713178129, 0.9999413716186594, 0.9998200327136139, 0.9995578745425283, 0.9997582963445429, 0.9998132480422892, 0.9999149057671274, 0.9998411845605623, 0.9999130088501007, 0.99990270475382, 0.9999243658939407, 0.9998347939158251, 0.9990177504115356, 0.9997332856057175, 0.9996553706963999, 0.9996408891000155, 0.9997999742775355, 0.9991687417598912, 0.9998838421697979, 0.9994926051172504, 0.9991856476835266, 0.999341167652568, 0.999703445538869, 0.9997856997692446, 0.9994551354331902, 0.9998908204095781, 0.999693415483933, 0.9992312338968745, 0.9992034109185722, 0.9998298526608229, 0.9992675718921139, 0.9993608038209524, 0.9998905799880498, 0.9996063905182296, 0.9993793151801239, 0.9999203983783534, 0.9995944145306944, 0.9995928651689533, 0.9996736990370175, 0.9993098197087258, 0.9995409600948183, 0.9997075271834787, 0.9998445962512607, 0.9995242487358336, 0.9995068712158501, 0.9994940658449386, 0.9995513416173918, 0.999861634194582, 0.9996381385215615, 0.9999005509056688, 0.9997144812050633, 0.9998857178918276, 0.9990993313518989, 0.999689933645864, 0.999933677849065, 0.9998192876893517, 0.9996946038921063, 0.99968576042066, 0.999807460163718, 0.9994748683557794, 0.9995201255549708, 0.999651831514237, 0.9998052383559, 0.99994294237847, 0.9995870901306627, 0.9994372857013339, 0.9996205126004994, 0.9994975008971865, 0.9994138323763143, 0.9994830802496956, 0.9995220884415079, 0.9998794852429169, 0.9999157542653165, 0.9998800873173407, 0.999448363251405, 0.9996638636463318, 0.9997072347359506, 0.999646831958764, 0.9996525558767533, 0.9993231168636211, 0.9999298455398189, 0.9997307208290638, 0.9994372075702593, 0.999623537299499, 0.999793577436994, 0.9998317536483577, 0.9998438633120842, 0.9998581154601789, 0.9994094446556515, 0.9998929518593631, 0.9998100937058378, 0.9997329767684769, 0.9997368097693848, 0.9995912425894742, 0.9998564164474576, 0.9998060846365799, 0.9997155532362844, 0.9992241148950384, 0.999500035694069, 0.999563564068358, 0.999920604778903, 0.9997478993709364, 0.9998936510332357, 0.9992832568896998, 0.9998927478970898, 0.9999234819733801, 0.9994941885477356, 0.9995648013541745, 0.9997588534996865, 0.9997965875493283, 0.9998372580692922, 0.9995448031540164, 0.9999567282676876, 0.9993375553493326, 0.9995218639497844, 0.9997463084687553, 0.9999479559383995, 0.9999223010289178, 0.9997065074229463, 0.9998543720693853, 0.9995493626374425, 0.9994368829230192], \"Term\": [\"10\", \"100\", \"11\", \"12\", \"14\", \"15\", \"19\", \"20\", \"2014\", \"2015\", \"2016\", \"2017\", \"2018\", \"2019\", \"2020\", \"abbott\", \"abc\", \"aboriginal\", \"abuse\", \"accident\", \"accused\", \"across\", \"act\", \"action\", \"adelaide\", \"admits\", \"afl\", \"africa\", \"aged\", \"ahead\", \"aid\", \"air\", \"airport\", \"alan\", \"alcohol\", \"alice\", \"allegations\", \"alleged\", \"allegedly\", \"amid\", \"analysis\", \"andrew\", \"andrews\", \"animal\", \"announces\", \"another\", \"anti\", \"apologises\", \"appeal\", \"april\", \"around\", \"arrest\", \"arrested\", \"art\", \"ashes\", \"assault\", \"asx\", \"asylum\", \"attack\", \"attacks\", \"august\", \"aussie\", \"australia\", \"australian\", \"australians\", \"australias\", \"authorities\", \"award\", \"away\", \"baby\", \"back\", \"backs\", \"bad\", \"bail\", \"bali\", \"ban\", \"bank\", \"battle\", \"bay\", \"beach\", \"beat\", \"beats\", \"beef\", \"begins\", \"behind\", \"ben\", \"best\", \"better\", \"bid\", \"big\", \"bill\", \"billion\", \"black\", \"blaze\", \"blog\", \"blue\", \"board\", \"boat\", \"body\", \"bomb\", \"boom\", \"boost\", \"border\", \"boss\", \"boy\", \"boys\", \"break\", \"breaks\", \"brexit\", \"bridge\", \"briefing\", \"brings\", \"brisbane\", \"british\", \"broken\", \"budget\", \"building\", \"bus\", \"bush\", \"bushfire\", \"bushfires\", \"business\", \"businesses\", \"cabinet\", \"cairns\", \"call\", \"calls\", \"camp\", \"campaign\", \"canberra\", \"cancer\", \"capital\", \"car\", \"carbon\", \"care\", \"cars\", \"case\", \"cases\", \"cattle\", \"caught\", \"cctv\", \"central\", \"centre\", \"ceo\", \"challenge\", \"change\", \"changes\", \"charge\", \"charged\", \"charges\", \"chief\", \"child\", \"children\", \"china\", \"chinese\", \"chris\", \"christmas\", \"church\", \"city\", \"claim\", \"claims\", \"clash\", \"clean\", \"climate\", \"close\", \"closes\", \"closure\", \"club\", \"coach\", \"coal\", \"coalition\", \"coast\", \"collapse\", \"comments\", \"commission\", \"community\", \"company\", \"concern\", \"concerns\", \"conditions\", \"confirms\", \"continue\", \"continues\", \"control\", \"coronavirus\", \"coroner\", \"corruption\", \"cost\", \"could\", \"council\", \"country\", \"couple\", \"court\", \"covid\", \"covid19\", \"crash\", \"crashes\", \"creek\", \"cricket\", \"crime\", \"crisis\", \"cup\", \"cut\", \"cuts\", \"cyclone\", \"dairy\", \"dam\", \"damage\", \"daniel\", \"darling\", \"darwin\", \"data\", \"david\", \"day\", \"days\", \"de\", \"dead\", \"deal\", \"death\", \"deaths\", \"debate\", \"debt\", \"decision\", \"defence\", \"defends\", \"delay\", \"delays\", \"demand\", \"denies\", \"despite\", \"detention\", \"development\", \"dies\", \"disability\", \"discusses\", \"dispute\", \"doctor\", \"doctors\", \"dog\", \"dogs\", \"dollar\", \"domestic\", \"donald\", \"double\", \"dr\", \"driver\", \"driving\", \"drought\", \"drug\", \"drugs\", \"drum\", \"due\", \"early\", \"east\", \"economic\", \"economy\", \"education\", \"election\", \"emergency\", \"end\", \"ends\", \"energy\", \"england\", \"evidence\", \"ex\", \"expansion\", \"expected\", \"expert\", \"experts\", \"export\", \"extended\", \"face\", \"facebook\", \"faces\", \"facing\", \"fake\", \"fall\", \"falls\", \"families\", \"family\", \"fans\", \"far\", \"farm\", \"farmer\", \"farmers\", \"fatal\", \"father\", \"fear\", \"fears\", \"federal\", \"female\", \"festival\", \"fight\", \"fiji\", \"film\", \"final\", \"finance\", \"financial\", \"find\", \"finds\", \"fined\", \"fire\", \"firefighters\", \"fires\", \"first\", \"fish\", \"fishing\", \"five\", \"flight\", \"flood\", \"floods\", \"following\", \"food\", \"footage\", \"football\", \"force\", \"forces\", \"foreign\", \"former\", \"found\", \"four\", \"france\", \"fraud\", \"free\", \"french\", \"friday\", \"fruit\", \"full\", \"funding\", \"funds\", \"future\", \"game\", \"games\", \"gas\", \"general\", \"george\", \"get\", \"gets\", \"gippsland\", \"girl\", \"gives\", \"global\", \"go\", \"goes\", \"gold\", \"good\", \"government\", \"govt\", \"grain\", \"grand\", \"grandstand\", \"great\", \"green\", \"greens\", \"group\", \"growers\", \"growing\", \"growth\", \"guilty\", \"gun\", \"harvest\", \"head\", \"health\", \"hears\", \"heat\", \"help\", \"helping\", \"helps\", \"heritage\", \"high\", \"highway\", \"hill\", \"historic\", \"history\", \"hit\", \"hits\", \"hobart\", \"hold\", \"home\", \"homes\", \"hong\", \"hope\", \"hopes\", \"horse\", \"hospital\", \"hot\", \"hotel\", \"hour\", \"house\", \"housing\", \"human\", \"hundreds\", \"hunt\", \"hunter\", \"icac\", \"ice\", \"illegal\", \"impact\", \"increase\", \"india\", \"indigenous\", \"indonesia\", \"indonesian\", \"industry\", \"injured\", \"injury\", \"inquest\", \"inquiry\", \"interest\", \"international\", \"interview\", \"investigate\", \"investigation\", \"investment\", \"iran\", \"iraq\", \"islamic\", \"island\", \"islands\", \"israel\", \"issues\", \"jail\", \"jailed\", \"james\", \"january\", \"japan\", \"job\", \"jobs\", \"joe\", \"john\", \"johnson\", \"joins\", \"jones\", \"joyce\", \"july\", \"june\", \"keep\", \"key\", \"kids\", \"kill\", \"killed\", \"killer\", \"killing\", \"kills\", \"kim\", \"kimberley\", \"king\", \"know\", \"kohler\", \"kong\", \"korea\", \"labor\", \"lake\", \"land\", \"last\", \"latest\", \"launches\", \"law\", \"laws\", \"lawyer\", \"lead\", \"leader\", \"leaders\", \"leadership\", \"leads\", \"league\", \"leave\", \"leaves\", \"lee\", \"left\", \"legal\", \"liberal\", \"liberals\", \"life\", \"light\", \"like\", \"likely\", \"line\", \"live\", \"lives\", \"local\", \"lockdown\", \"london\", \"long\", \"look\", \"looks\", \"lose\", \"loses\", \"loss\", \"lost\", \"low\", \"made\", \"major\", \"make\", \"makes\", \"making\", \"malcolm\", \"man\", \"man\", \"march\", \"mark\", \"market\", \"markets\", \"marriage\", \"match\", \"may\", \"mayor\", \"media\", \"medical\", \"meet\", \"meeting\", \"melbourne\", \"men\", \"mental\", \"michael\", \"military\", \"milk\", \"million\", \"mine\", \"mining\", \"minister\", \"missing\", \"monday\", \"money\", \"months\", \"morning\", \"morrison\", \"mother\", \"mount\", \"move\", \"moves\", \"mp\", \"mp\", \"murder\", \"murder\", \"murray\", \"music\", \"must\", \"name\", \"named\", \"national\", \"nationals\", \"near\", \"need\", \"needed\", \"new\", \"newcastle\", \"news\", \"next\", \"nick\", \"night\", \"nine\", \"north\", \"northern\", \"november\", \"nrl\", \"nrn\", \"nsw\", \"nt\", \"nuclear\", \"numbers\", \"nz\", \"october\", \"officer\", \"oil\", \"old\", \"olympic\", \"olympics\", \"one\", \"online\", \"open\", \"opens\", \"opposition\", \"origin\", \"outback\", \"outbreak\", \"owners\", \"pacific\", \"pakistan\", \"palmer\", \"pandemic\", \"parents\", \"park\", \"parliament\", \"part\", \"party\", \"patients\", \"paul\", \"pay\", \"people\", \"perth\", \"peter\", \"pilot\", \"plan\", \"plane\", \"planning\", \"plans\", \"plant\", \"play\", \"player\", \"players\", \"pleads\", \"pm\", \"png\", \"point\", \"police\", \"policy\", \"political\", \"politics\", \"port\", \"positive\", \"possible\", \"post\", \"power\", \"premier\", \"president\", \"pressure\", \"price\", \"prices\", \"prime\", \"prince\", \"prison\", \"private\", \"probe\", \"profit\", \"program\", \"project\", \"promises\", \"prompts\", \"property\", \"proposed\", \"protest\", \"protesters\", \"protests\", \"public\", \"push\", \"put\", \"qantas\", \"qld\", \"quarantine\", \"queensland\", \"questions\", \"quiz\", \"race\", \"racing\", \"rail\", \"rain\", \"rally\", \"rape\", \"rare\", \"rate\", \"rates\", \"ready\", \"record\", \"records\", \"recovery\", \"red\", \"reef\", \"refugee\", \"regional\", \"rejects\", \"release\", \"released\", \"remains\", \"remote\", \"report\", \"reports\", \"rescue\", \"rescued\", \"research\", \"residents\", \"resigns\", \"response\", \"restrictions\", \"results\", \"return\", \"returns\", \"reveals\", \"review\", \"richard\", \"right\", \"rights\", \"rio\", \"rise\", \"rise\", \"rises\", \"risk\", \"river\", \"road\", \"robert\", \"rock\", \"role\", \"round\", \"royal\", \"rugby\", \"rules\", \"run\", \"rural\", \"russia\", \"russian\", \"sa\", \"safe\", \"safety\", \"sale\", \"sales\", \"save\", \"say\", \"says\", \"scandal\", \"scheme\", \"school\", \"schools\", \"scientists\", \"scott\", \"sea\", \"search\", \"season\", \"second\", \"security\", \"seeks\", \"sees\", \"senate\", \"senator\", \"sentence\", \"sentenced\", \"september\", \"service\", \"services\", \"set\", \"sex\", \"sexual\", \"share\", \"shares\", \"shark\", \"sharks\", \"sheep\", \"ship\", \"shire\", \"shooting\", \"shorten\", \"shot\", \"show\", \"shows\", \"signs\", \"site\", \"six\", \"slams\", \"small\", \"smith\", \"social\", \"solar\", \"son\", \"south\", \"southern\", \"sparks\", \"speaks\", \"sport\", \"springs\", \"sri\", \"st\", \"stabbing\", \"staff\", \"stage\", \"stand\", \"star\", \"start\", \"state\", \"station\", \"stay\", \"still\", \"stolen\", \"stop\", \"stories\", \"storm\", \"story\", \"street\", \"strike\", \"strike\", \"strong\", \"student\", \"students\", \"study\", \"suicide\", \"sunday\", \"sunshine\", \"super\", \"support\", \"survey\", \"suspected\", \"sydney\", \"syria\", \"system\", \"take\", \"takes\", \"talks\", \"tas\", \"tasmania\", \"tasmanian\", \"tax\", \"team\", \"technology\", \"teen\", \"teenager\", \"tells\", \"territory\", \"terrorism\", \"test\", \"testing\", \"tests\", \"thai\", \"third\", \"thousands\", \"threat\", \"three\", \"thursday\", \"tigers\", \"tim\", \"time\", \"times\", \"title\", \"told\", \"toll\", \"tony\", \"top\", \"tour\", \"tourism\", \"town\", \"townsville\", \"track\", \"trade\", \"train\", \"training\", \"transport\", \"travel\", \"treatment\", \"trial\", \"truck\", \"trump\", \"tuesday\", \"turnbull\", \"turns\", \"tv\", \"two\", \"uk\", \"un\", \"union\", \"united\", \"university\", \"update\", \"urged\", \"urges\", \"us\", \"use\", \"used\", \"using\", \"vaccine\", \"valley\", \"vic\", \"victim\", \"victims\", \"victoria\", \"victorian\", \"victory\", \"video\", \"violence\", \"visit\", \"vote\", \"vs\", \"wa\", \"wall\", \"wallabies\", \"want\", \"wants\", \"war\", \"warning\", \"warns\", \"waste\", \"water\", \"way\", \"weather\", \"wednesday\", \"week\", \"west\", \"western\", \"white\", \"wife\", \"wild\", \"williams\", \"win\", \"wine\", \"wins\", \"without\", \"woman\", \"women\", \"womens\", \"wont\", \"work\", \"worker\", \"workers\", \"working\", \"world\", \"worlds\", \"would\", \"wrap\", \"year\", \"years\", \"york\", \"young\", \"youth\", \"zealand\"]}, \"R\": 30, \"lambda.step\": 0.01, \"plot.opts\": {\"xlab\": \"PC1\", \"ylab\": \"PC2\"}, \"topic.order\": [8, 13, 11, 14, 6, 15, 7, 26, 10, 19, 12, 2, 3, 30, 18, 1, 17, 4, 20, 28, 16, 24, 22, 9, 21, 23, 5, 27, 29, 25]};\n",
              "\n",
              "function LDAvis_load_lib(url, callback){\n",
              "  var s = document.createElement('script');\n",
              "  s.src = url;\n",
              "  s.async = true;\n",
              "  s.onreadystatechange = s.onload = callback;\n",
              "  s.onerror = function(){console.warn(\"failed to load library \" + url);};\n",
              "  document.getElementsByTagName(\"head\")[0].appendChild(s);\n",
              "}\n",
              "\n",
              "if(typeof(LDAvis) !== \"undefined\"){\n",
              "   // already loaded: just create the visualization\n",
              "   !function(LDAvis){\n",
              "       new LDAvis(\"#\" + \"ldavis_el591399958325150247414742024\", ldavis_el591399958325150247414742024_data);\n",
              "   }(LDAvis);\n",
              "}else if(typeof define === \"function\" && define.amd){\n",
              "   // require.js is available: use it to load d3/LDAvis\n",
              "   require.config({paths: {d3: \"https://d3js.org/d3.v5\"}});\n",
              "   require([\"d3\"], function(d3){\n",
              "      window.d3 = d3;\n",
              "      LDAvis_load_lib(\"https://cdn.jsdelivr.net/gh/bmabey/pyLDAvis@3.2.2/pyLDAvis/js/ldavis.v3.0.0.js\", function(){\n",
              "        new LDAvis(\"#\" + \"ldavis_el591399958325150247414742024\", ldavis_el591399958325150247414742024_data);\n",
              "      });\n",
              "    });\n",
              "}else{\n",
              "    // require.js not available: dynamically load d3 & LDAvis\n",
              "    LDAvis_load_lib(\"https://d3js.org/d3.v5.js\", function(){\n",
              "         LDAvis_load_lib(\"https://cdn.jsdelivr.net/gh/bmabey/pyLDAvis@3.2.2/pyLDAvis/js/ldavis.v3.0.0.js\", function(){\n",
              "                 new LDAvis(\"#\" + \"ldavis_el591399958325150247414742024\", ldavis_el591399958325150247414742024_data);\n",
              "            })\n",
              "         });\n",
              "}\n",
              "</script>"
            ],
            "text/plain": [
              "<IPython.core.display.HTML object>"
            ]
          },
          "metadata": {
            "tags": []
          },
          "execution_count": 33
        }
      ]
    },
    {
      "cell_type": "markdown",
      "metadata": {
        "id": "SdDrhwB39VaQ"
      },
      "source": [
        "# Testing"
      ]
    },
    {
      "cell_type": "code",
      "metadata": {
        "id": "5wKqowHdrF_R"
      },
      "source": [
        "unseen_test=[\"For next generations, we may have no future due to the climate changes\"]"
      ],
      "execution_count": 125,
      "outputs": []
    },
    {
      "cell_type": "code",
      "metadata": {
        "id": "Ejgsba0FrGB6",
        "colab": {
          "base_uri": "https://localhost:8080/"
        },
        "outputId": "dc9112f8-cdc4-41c0-9125-69a0d5107667"
      },
      "source": [
        "unseen_test=pd.Series(unseen_test)\n",
        "unseen_test = unseen_test.map(lambda x: re.sub('[,\\.!?();:$%&#\"]', '', x))\n",
        "unseen_test = unseen_test.map(lambda x: x.lower())\n",
        "unseen_test = unseen_test.map(lambda x: x.strip())\n",
        "unseen_test = unseen_test.map(lambda x: token(x))\n",
        "unseen_test = unseen_test.values.tolist()\n",
        "tf_test=tf_vectorizer.transform(unseen_test)\n",
        "result_test=lda.transform(tf_test)\n",
        "result_id=result_test.argmax()"
      ],
      "execution_count": 126,
      "outputs": [
        {
          "output_type": "stream",
          "text": [
            "<input>:2: DeprecationWarning: invalid escape sequence \\.\n",
            "<input>:2: DeprecationWarning: invalid escape sequence \\.\n",
            "<input>:2: DeprecationWarning: invalid escape sequence \\.\n",
            "<input>:2: DeprecationWarning: invalid escape sequence \\.\n",
            "<input>:2: DeprecationWarning: invalid escape sequence \\.\n",
            "<input>:2: DeprecationWarning: invalid escape sequence \\.\n",
            "<input>:2: DeprecationWarning: invalid escape sequence \\.\n",
            "<input>:2: DeprecationWarning: invalid escape sequence \\.\n",
            "<ipython-input-126-1f54306c7c42>:2: DeprecationWarning: invalid escape sequence \\.\n",
            "  unseen_test = unseen_test.map(lambda x: re.sub('[,\\.!?();:$%&#\"]', '', x))\n"
          ],
          "name": "stderr"
        }
      ]
    },
    {
      "cell_type": "code",
      "metadata": {
        "id": "kpnRzCY7rGEA",
        "colab": {
          "base_uri": "https://localhost:8080/"
        },
        "outputId": "95c1f2d1-6599-478c-d6c3-585e4af99061"
      },
      "source": [
        "unseen_test"
      ],
      "execution_count": 127,
      "outputs": [
        {
          "output_type": "execute_result",
          "data": {
            "text/plain": [
              "['next generations may future due climate changes']"
            ]
          },
          "metadata": {
            "tags": []
          },
          "execution_count": 127
        }
      ]
    },
    {
      "cell_type": "markdown",
      "metadata": {
        "id": "jMS799Ro1k2K"
      },
      "source": [
        ""
      ]
    },
    {
      "cell_type": "code",
      "metadata": {
        "colab": {
          "base_uri": "https://localhost:8080/"
        },
        "id": "u5sO2_mr1lL6",
        "outputId": "d4a31188-2b4d-4589-ed00-557f8fcd7aa9"
      },
      "source": [
        "result_id"
      ],
      "execution_count": 128,
      "outputs": [
        {
          "output_type": "execute_result",
          "data": {
            "text/plain": [
              "6"
            ]
          },
          "metadata": {
            "tags": []
          },
          "execution_count": 128
        }
      ]
    },
    {
      "cell_type": "code",
      "metadata": {
        "colab": {
          "base_uri": "https://localhost:8080/"
        },
        "id": "-afA2Hfl6vLX",
        "outputId": "e983fb1f-3878-4f99-8af1-662249276acb"
      },
      "source": [
        "print([tf_vectorizer.get_feature_names()[j] for j in lda.components_[result_id].argsort()[-10:]])"
      ],
      "execution_count": 129,
      "outputs": [
        {
          "output_type": "stream",
          "text": [
            "['return', 'australias', 'future', 'review', 'climate', 'league', 'funding', 'big', 'call', 'death']\n"
          ],
          "name": "stdout"
        }
      ]
    }
  ]
}