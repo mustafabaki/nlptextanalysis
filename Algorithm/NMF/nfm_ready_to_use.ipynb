{
  "nbformat": 4,
  "nbformat_minor": 0,
  "metadata": {
    "colab": {
      "name": "nfm_ready_to_use.ipynb",
      "provenance": [],
      "collapsed_sections": []
    },
    "kernelspec": {
      "name": "python385jvsc74a57bd0b3ba2566441a7c06988d0923437866b63cedc61552a5af99d1f4fb67d367b25f",
      "display_name": "Python 3.8.5 64-bit ('base': conda)"
    },
    "language_info": {
      "name": "python",
      "version": "3.8.5"
    }
  },
  "cells": [
    {
      "cell_type": "code",
      "metadata": {
        "id": "8_Z18NwDZor4"
      },
      "source": [
        "from sklearn.feature_extraction.text import TfidfVectorizer, CountVectorizer\n",
        "from sklearn.decomposition import NMF\n",
        "import pandas as pd\n",
        "pd.set_option('display.max_columns', None)  \n",
        "pd.set_option('display.max_colwidth', None)\n",
        "#import data\n",
        "df = pd.read_csv('NMF_clean_data.csv')\n",
        "\n"
      ],
      "execution_count": 1,
      "outputs": []
    },
    {
      "cell_type": "code",
      "metadata": {
        "id": "4XRc7KmDoa3W"
      },
      "source": [
        "content = df['0']"
      ],
      "execution_count": 2,
      "outputs": []
    },
    {
      "cell_type": "code",
      "metadata": {
        "id": "awkSKtqtctDL"
      },
      "source": [
        "# clean the data\n",
        "!python -m spacy download en_core_web_sm #run just ones to install en_core_web_sm, if you don't have it\n",
        "import spacy\n",
        "import re\n",
        "import string\n",
        "def clean_text(text):\n",
        "    '''Make text lowercase, remove text in square brackets, remove punctuation and remove words containing numbers.'''\n",
        "    text = text.lower()\n",
        "    text = re.sub(r'\\[.*?\\]', '', text)\n",
        "    text = re.sub(r'[%s]' % re.escape(string.punctuation), '', text)\n",
        "    text = re.sub(r'\\w*\\d\\w*', '', text)\n",
        "    return text\n",
        "\n",
        "nlp = spacy.load(\"en_core_web_sm\")\n",
        "def lemmatizer(text):        \n",
        "    sent = []\n",
        "    doc = nlp(text)\n",
        "    for word in doc:\n",
        "        sent.append(word.lemma_)\n",
        "    return \" \".join(sent)\n"
      ],
      "execution_count": 10,
      "outputs": [
        {
          "output_type": "stream",
          "name": "stdout",
          "text": [
            "Requirement already satisfied: en-core-web-sm==3.0.0 from https://github.com/explosion/spacy-models/releases/download/en_core_web_sm-3.0.0/en_core_web_sm-3.0.0-py3-none-any.whl#egg=en_core_web_sm==3.0.0 in c:\\programdata\\anaconda3\\lib\\site-packages (3.0.0)\nRequirement already satisfied: spacy<3.1.0,>=3.0.0 in c:\\programdata\\anaconda3\\lib\\site-packages (from en-core-web-sm==3.0.0) (3.0.6)\nRequirement already satisfied: preshed<3.1.0,>=3.0.2 in c:\\programdata\\anaconda3\\lib\\site-packages (from spacy<3.1.0,>=3.0.0->en-core-web-sm==3.0.0) (3.0.5)\nRequirement already satisfied: catalogue<2.1.0,>=2.0.3 in c:\\programdata\\anaconda3\\lib\\site-packages (from spacy<3.1.0,>=3.0.0->en-core-web-sm==3.0.0) (2.0.4)\nRequirement already satisfied: srsly<3.0.0,>=2.4.1 in c:\\programdata\\anaconda3\\lib\\site-packages (from spacy<3.1.0,>=3.0.0->en-core-web-sm==3.0.0) (2.4.1)\nRequirement already satisfied: blis<0.8.0,>=0.4.0 in c:\\programdata\\anaconda3\\lib\\site-packages (from spacy<3.1.0,>=3.0.0->en-core-web-sm==3.0.0) (0.7.4)\nRequirement already satisfied: requests<3.0.0,>=2.13.0 in c:\\programdata\\anaconda3\\lib\\site-packages (from spacy<3.1.0,>=3.0.0->en-core-web-sm==3.0.0) (2.24.0)\nRequirement already satisfied: cymem<2.1.0,>=2.0.2 in c:\\programdata\\anaconda3\\lib\\site-packages (from spacy<3.1.0,>=3.0.0->en-core-web-sm==3.0.0) (2.0.5)\nRequirement already satisfied: thinc<8.1.0,>=8.0.3 in c:\\programdata\\anaconda3\\lib\\site-packages (from spacy<3.1.0,>=3.0.0->en-core-web-sm==3.0.0) (8.0.3)\nRequirement already satisfied: numpy>=1.15.0 in c:\\programdata\\anaconda3\\lib\\site-packages (from spacy<3.1.0,>=3.0.0->en-core-web-sm==3.0.0) (1.19.2)\nRequirement already satisfied: pydantic<1.8.0,>=1.7.1 in c:\\programdata\\anaconda3\\lib\\site-packages (from spacy<3.1.0,>=3.0.0->en-core-web-sm==3.0.0) (1.7.4)\nRequirement already satisfied: wasabi<1.1.0,>=0.8.1 in c:\\programdata\\anaconda3\\lib\\site-packages (from spacy<3.1.0,>=3.0.0->en-core-web-sm==3.0.0) (0.8.2)\nRequirement already satisfied: packaging>=20.0 in c:\\programdata\\anaconda3\\lib\\site-packages (from spacy<3.1.0,>=3.0.0->en-core-web-sm==3.0.0) (20.4)\nRequirement already satisfied: tqdm<5.0.0,>=4.38.0 in c:\\programdata\\anaconda3\\lib\\site-packages (from spacy<3.1.0,>=3.0.0->en-core-web-sm==3.0.0) (4.50.2)\nRequirement already satisfied: spacy-legacy<3.1.0,>=3.0.4 in c:\\programdata\\anaconda3\\lib\\site-packages (from spacy<3.1.0,>=3.0.0->en-core-web-sm==3.0.0) (3.0.5)\nRequirement already satisfied: jinja2 in c:\\programdata\\anaconda3\\lib\\site-packages (from spacy<3.1.0,>=3.0.0->en-core-web-sm==3.0.0) (2.11.2)\nRequirement already satisfied: setuptools in c:\\programdata\\anaconda3\\lib\\site-packages (from spacy<3.1.0,>=3.0.0->en-core-web-sm==3.0.0) (50.3.1.post20201107)\nRequirement already satisfied: pathy>=0.3.5 in c:\\programdata\\anaconda3\\lib\\site-packages (from spacy<3.1.0,>=3.0.0->en-core-web-sm==3.0.0) (0.5.2)\nRequirement already satisfied: murmurhash<1.1.0,>=0.28.0 in c:\\programdata\\anaconda3\\lib\\site-packages (from spacy<3.1.0,>=3.0.0->en-core-web-sm==3.0.0) (1.0.5)\nRequirement already satisfied: typer<0.4.0,>=0.3.0 in c:\\programdata\\anaconda3\\lib\\site-packages (from spacy<3.1.0,>=3.0.0->en-core-web-sm==3.0.0) (0.3.2)\nRequirement already satisfied: chardet<4,>=3.0.2 in c:\\programdata\\anaconda3\\lib\\site-packages (from requests<3.0.0,>=2.13.0->spacy<3.1.0,>=3.0.0->en-core-web-sm==3.0.0) (3.0.4)\nRequirement already satisfied: certifi>=2017.4.17 in c:\\programdata\\anaconda3\\lib\\site-packages (from requests<3.0.0,>=2.13.0->spacy<3.1.0,>=3.0.0->en-core-web-sm==3.0.0) (2020.6.20)\nRequirement already satisfied: idna<3,>=2.5 in c:\\programdata\\anaconda3\\lib\\site-packages (from requests<3.0.0,>=2.13.0->spacy<3.1.0,>=3.0.0->en-core-web-sm==3.0.0) (2.10)\nRequirement already satisfied: urllib3!=1.25.0,!=1.25.1,<1.26,>=1.21.1 in c:\\programdata\\anaconda3\\lib\\site-packages (from requests<3.0.0,>=2.13.0->spacy<3.1.0,>=3.0.0->en-core-web-sm==3.0.0) (1.25.11)\nRequirement already satisfied: pyparsing>=2.0.2 in c:\\programdata\\anaconda3\\lib\\site-packages (from packaging>=20.0->spacy<3.1.0,>=3.0.0->en-core-web-sm==3.0.0) (2.4.7)\nRequirement already satisfied: six in c:\\programdata\\anaconda3\\lib\\site-packages (from packaging>=20.0->spacy<3.1.0,>=3.0.0->en-core-web-sm==3.0.0) (1.15.0)\nRequirement already satisfied: MarkupSafe>=0.23 in c:\\programdata\\anaconda3\\lib\\site-packages (from jinja2->spacy<3.1.0,>=3.0.0->en-core-web-sm==3.0.0) (1.1.1)\nRequirement already satisfied: smart-open<4.0.0,>=2.2.0 in c:\\programdata\\anaconda3\\lib\\site-packages (from pathy>=0.3.5->spacy<3.1.0,>=3.0.0->en-core-web-sm==3.0.0) (3.0.0)\nRequirement already satisfied: click<7.2.0,>=7.1.1 in c:\\programdata\\anaconda3\\lib\\site-packages (from typer<0.4.0,>=0.3.0->spacy<3.1.0,>=3.0.0->en-core-web-sm==3.0.0) (7.1.2)\n✔ Download and installation successful\nYou can now load the package via spacy.load('en_core_web_sm')\n"
          ]
        }
      ]
    },
    {
      "cell_type": "code",
      "metadata": {
        "id": "ZofS7nNSlRAs"
      },
      "source": [
        "# NMF is able to use tf-idf\n",
        "tfidf_vectorizer = TfidfVectorizer(max_df=0.95, min_df=2, max_features=1000, stop_words='english')\n",
        "# tfidf = tfidf_vectorizer.fit_transform(df_clean)\n",
        "tfidf = tfidf_vectorizer.fit_transform(content)\n",
        "tfidf_feature_names = tfidf_vectorizer.get_feature_names()\n",
        "\n",
        "# Run NMF\n",
        "nmf = NMF(n_components=30, random_state=1, alpha=.1, l1_ratio=.5, init='nndsvd').fit(tfidf)"
      ],
      "execution_count": 11,
      "outputs": []
    },
    {
      "cell_type": "code",
      "metadata": {
        "id": "1IVWHmhqldbg",
        "colab": {
          "base_uri": "https://localhost:8080/"
        },
        "outputId": "de087db4-0af8-4f76-e614-00d319292d70"
      },
      "source": [
        "# To display words with desc. order \n",
        "def display_topics(model, feature_names, no_top_words):\n",
        "    for topic_idx, topic in enumerate(model.components_):\n",
        "        print (\"Topic %d:\" % (topic_idx))\n",
        "        print (\" \".join([feature_names[i]\n",
        "                        for i in topic.argsort()[:-no_top_words - 1:-1]]))\n",
        "        \n",
        "no_top_words = 10\n",
        "display_topics(nmf, tfidf_feature_names, no_top_words)\n"
      ],
      "execution_count": 12,
      "outputs": [
        {
          "output_type": "stream",
          "name": "stdout",
          "text": [
            "Topic 0:\nlike people think just thing know make want time feel\nTopic 1:\ntrump donald president campaign republican tweet presidential candidate supporter policy\nTopic 2:\npolice officer arrest cop shoot man shooting charge gun suspect\nTopic 3:\nclinton hillary email campaign state foundation secretary democratic presidential candidate\nTopic 4:\nsay tell add ask people friday source want think statement\nTopic 5:\ngame season team player play league win coach year good\nTopic 6:\nobama president iran administration barack congress bush american policy deal\nTopic 7:\nvote party voter election republican democrats win candidate republicans democratic\nTopic 8:\ncourt judge supreme case justice law federal attorney state lawyer\nTopic 9:\nstudent school college university education campus teacher class high program\nTopic 10:\nhouse white president committee press flynn administration ryan report secretary\nTopic 11:\ncruz rubio ted delegate campaign candidate republican primary sen gop\nTopic 12:\nsong music track love cover sound record apple video play\nTopic 13:\nwoman man female sex abortion sexual male gender girl assault\nTopic 14:\nchild family parent mother home girl father son kid daughter\nTopic 15:\ncompany million billion sale business sell year market apple price\nTopic 16:\npercent poll rate voter tax growth average year economy increase\nTopic 17:\nobamacare health care repeal insurance tax plan republicans coverage senate\nTopic 18:\ncity new york building mayor home street foot park million\nTopic 19:\nfilm movie star character actor scene play director series story\nTopic 20:\nstudy scientist researcher research use human science university climate water\nTopic 21:\nisis attack syria kill iraq islamic terrorist syrian military force\nTopic 22:\nsander bernie democratic delegate primary campaign clinton win convention supporter\nTopic 23:\nrussia russian putin intelligence flynn election committee syria foreign official\nTopic 24:\nblack white people race matter americans life american movement america\nTopic 25:\nkorea north china nuclear south test military iran carolina weapon\nTopic 26:\nnews fox report buzzfeed tell email story network medium editor\nTopic 27:\ncomey fbi investigation director email james department attorney information committee\nTopic 28:\nfacebook video post user twitter social medium photo tweet internet\nTopic 29:\ncountry government united american immigration policy states america political refugee\n"
          ]
        }
      ]
    },
    {
      "cell_type": "code",
      "metadata": {
        "id": "a3x-fzGzl0GS",
        "colab": {
          "base_uri": "https://localhost:8080/"
        },
        "outputId": "15f60318-7bdc-495a-b835-8dc366e4d69d"
      },
      "source": [
        "import pandas as pd\n",
        "\n",
        "#Sample \n",
        "sample = \"\"\"\n",
        "  golf resorts lose a lot of money. According to a bombshell New York Times report published last year, the 15 courses he owns around the world have lost over $315 million over the past 20 years. The interesting question is why does Trump hang on to so many money-losing enterprises?\n",
        "Much about Trump's financial arrangements remains a mystery — partly because privately listed companies in the US can largely avoid public scrutiny — though investigations into whether Trump committed bank and tax fraud may reveal more.\n",
        "\"\"\" \n",
        "sample_clean = clean_text(sample)\n",
        "sample_lem = lemmatizer(sample_clean)\n",
        "sample_all_clean = sample_lem.replace('-PRON-', '')\n",
        "\n",
        "# Transform the TF-IDF\n",
        "test = tfidf_vectorizer.transform([sample_all_clean])\n",
        "#  Transform the TF-IDF: nmf_features\n",
        "nmf_features = nmf.transform(test)\n",
        " \n",
        "\n",
        "def display_topic_of_sample(model, feature_names, no_top_words, topic_name):\n",
        "    for topic_idx, topic in enumerate(model.components_):\n",
        "      if topic_name==topic_idx:\n",
        "        print (\"Topic %d:\" % (topic_idx))\n",
        "        print (\" \".join([feature_names[i]\n",
        "                        for i in topic.argsort()[:-no_top_words - 1:-1]]))\n",
        "\n",
        "display_topic_of_sample(nmf, tfidf_feature_names, no_top_words, nmf.transform(test).argmax(axis=1))\n"
      ],
      "execution_count": 15,
      "outputs": [
        {
          "output_type": "stream",
          "name": "stdout",
          "text": [
            "Topic 1:\ntrump donald president campaign republican tweet presidential candidate supporter policy\n"
          ]
        }
      ]
    },
    {
      "cell_type": "code",
      "metadata": {
        "id": "c5AABDVxnP8M",
        "colab": {
          "base_uri": "https://localhost:8080/"
        },
        "outputId": "7124bf8c-a24d-4181-896e-bee9fd192b39"
      },
      "source": [
        "def display_topics_of_sample(model, feature_names, no_top_words, topic_names , prct):\n",
        "  y=29\n",
        "  for x in range(5):\n",
        "    topic_name = topic_names[0][y]\n",
        "    y = y-1  \n",
        "    for topic_idx, topic in enumerate(model.components_):\n",
        "      if topic_name == topic_idx:\n",
        "        print (\"Topic percentage %\" , prct[0][topic_name])\n",
        "        print (\" \".join([feature_names[i]\n",
        "                        for i in topic.argsort()[:-no_top_words - 1:-1]]))\n",
        "\n",
        "prct = nmf.transform(test)*100\n",
        "display_topics_of_sample(nmf, tfidf_feature_names, no_top_words, nmf.transform(test).argsort(axis=1), prct)"
      ],
      "execution_count": 16,
      "outputs": [
        {
          "output_type": "stream",
          "name": "stdout",
          "text": [
            "Topic percentage % 2.478673550575073\ntrump donald president campaign republican tweet presidential candidate supporter policy\nTopic percentage % 2.404810284899451\ncompany million billion sale business sell year market apple price\nTopic percentage % 0.7679738461857012\ncity new york building mayor home street foot park million\nTopic percentage % 0.7145279331906597\ncomey fbi investigation director email james department attorney information committee\nTopic percentage % 0.3585716976571949\nobamacare health care repeal insurance tax plan republicans coverage senate\n"
          ]
        }
      ]
    },
    {
      "cell_type": "code",
      "metadata": {
        "id": "_Kj_R5cInQp8"
      },
      "source": [
        "#make list\n",
        "def make_list(model, feature_names, no_top_words, topic_names , prct):\n",
        "    lst = []\n",
        "    y=29\n",
        "    for x in range(5):\n",
        "        topic_name = topic_names[0][y]\n",
        "        y = y-1  \n",
        "        for topic_idx, topic in enumerate(model.components_):\n",
        "            if topic_name == topic_idx:\n",
        "                lst.append( [prct[0][topic_name], \" \".join([feature_names[i]\n",
        "                                for i in topic.argsort()[:-no_top_words - 1:-1]])])\n",
        "    return lst\n",
        "prct = nmf.transform(test)*100\n",
        "List = make_list(nmf, tfidf_feature_names, no_top_words, nmf.transform(test).argsort(axis=1), prct)"
      ],
      "execution_count": 26,
      "outputs": []
    },
    {
      "cell_type": "code",
      "execution_count": 31,
      "metadata": {},
      "outputs": [
        {
          "output_type": "execute_result",
          "data": {
            "text/plain": [
              "[[2.478673550575073,\n",
              "  'trump donald president campaign republican tweet presidential candidate supporter policy'],\n",
              " [2.404810284899451,\n",
              "  'company million billion sale business sell year market apple price'],\n",
              " [0.7679738461857012,\n",
              "  'city new york building mayor home street foot park million'],\n",
              " [0.7145279331906597,\n",
              "  'comey fbi investigation director email james department attorney information committee'],\n",
              " [0.3585716976571949,\n",
              "  'obamacare health care repeal insurance tax plan republicans coverage senate']]"
            ]
          },
          "metadata": {},
          "execution_count": 31
        }
      ],
      "source": [
        "List"
      ]
    },
    {
      "cell_type": "code",
      "execution_count": null,
      "metadata": {},
      "outputs": [],
      "source": [
        "List[0][1]"
      ]
    }
  ]
}