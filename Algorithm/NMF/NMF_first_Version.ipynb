{
  "nbformat": 4,
  "nbformat_minor": 0,
  "metadata": {
    "colab": {
      "name": "NMF_first_Version.ipynb",
      "provenance": [],
      "collapsed_sections": []
    },
    "kernelspec": {
      "name": "python3",
      "display_name": "Python 3"
    },
    "language_info": {
      "name": "python"
    }
  },
  "cells": [
    {
      "cell_type": "markdown",
      "metadata": {
        "id": "91CX-PTKFtnR"
      },
      "source": [
        "This is the primitive version of NMF algorithm with just 20 topics and gives most used words of the related topic according to the sample. \n",
        "\n",
        "This code was written just understand to how NMF works."
      ]
    },
    {
      "cell_type": "code",
      "metadata": {
        "id": "y0hwdpPblw1f",
        "colab": {
          "base_uri": "https://localhost:8080/"
        },
        "outputId": "5947f9fa-be08-4c45-8810-c776ae2f42d9"
      },
      "source": [
        "from sklearn.feature_extraction.text import TfidfVectorizer, CountVectorizer\n",
        "from sklearn.datasets import fetch_20newsgroups\n",
        "from sklearn.decomposition import NMF\n",
        "import pandas as pd\n",
        "\n",
        "# To display words with desc. order \n",
        "def display_topics(model, feature_names, no_top_words):\n",
        "    for topic_idx, topic in enumerate(model.components_):\n",
        "        print (\"Topic %d:\" % (topic_idx))\n",
        "        print (\" \".join([feature_names[i]\n",
        "                        for i in topic.argsort()[:-no_top_words - 1:-1]]))\n",
        "\n",
        "# Fetch data \n",
        "dataset = fetch_20newsgroups(shuffle=True, random_state=1, remove=('headers', 'footers', 'quotes'))\n",
        "documents = dataset.data\n",
        "\n",
        "# NMF is able to use tf-idf\n",
        "tfidf_vectorizer = TfidfVectorizer(max_df=0.85, min_df=2, max_features=1000, stop_words='english')\n",
        "tfidf = tfidf_vectorizer.fit_transform(documents)\n",
        "tfidf_feature_names = tfidf_vectorizer.get_feature_names()\n",
        "\n",
        "\n",
        "# Run NMF\n",
        "nmf = NMF(n_components=20, random_state=1, alpha=.1, l1_ratio=.5, init='nndsvd').fit(tfidf)\n",
        "\n",
        "\n",
        "# nmf_features = nmf.transform(tfidf)\n",
        "no_top_words = 20\n",
        "display_topics(nmf, tfidf_feature_names, no_top_words)\n"
      ],
      "execution_count": 1,
      "outputs": [
        {
          "output_type": "stream",
          "text": [
            "Downloading 20news dataset. This may take a few minutes.\n",
            "Downloading dataset from https://ndownloader.figshare.com/files/5975967 (14 MB)\n"
          ],
          "name": "stderr"
        },
        {
          "output_type": "stream",
          "text": [
            "Topic 0:\n",
            "people time right did good said say make way government point really years going course long believe state fact world\n",
            "Topic 1:\n",
            "window problem using server application screen display motif manager running widget program problems set error mouse work code fine run\n",
            "Topic 2:\n",
            "god jesus bible christ faith believe christian christians sin church lord hell truth life man love belief say christianity father\n",
            "Topic 3:\n",
            "game team year games season players play hockey win league player teams nhl good runs best better hit division points\n",
            "Topic 4:\n",
            "new 00 sale 10 price offer shipping condition 20 15 50 interested 12 asking 30 space 11 25 used sell\n",
            "Topic 5:\n",
            "thanks mail advance hi looking info help information address appreciated email post know anybody send interested appreciate need reply tell\n",
            "Topic 6:\n",
            "windows file files dos program version ftp ms directory running pc run using os software drivers disk graphics win programs\n",
            "Topic 7:\n",
            "edu soon cs university ftp internet article email pub david send mit au mail subject apr mac directory 1993 export\n",
            "Topic 8:\n",
            "key chip clipper encryption keys escrow government public algorithm nsa security bit phone secure chips des secret data number privacy\n",
            "Topic 9:\n",
            "drive scsi drives hard disk ide floppy controller cd mac internal tape rom cable power computer mb apple switch dos\n",
            "Topic 10:\n",
            "just ll thought tell oh little fine work wanted mean maybe sure bit guess bike way doesn got say bought\n",
            "Topic 11:\n",
            "does know anybody mean work say doesn help exist program info ftp board exactly appreciated getting actually chips message company\n",
            "Topic 12:\n",
            "card video monitor cards drivers bus vga driver color memory ram mode bit pc board graphics controller speed 16 modem\n",
            "Topic 13:\n",
            "like sounds looks look bike sound lot things really thing make doesn doing sure new hear looked nice going idea\n",
            "Topic 14:\n",
            "don know want let need doesn little sure sorry things really ll maybe oh try mean tell look work pretty\n",
            "Topic 15:\n",
            "car cars engine speed good bike driver road insurance fast price buy bought looks drivers power gas radio went year\n",
            "Topic 16:\n",
            "ve got seen heard tried good recently times try couple thing problems help maybe months great years bike used pretty\n",
            "Topic 17:\n",
            "use used using work available want software need image data way mac machine set uses help port good device program\n",
            "Topic 18:\n",
            "think don lot try makes really pretty wasn bit david agree wrong original win better moral come wait important thinking\n",
            "Topic 19:\n",
            "com list dave internet article sun hp email ibm phone reply address away jim mail said paul apr ca mouse\n"
          ],
          "name": "stdout"
        }
      ]
    },
    {
      "cell_type": "code",
      "metadata": {
        "colab": {
          "base_uri": "https://localhost:8080/"
        },
        "id": "KGBZSXtJq7LW",
        "outputId": "486b7263-f183-4263-d190-ab9ee6cd4c16"
      },
      "source": [
        "import pandas as pd\n",
        "\n",
        "#Sample \n",
        "sample1 = \"\"\"\n",
        " hockey is the best sport that we can play with each other\n",
        "\"\"\" \n",
        "# Transform the TF-IDF\n",
        "X = tfidf_vectorizer.transform([sample1])\n",
        "#  Transform the TF-IDF: nmf_features\n",
        "nmf_features = nmf.transform(X)\n",
        " \n",
        "\n",
        "def display_topic_of_sample(model, feature_names, no_top_words, topic_name):\n",
        "    for topic_idx, topic in enumerate(model.components_):\n",
        "      if topic_name==topic_idx:\n",
        "        print (\"Topic %d:\" % (topic_idx))\n",
        "        print (\" \".join([feature_names[i]\n",
        "                        for i in topic.argsort()[:-no_top_words - 1:-1]]))\n",
        "\n",
        "\n",
        "display_topic_of_sample(nmf, tfidf_feature_names, no_top_words, nmf.transform(X).argmax(axis=1))"
      ],
      "execution_count": 6,
      "outputs": [
        {
          "output_type": "stream",
          "text": [
            "Topic 3:\n",
            "game team year games season players play hockey win league player teams nhl good runs best better hit division points\n"
          ],
          "name": "stdout"
        }
      ]
    },
    {
      "cell_type": "code",
      "metadata": {
        "id": "B6GZNXsNFsZM"
      },
      "source": [
        ""
      ],
      "execution_count": null,
      "outputs": []
    }
  ]
}