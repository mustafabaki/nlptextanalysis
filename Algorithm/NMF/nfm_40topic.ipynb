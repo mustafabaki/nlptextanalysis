{
  "nbformat": 4,
  "nbformat_minor": 0,
  "metadata": {
    "colab": {
      "name": "nfm_40topic.ipynb",
      "provenance": [],
      "collapsed_sections": []
    },
    "kernelspec": {
      "display_name": "Python 3",
      "name": "python3"
    },
    "language_info": {
      "name": "python"
    }
  },
  "cells": [
    {
      "cell_type": "code",
      "metadata": {
        "id": "8_Z18NwDZor4"
      },
      "source": [
        "from sklearn.feature_extraction.text import TfidfVectorizer, CountVectorizer\n",
        "from sklearn.decomposition import NMF\n",
        "import pandas as pd\n",
        "pd.set_option('display.max_columns', None)  \n",
        "pd.set_option('display.max_colwidth', None)\n",
        "#import data\n",
        "df = pd.read_csv('/content/drive/MyDrive/articles2.csv')"
      ],
      "execution_count": 101,
      "outputs": []
    },
    {
      "cell_type": "code",
      "metadata": {
        "id": "af0ZsU7kZvN0"
      },
      "source": [
        "X_train = []\n",
        "for i in range(500):\n",
        "    X_train.append(df['content'][i])\n",
        "\n",
        "X = pd.Series(X_train)\n",
        "\n",
        "content = df['content']"
      ],
      "execution_count": 103,
      "outputs": []
    },
    {
      "cell_type": "code",
      "metadata": {
        "id": "awkSKtqtctDL"
      },
      "source": [
        "# clean the data\n",
        "import spacy\n",
        "import re\n",
        "import string\n",
        "def clean_text(text):\n",
        "    '''Make text lowercase, remove text in square brackets, remove punctuation and remove words containing numbers.'''\n",
        "    text = text.lower()\n",
        "    text = re.sub(r'\\[.*?\\]', '', text)\n",
        "    text = re.sub(r'[%s]' % re.escape(string.punctuation), '', text)\n",
        "    text = re.sub(r'\\w*\\d\\w*', '', text)\n",
        "    return text\n",
        "\n",
        "df= pd.DataFrame(content.apply(lambda x: clean_text(x)))\n",
        "\n",
        "nlp = spacy.load('en')\n",
        "def lemmatizer(text):        \n",
        "    sent = []\n",
        "    doc = nlp(text)\n",
        "    for word in doc:\n",
        "        sent.append(word.lemma_)\n",
        "    return \" \".join(sent)\n",
        "    \n",
        "df_c =  df.apply(lambda x: lemmatizer(str(x)), axis=1)\n",
        "df_clean = df_c.str.replace('-PRON-', '')   "
      ],
      "execution_count": 104,
      "outputs": []
    },
    {
      "cell_type": "code",
      "metadata": {
        "id": "NS_SQ9T2IYA-"
      },
      "source": [
        "# with open('/content/clean_data', 'w') as writefile:\n",
        "#   for a in df_clean:  \n",
        "#     writefile.write(a)\n",
        "\n",
        "df_clean.to_csv('NMF_clean_data.csv')\n",
        "!cp NMF_clean_data.csv \"drive/My Drive/\"     "
      ],
      "execution_count": 105,
      "outputs": []
    },
    {
      "cell_type": "code",
      "metadata": {
        "colab": {
          "base_uri": "https://localhost:8080/",
          "height": 137
        },
        "id": "RooT9H34fyIS",
        "outputId": "2c0f2b51-7f5f-46a7-ac27-024830dfdf72"
      },
      "source": [
        "\n",
        "df_clean[0]"
      ],
      "execution_count": 106,
      "outputs": [
        {
          "output_type": "execute_result",
          "data": {
            "application/vnd.google.colaboratory.intrinsic+json": {
              "type": "string"
            },
            "text/plain": [
              "'content     patriots day peter berg ’s new thriller that recreate the   boston marathon bombing and the ensue manhunt that follow  be a surprisingly oblique morally ambiguous movie from a typically straightforward filmmaker patriot day take an unexpectedly cynical view of the chaos rash    and bureaucratic infighting that follow the bombing —   the question be whether that be berg ’s intended message for  grim    running time the movie celebrate the man on the ground who help bring the bomber to justice but  ’ the glimpse of something more complicated than jingoism that really linger the scene that good illustrate this dichotomy come late in patriot day as the search for one of the bomber dzhokhar tsarnaev intensifie  brother ’s wife katherine melissa benoist be bring in for interrogation on  connection to the case as  ask for a lawyer protest that  \" have right \"  steely interviewer khandi alexander tut \" honey  be not get shit \"  ’ a hollywood line intend to provoke a big cheer from the audience despite  queasy legal undertone but the film present  as just that —   a cheesy line the questioning go nowhere and the interrogator exit with a shrug as the movie note in     katherine be never charge with any crime patriot day be fill with this kind of bluster but the film ’s most compelling moment serve to undercut  deepwater horizon stay too close to the surface work against those more interesting theme be the man at the center of the movie boston police sergeant tommy saunder a fictional character invent to serve as the audience ’s eye and ear at every major turning point of the attack  ’ play by mark wahlberg the polestar of berg ’s new genre of    storytelling who have play the mouthy hero at the center of lone survivor   deepwater horizon   and now patriot day unlike those other film wahlberg ’s character in patriot day do not really exist and  often come across as a bundle of screenwriting clichés  ’ nurse a bum knee and be recently demote due to insubordination but somehow be on    term with every cop uniform or otherwise in the city when the film be focus on saunder as  mostly be  feel like a straight recreation of a traumatic event that occur less than four year ago berg largely do well to avoid sensationalize the   bombing which kill   and wound   other and the subsequent manhunt that claim the life of a police officer at no point do patriot day feel like a glitzy action movie or a gory piece of horror the violence of that day be not linger on outside of an effort to make  victim feel like real people by depict snippet of  life beforehand wahlberg for  part can not help but make saunder feel like a bit of a stereotype  ’ a      movie cop in a film that ’ otherwise seek nuance saunder  seem be suppose to stand in for the generally lovable belligerent boston spirit that prevail in the day after the marathon and berg drill that point home far too many time there be bit that work —   in the immediate aftermath of the bomb wahlberg successfully communicate how angry and shaken saunder be rather than switch into     hero mode  do a decent job sell the trauma but once  hefty attitude return patriot day snap back to severe unreality that ’ too bad since the film be most fascinating when  faithfully convey the confusion of the day after the bombing and the    of differ opinion and clash egos the fbi lead by     agent richard deslaurier kevin bacon take over the case recreate the block attack with    bomb inside a gigantic warehouse and comb through surveillance video for clues boston police commissioner ed davis john goodman massachusetts governor deval patrick michael beach and boston mayor thomas menino vincent curatola gather there to offer  own guidance on the case saunder be present too for some reason mostly provide expertise on the business around boylston street the thorny mucky    debate that play out during the manhunt be the good part of the film berg accurately show deslaurier agonize over whether to release the picture of the tsarnaev brother glean from surveillance camera before  ’ fully substantiate that  be the bomber  hand be eventually force by a leak to the medium that set into action the series of event that lead to a deadly shootout with the tsarnaev brother in watertown j k simmons play a police sergeant there berg be wise to delve into the utter chaos of that manhunt which include a brief informal declaration of martial law and a bizarre bloody standoff with the brother that see  lob pipe bomb at cop car  ’ bedlam in other word —   total disorder and madness the kind of violence and fear that terrorism be intend to provoke even from those try to stop  the boston pd ’s effort to capture the tsarnaev brother be justly depict as heroic but  ’ the craze    the random chain of event and the empty angry posturing that stick out as most worthy of analysis if berg have dig deeper  could have have a great film on  hand as  stand  ’ deliver a rote but occasionally    misfire \\n name : 0 , dtype : object'"
            ]
          },
          "metadata": {
            "tags": []
          },
          "execution_count": 106
        }
      ]
    },
    {
      "cell_type": "code",
      "metadata": {
        "id": "ZofS7nNSlRAs"
      },
      "source": [
        "# NMF is able to use tf-idf\n",
        "tfidf_vectorizer = TfidfVectorizer(max_df=0.95, min_df=2, max_features=1000, stop_words='english')\n",
        "# tfidf = tfidf_vectorizer.fit_transform(df_clean)\n",
        "tfidf = tfidf_vectorizer.fit_transform(X)\n",
        "tfidf_feature_names = tfidf_vectorizer.get_feature_names()\n",
        "\n",
        "# Run NMF\n",
        "nmf = NMF(n_components=40, random_state=1, alpha=.1, l1_ratio=.5, init='nndsvd').fit(tfidf)"
      ],
      "execution_count": 107,
      "outputs": []
    },
    {
      "cell_type": "code",
      "metadata": {
        "id": "1IVWHmhqldbg",
        "colab": {
          "base_uri": "https://localhost:8080/"
        },
        "outputId": "96a2faf3-9cab-49ef-e337-4d54cfcb06d5"
      },
      "source": [
        "# To display words with desc. order \n",
        "def display_topics(model, feature_names, no_top_words):\n",
        "    for topic_idx, topic in enumerate(model.components_):\n",
        "        print (\"Topic %d:\" % (topic_idx))\n",
        "        print (\" \".join([feature_names[i]\n",
        "                        for i in topic.argsort()[:-no_top_words - 1:-1]]))\n",
        "        \n",
        "no_top_words = 10\n",
        "display_topics(nmf, tfidf_feature_names, no_top_words)\n"
      ],
      "execution_count": 108,
      "outputs": [
        {
          "output_type": "stream",
          "text": [
            "Topic 0:\n",
            "trump president campaign said administration press inauguration house donald america\n",
            "Topic 1:\n",
            "people like just time new way years think don said\n",
            "Topic 2:\n",
            "schools school students education children charter parents public said student\n",
            "Topic 3:\n",
            "order executive immigration countries ban federal judge states issued security\n",
            "Topic 4:\n",
            "senate democrats confirmation nominees nomination senators secretary vote committee senator\n",
            "Topic 5:\n",
            "trump company business organization hotel president conflicts financial contents table\n",
            "Topic 6:\n",
            "film films best figures million story life played action audience\n",
            "Topic 7:\n",
            "mattis military secretary defense senate forces war security general yes\n",
            "Topic 8:\n",
            "labor workers wage jobs growth companies economy minimum economic percent\n",
            "Topic 9:\n",
            "bowl super game year win ryan team new america home\n",
            "Topic 10:\n",
            "mexico border wall united trade states pay relationship countries promise\n",
            "Topic 11:\n",
            "intelligence community information agencies report security agency russia investigation allegations\n",
            "Topic 12:\n",
            "republicans obamacare gop congress party republican spending house plan law\n",
            "Topic 13:\n",
            "russian putin russia operations europe foreign government 2014 opposition security\n",
            "Topic 14:\n",
            "obama bush president american america administration military white history barack\n",
            "Topic 15:\n",
            "medical doctors patients care health foreign students drug able cancer\n",
            "Topic 16:\n",
            "says scientists humans study university researchers team science research studies\n",
            "Topic 17:\n",
            "police officers crime department force report justice rate violence cases\n",
            "Topic 18:\n",
            "china chinese world international resistance space government trade 50 scientists\n",
            "Topic 19:\n",
            "tax border plan trade climate companies policy percent pay wall\n",
            "Topic 20:\n",
            "answer daily atlantic email send written today reading cities cancer\n",
            "Topic 21:\n",
            "warren sessions senator senate king tuesday letter rule words debate\n",
            "Topic 22:\n",
            "european europe union trade states united countries member said market\n",
            "Topic 23:\n",
            "devos education schools secretary public hearing confirmation senators states charter\n",
            "Topic 24:\n",
            "black white series tv figures king life history shows decade\n",
            "Topic 25:\n",
            "fraud voter vote claims states investigation claim evidence data popular\n",
            "Topic 26:\n",
            "iran iranian jews countries america united deal war american states\n",
            "Topic 27:\n",
            "ban muslims isis muslim travel safe religious america americans terrorism\n",
            "Topic 28:\n",
            "israel jews jewish bank minister west prime police city official\n",
            "Topic 29:\n",
            "abortion policy said groups services health life movement funding city\n",
            "Topic 30:\n",
            "refugees refugee muslim syrian countries united states jews said muslims\n",
            "Topic 31:\n",
            "tillerson state rule foreign oil interests department business companies company\n",
            "Topic 32:\n",
            "gorsuch court supreme law constitutional judges judge justice constitution conservative\n",
            "Topic 33:\n",
            "space mars earth company private industry image successful figures agency\n",
            "Topic 34:\n",
            "iraq syria syrian isis military war government trip oil forces\n",
            "Topic 35:\n",
            "spencer movement white david new party series twitter young night\n",
            "Topic 36:\n",
            "hair women body american cut look form woman white growth\n",
            "Topic 37:\n",
            "breitbart bannon miller site campaign white said news group chief\n",
            "Topic 38:\n",
            "women march said protest crowd woman inauguration saturday men washington\n",
            "Topic 39:\n",
            "immigrants american growth percent economic americans immigration states united countries\n"
          ],
          "name": "stdout"
        }
      ]
    },
    {
      "cell_type": "code",
      "metadata": {
        "id": "a3x-fzGzl0GS",
        "colab": {
          "base_uri": "https://localhost:8080/"
        },
        "outputId": "0fb07118-90d8-4f20-d294-5c641eb52c47"
      },
      "source": [
        "import pandas as pd\n",
        "\n",
        "#Sample \n",
        "sample = \"\"\"\n",
        "  golf resorts lose a lot of money. According to a bombshell New York Times report published last year, the 15 courses he owns around the world have lost over $315 million over the past 20 years. The interesting question is why does Trump hang on to so many money-losing enterprises?\n",
        "Much about Trump's financial arrangements remains a mystery — partly because privately listed companies in the US can largely avoid public scrutiny — though investigations into whether Trump committed bank and tax fraud may reveal more.\n",
        "\"\"\" \n",
        "sample_clean = clean_text(sample)\n",
        "sample_lem = lemmatizer(sample_clean)\n",
        "sample_all_clean = sample_lem.replace('-PRON-', '')\n",
        "# Transform the TF-IDF\n",
        "test = tfidf_vectorizer.transform([sample_all_clean])\n",
        "#  Transform the TF-IDF: nmf_features\n",
        "nmf_features = nmf.transform(test)\n",
        " \n",
        "\n",
        "def display_topic_of_sample(model, feature_names, no_top_words, topic_name):\n",
        "    for topic_idx, topic in enumerate(model.components_):\n",
        "      if topic_name==topic_idx:\n",
        "        print (\"Topic %d:\" % (topic_idx))\n",
        "        print (\" \".join([feature_names[i]\n",
        "                        for i in topic.argsort()[:-no_top_words - 1:-1]]))\n",
        "\n",
        "display_topic_of_sample(nmf, tfidf_feature_names, no_top_words, nmf.transform(test).argmax(axis=1))\n"
      ],
      "execution_count": 109,
      "outputs": [
        {
          "output_type": "stream",
          "text": [
            "Topic 5:\n",
            "trump company business organization hotel president conflicts financial contents table\n"
          ],
          "name": "stdout"
        }
      ]
    },
    {
      "cell_type": "code",
      "metadata": {
        "id": "c5AABDVxnP8M",
        "colab": {
          "base_uri": "https://localhost:8080/"
        },
        "outputId": "63faed0c-a335-4223-819f-51627a7d2869"
      },
      "source": [
        "def display_topics_of_sample(model, feature_names, no_top_words, topic_names , prct):\n",
        "  y=39\n",
        "  for x in range(5):\n",
        "    topic_name = topic_names[0][y]\n",
        "    y = y-1  \n",
        "    for topic_idx, topic in enumerate(model.components_):\n",
        "      if topic_name == topic_idx:\n",
        "        print (\"Topic percentage %\" , prct[0][topic_name])\n",
        "        print (\" \".join([feature_names[i]\n",
        "                        for i in topic.argsort()[:-no_top_words - 1:-1]]))\n",
        "\n",
        "prct = nmf.transform(test)*100\n",
        "display_topics_of_sample(nmf, tfidf_feature_names, no_top_words, nmf.transform(test).argsort(axis=1), prct)"
      ],
      "execution_count": 111,
      "outputs": [
        {
          "output_type": "stream",
          "text": [
            "Topic percentage % 16.64706122981607\n",
            "trump company business organization hotel president conflicts financial contents table\n",
            "Topic percentage % 13.599611089070027\n",
            "fraud voter vote claims states investigation claim evidence data popular\n",
            "Topic percentage % 8.22988252391742\n",
            "tax border plan trade climate companies policy percent pay wall\n",
            "Topic percentage % 4.198352493127996\n",
            "trump president campaign said administration press inauguration house donald america\n",
            "Topic percentage % 2.577673815707336\n",
            "people like just time new way years think don said\n"
          ],
          "name": "stdout"
        }
      ]
    }
  ]
}